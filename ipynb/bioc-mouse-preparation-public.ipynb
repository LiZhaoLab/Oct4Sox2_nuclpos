{
 "cells": [
  {
   "cell_type": "markdown",
   "metadata": {},
   "source": [
    "This R/Bioconductor notebook is the first of 2 parts for the analysis of mouse data presented in **Figure 6**. This notebook ingests the location of ChIP-seq peaks (either called via MACS2 from Whyte *et al* for mESCs, or downloaded directly from the GEO (Matsuda *et al*) for mEpiSCs), and outputs various intermediate files for further processing in FIMO and by my own scripts.\n",
    "\n",
    "# Initialization"
   ]
  },
  {
   "cell_type": "code",
   "execution_count": 1,
   "metadata": {},
   "outputs": [],
   "source": [
    "# for my sanity - map some function names that I think exist to what actually exist\n",
    "nrows <- nrow\n",
    "ncols <- ncol\n",
    "len <- length"
   ]
  },
  {
   "cell_type": "code",
   "execution_count": 2,
   "metadata": {},
   "outputs": [
    {
     "name": "stderr",
     "output_type": "stream",
     "text": [
      "Loading required package: GenomicRanges\n",
      "Loading required package: stats4\n",
      "Loading required package: BiocGenerics\n",
      "Loading required package: parallel\n",
      "\n",
      "Attaching package: ‘BiocGenerics’\n",
      "\n",
      "The following objects are masked from ‘package:parallel’:\n",
      "\n",
      "    clusterApply, clusterApplyLB, clusterCall, clusterEvalQ,\n",
      "    clusterExport, clusterMap, parApply, parCapply, parLapply,\n",
      "    parLapplyLB, parRapply, parSapply, parSapplyLB\n",
      "\n",
      "The following objects are masked from ‘package:stats’:\n",
      "\n",
      "    IQR, mad, sd, var, xtabs\n",
      "\n",
      "The following objects are masked from ‘package:base’:\n",
      "\n",
      "    anyDuplicated, append, as.data.frame, cbind, colMeans, colnames,\n",
      "    colSums, do.call, duplicated, eval, evalq, Filter, Find, get, grep,\n",
      "    grepl, intersect, is.unsorted, lapply, lengths, Map, mapply, match,\n",
      "    mget, order, paste, pmax, pmax.int, pmin, pmin.int, Position, rank,\n",
      "    rbind, Reduce, rowMeans, rownames, rowSums, sapply, setdiff, sort,\n",
      "    table, tapply, union, unique, unsplit, which, which.max, which.min\n",
      "\n",
      "Loading required package: S4Vectors\n",
      "\n",
      "Attaching package: ‘S4Vectors’\n",
      "\n",
      "The following object is masked from ‘package:base’:\n",
      "\n",
      "    expand.grid\n",
      "\n",
      "Loading required package: IRanges\n",
      "Loading required package: GenomeInfoDb\n",
      "Loading required package: Biostrings\n",
      "Loading required package: XVector\n",
      "\n",
      "Attaching package: ‘Biostrings’\n",
      "\n",
      "The following object is masked from ‘package:base’:\n",
      "\n",
      "    strsplit\n",
      "\n",
      "Loading required package: BSgenome\n",
      "Loading required package: GenomicFeatures\n",
      "Loading required package: AnnotationDbi\n",
      "Loading required package: Biobase\n",
      "Welcome to Bioconductor\n",
      "\n",
      "    Vignettes contain introductory material; view with\n",
      "    'browseVignettes()'. To cite Bioconductor, see\n",
      "    'citation(\"Biobase\")', and for packages 'citation(\"pkgname\")'.\n",
      "\n",
      "Loading required package: VariantAnnotation\n",
      "Loading required package: SummarizedExperiment\n",
      "Loading required package: DelayedArray\n",
      "Loading required package: matrixStats\n",
      "\n",
      "Attaching package: ‘matrixStats’\n",
      "\n",
      "The following objects are masked from ‘package:Biobase’:\n",
      "\n",
      "    anyMissing, rowMedians\n",
      "\n",
      "\n",
      "Attaching package: ‘DelayedArray’\n",
      "\n",
      "The following objects are masked from ‘package:matrixStats’:\n",
      "\n",
      "    colMaxs, colMins, colRanges, rowMaxs, rowMins, rowRanges\n",
      "\n",
      "The following object is masked from ‘package:Biostrings’:\n",
      "\n",
      "    type\n",
      "\n",
      "The following object is masked from ‘package:base’:\n",
      "\n",
      "    apply\n",
      "\n",
      "Loading required package: Rsamtools\n",
      "\n",
      "Attaching package: ‘VariantAnnotation’\n",
      "\n",
      "The following object is masked from ‘package:base’:\n",
      "\n",
      "    tabulate\n",
      "\n",
      "Loading required package: GenomicAlignments\n"
     ]
    }
   ],
   "source": [
    "library(tracktables)\n",
    "\n",
    "library(rtracklayer)\n",
    "library(HelloRanges)"
   ]
  },
  {
   "cell_type": "code",
   "execution_count": 3,
   "metadata": {},
   "outputs": [],
   "source": [
    "library(GenomicFeatures)"
   ]
  },
  {
   "cell_type": "code",
   "execution_count": 4,
   "metadata": {},
   "outputs": [],
   "source": [
    "library(BSgenome.Mmusculus.UCSC.mm9)"
   ]
  },
  {
   "cell_type": "code",
   "execution_count": 5,
   "metadata": {},
   "outputs": [
    {
     "name": "stderr",
     "output_type": "stream",
     "text": [
      "\n",
      "Attaching package: ‘heatmaps’\n",
      "\n",
      "The following object is masked from ‘package:SummarizedExperiment’:\n",
      "\n",
      "    metadata<-\n",
      "\n",
      "The following object is masked from ‘package:AnnotationDbi’:\n",
      "\n",
      "    metadata\n",
      "\n",
      "The following objects are masked from ‘package:S4Vectors’:\n",
      "\n",
      "    metadata, metadata<-\n",
      "\n",
      "The following object is masked from ‘package:base’:\n",
      "\n",
      "    scale\n",
      "\n"
     ]
    }
   ],
   "source": [
    "library(heatmaps)"
   ]
  },
  {
   "cell_type": "code",
   "execution_count": 6,
   "metadata": {},
   "outputs": [],
   "source": [
    "library(TxDb.Mmusculus.UCSC.mm9.knownGene)"
   ]
  },
  {
   "cell_type": "code",
   "execution_count": 7,
   "metadata": {},
   "outputs": [],
   "source": [
    "mouse_transcripts <- transcripts(TxDb.Mmusculus.UCSC.mm9.knownGene, columns=c(\"tx_id\", \"tx_name\"))\n",
    "mouse_transcripts <- keepStandardChromosomes(mouse_transcripts, pruning.mode = 'tidy')\n",
    "# drop MT\n",
    "mouse_transcripts <- mouse_transcripts[seqnames(mouse_transcripts) != \"chrM\"]\n",
    "mouse_tss <- resize(mouse_transcripts, width=1, fix='start')"
   ]
  },
  {
   "cell_type": "code",
   "execution_count": 8,
   "metadata": {},
   "outputs": [],
   "source": [
    "mm9info <- seqinfo(BSgenome.Mmusculus.UCSC.mm9)"
   ]
  },
  {
   "cell_type": "code",
   "execution_count": 9,
   "metadata": {},
   "outputs": [],
   "source": [
    "mouse_tss_2000 <- resize(mouse_tss, width = 2000, fix='center')\n",
    "mouse_tss_2000 <- trim(mouse_tss_2000)"
   ]
  },
  {
   "cell_type": "markdown",
   "metadata": {},
   "source": [
    "# EpiSCs\n",
    "\n",
    "BED files were downloaded directly from the NCBI GEO (Sox2: [`GSM1924746`](https://www.ncbi.nlm.nih.gov/geo/query/acc.cgi?acc=GSM1924746); Oct4: [`GSM1924747`](https://www.ncbi.nlm.nih.gov/geo/query/acc.cgi?acc=GSM1924747))."
   ]
  },
  {
   "cell_type": "code",
   "execution_count": 10,
   "metadata": {},
   "outputs": [],
   "source": [
    "Epi_SOX_peaks <- import(\"~/SoxOct/mouse/EpiSC_chip/GSM1924746_SOX2peaks.bed\")\n",
    "Epi_OCT_peaks <- import(\"~/SoxOct/mouse/EpiSC_chip/GSM1924747_POU5F1peaks.bed\")\n",
    "\n",
    "Epi_SOX_peaks <- keepStandardChromosomes(Epi_SOX_peaks, pruning.mode = 'coarse')\n",
    "Epi_OCT_peaks <- keepStandardChromosomes(Epi_OCT_peaks, pruning.mode = 'coarse')\n",
    "\n",
    "#rename peak names to avoid surprise problems\n",
    "Epi_SOX_peaks$name <- paste0(Epi_SOX_peaks$name, \"_SOX\")\n",
    "Epi_OCT_peaks$name <- paste0(Epi_OCT_peaks$name, \"_OCT\")\n",
    "\n",
    "# drop MT chromosome\n",
    "Epi_SOX_peaks <- Epi_SOX_peaks[seqnames(Epi_SOX_peaks) != \"chrM\"]\n",
    "Epi_OCT_peaks <- Epi_OCT_peaks[seqnames(Epi_OCT_peaks) != \"chrM\"]\n",
    "\n",
    "# sort the seqlevels... because we have to?\n",
    "Epi_SOX_peaks <- sortSeqlevels(Epi_SOX_peaks)\n",
    "Epi_OCT_peaks <- sortSeqlevels(Epi_OCT_peaks)\n",
    "\n",
    "seqinfo(Epi_SOX_peaks) <- mm9info\n",
    "seqinfo(Epi_OCT_peaks) <- mm9info"
   ]
  },
  {
   "cell_type": "code",
   "execution_count": 12,
   "metadata": {},
   "outputs": [
    {
     "data": {
      "text/plain": [
       "GRanges object with 2576 ranges and 2 metadata columns:\n",
       "         seqnames                 ranges strand |                  name\n",
       "            <Rle>              <IRanges>  <Rle> |           <character>\n",
       "     [1]     chr1     [3068005, 3068005]      * |    CHIP_SOXOCT_peak_1\n",
       "     [2]     chr1     [3754132, 3754132]      * |    CHIP_SOXOCT_peak_2\n",
       "     [3]     chr1     [5645812, 5645812]      * |    CHIP_SOXOCT_peak_3\n",
       "     [4]     chr1     [7303644, 7303644]      * |    CHIP_SOXOCT_peak_4\n",
       "     [5]     chr1     [7767041, 7767041]      * |    CHIP_SOXOCT_peak_5\n",
       "     ...      ...                    ...    ... .                   ...\n",
       "  [2572]     chrX [157937488, 157937488]      * | CHIP_SOXOCT_peak_2572\n",
       "  [2573]     chrX [158004657, 158004657]      * | CHIP_SOXOCT_peak_2573\n",
       "  [2574]     chrX [162473875, 162473875]      * | CHIP_SOXOCT_peak_2574\n",
       "  [2575]     chrX [164322806, 164322806]      * | CHIP_SOXOCT_peak_2575\n",
       "  [2576]     chrX [165675253, 165675253]      * | CHIP_SOXOCT_peak_2576\n",
       "             score\n",
       "         <numeric>\n",
       "     [1]    226.61\n",
       "     [2]    130.81\n",
       "     [3]     60.82\n",
       "     [4]    101.82\n",
       "     [5]     52.33\n",
       "     ...       ...\n",
       "  [2572]     51.03\n",
       "  [2573]    226.18\n",
       "  [2574]     51.32\n",
       "  [2575]     70.01\n",
       "  [2576]    174.75\n",
       "  -------\n",
       "  seqinfo: 35 sequences (1 circular) from mm9 genome"
      ]
     },
     "metadata": {},
     "output_type": "display_data"
    }
   ],
   "source": [
    "# add a stricter tandem definition -- expand the width to 200 around each peak, then intersect, then use that downstream\n",
    "Epi_tandem_peaks <- subsetByOverlaps(resize(Epi_SOX_peaks, width=400, fix='center'), resize(Epi_OCT_peaks,width = 400, fix='center'))\n",
    "#resize to be width 1, centered (so it's compatible w downstream code)\n",
    "Epi_tandem_peaks <- resize(Epi_tandem_peaks, width = 1, fix = 'center')\n",
    "Epi_tandem_peaks$name <- paste0(\"CHIP_SOXOCT_peak_\", 1:len(Epi_tandem_peaks))\n",
    "Epi_tandem_peaks"
   ]
  },
  {
   "cell_type": "code",
   "execution_count": 13,
   "metadata": {},
   "outputs": [],
   "source": [
    "writeDNAtofile <- function(grange, path){\n",
    "    # map the seqlevels back to UCSC\n",
    "    #grforexport <- renameSeqlevels(grange, mapSeqlevels(seqlevels(grange), \"UCSC\"))\n",
    "    grforexport <- grange\n",
    "    print(seqlevels(grforexport))\n",
    "\n",
    "    # add flanking 200 bp\n",
    "    DNAflank <- 200\n",
    "    print(paste0(\"flanking DNA: \", DNAflank))\n",
    "    grforexport <- grforexport + DNAflank\n",
    "    \n",
    "    grforexport <- trim(grforexport)\n",
    "    \n",
    "    DNAforexport <- getSeq(BSgenome.Mmusculus.UCSC.mm9, names = grforexport) #actual sequence lookup step\n",
    "    names(DNAforexport) <- mcols(grforexport)$name # add names so I know what it is\n",
    "    \n",
    "    print(DNAforexport)\n",
    "    \n",
    "    # write it out to disk\n",
    "    writeXStringSet(DNAforexport, filepath = path)\n",
    "}"
   ]
  },
  {
   "cell_type": "code",
   "execution_count": 16,
   "metadata": {},
   "outputs": [
    {
     "name": "stdout",
     "output_type": "stream",
     "text": [
      " [1] \"chr1\"         \"chr2\"         \"chr3\"         \"chr4\"         \"chr5\"        \n",
      " [6] \"chr6\"         \"chr7\"         \"chr8\"         \"chr9\"         \"chr10\"       \n",
      "[11] \"chr11\"        \"chr12\"        \"chr13\"        \"chr14\"        \"chr15\"       \n",
      "[16] \"chr16\"        \"chr17\"        \"chr18\"        \"chr19\"        \"chrX\"        \n",
      "[21] \"chrY\"         \"chrM\"         \"chr1_random\"  \"chr3_random\"  \"chr4_random\" \n",
      "[26] \"chr5_random\"  \"chr7_random\"  \"chr8_random\"  \"chr9_random\"  \"chr13_random\"\n",
      "[31] \"chr16_random\" \"chr17_random\" \"chrX_random\"  \"chrY_random\"  \"chrUn_random\"\n",
      "[1] \"flanking DNA: 200\"\n",
      "  A DNAStringSet instance of length 63678\n",
      "        width seq                                           names               \n",
      "    [1]  1401 ATGATGTCATCTTTCACTTTC...AGTAGAGAGGAACAGTTGCTG MACS_peak_1_SOX\n",
      "    [2]  1004 CTGTTTAGTTCCTGTTTCCAC...TTAAGTTTGGGAAGTTTTCTT MACS_peak_2_SOX\n",
      "    [3]  1035 CTCTTCTGGCTTTCATAGTCT...GGCAAGCTCTACTCTTGCAGC MACS_peak_3_SOX\n",
      "    [4]  1428 GAAAGGCATAGCCCAGATTAA...TATAGAGAGGAATAGGAAAAT MACS_peak_4_SOX\n",
      "    [5]  2524 TTCTGTGAGATTGTATGCTCT...GCAATCAATTTGGTGTTTCCT MACS_peak_5_SOX\n",
      "    ...   ... ...\n",
      "[63674]   861 GAGATGCAATGTGTGCTTTGA...GGGAGGAATTTCTTTTCTGGT MACS_peak_63736_SOX\n",
      "[63675]   825 AGAGGCTATGAAAGCCAGAAG...GAAGTTATGAAACAAATGGAC MACS_peak_63737_SOX\n",
      "[63676]  1039 GTCCAAGGGATAGGCCCAGAT...TGGCATAGGTGCCTATGTGGC MACS_peak_63738_SOX\n",
      "[63677]   918 GGAGTGGATGAGAATGAAGAT...CCTCCAAGAGGAACTCTCAAT MACS_peak_63739_SOX\n",
      "[63678]  1201 AACCATAGATGCGAGCATCAG...CACACAATAATAGTGGGAGAC MACS_peak_63740_SOX\n"
     ]
    }
   ],
   "source": [
    "writeDNAtofile(Epi_SOX_peaks, \"~/SoxOct/public/mouse/EpiSC_chip/Sox_peakseqs.fasta\")"
   ]
  },
  {
   "cell_type": "code",
   "execution_count": 17,
   "metadata": {},
   "outputs": [
    {
     "name": "stdout",
     "output_type": "stream",
     "text": [
      " [1] \"chr1\"         \"chr2\"         \"chr3\"         \"chr4\"         \"chr5\"        \n",
      " [6] \"chr6\"         \"chr7\"         \"chr8\"         \"chr9\"         \"chr10\"       \n",
      "[11] \"chr11\"        \"chr12\"        \"chr13\"        \"chr14\"        \"chr15\"       \n",
      "[16] \"chr16\"        \"chr17\"        \"chr18\"        \"chr19\"        \"chrX\"        \n",
      "[21] \"chrY\"         \"chrM\"         \"chr1_random\"  \"chr3_random\"  \"chr4_random\" \n",
      "[26] \"chr5_random\"  \"chr7_random\"  \"chr8_random\"  \"chr9_random\"  \"chr13_random\"\n",
      "[31] \"chr16_random\" \"chr17_random\" \"chrX_random\"  \"chrY_random\"  \"chrUn_random\"\n",
      "[1] \"flanking DNA: 200\"\n",
      "  A DNAStringSet instance of length 62387\n",
      "        width seq                                           names               \n",
      "    [1]   936 ATACTTTTTGTAAGCACTCTT...CTCTCCCTCTCCCTCTCCCTC MACS_peak_1_OCT\n",
      "    [2]  1059 CCTAATAAAAATAAATAAAAA...TTCTTATGAACATTCTGTTCA MACS_peak_2_OCT\n",
      "    [3]  1033 ATAGAACCACTAAAAGAAAAA...TAACTGTCAGATATTTGAAAA MACS_peak_3_OCT\n",
      "    [4]  1104 TCTCCTGGGTTTCAGTGTTCA...TCTTACCCTGAGCACTTCAGT MACS_peak_4_OCT\n",
      "    [5]  1445 TCAGTTCTTTGTTAAATATAT...GAGATTTTCTCAAACACTTCC MACS_peak_5_OCT\n",
      "    ...   ... ...\n",
      "[62383]  2704 ATAGTTCTAAACAAACCTTAC...TGAAAGACTGTATCTGGTAAC MACS_peak_62443_OCT\n",
      "[62384]  1285 AGATGCAGCAAAGAAATACCT...TGAGAAGGAGGTATAAAGCAA MACS_peak_62444_OCT\n",
      "[62385]  1083 CCTGTCTCCCATTTAATAATC...ATTCTTCTGAGCAGCTTTCTC MACS_peak_62445_OCT\n",
      "[62386]  1259 AGCCAACAGAGATTGTTTGTC...NNNNNNNNNNNNNNNNNNNNN MACS_peak_62446_OCT\n",
      "[62387]   972 CCTGTCTCCCATTTAATAATC...ACACCTTCAAAGGTTCTCCCT MACS_peak_62447_OCT\n"
     ]
    }
   ],
   "source": [
    "writeDNAtofile(Epi_OCT_peaks, \"~/SoxOct/public/mouse/EpiSC_chip/Oct_peakseqs.fasta\")"
   ]
  },
  {
   "cell_type": "code",
   "execution_count": 18,
   "metadata": {},
   "outputs": [
    {
     "name": "stdout",
     "output_type": "stream",
     "text": [
      " [1] \"chr1\"         \"chr2\"         \"chr3\"         \"chr4\"         \"chr5\"        \n",
      " [6] \"chr6\"         \"chr7\"         \"chr8\"         \"chr9\"         \"chr10\"       \n",
      "[11] \"chr11\"        \"chr12\"        \"chr13\"        \"chr14\"        \"chr15\"       \n",
      "[16] \"chr16\"        \"chr17\"        \"chr18\"        \"chr19\"        \"chrX\"        \n",
      "[21] \"chrY\"         \"chrM\"         \"chr1_random\"  \"chr3_random\"  \"chr4_random\" \n",
      "[26] \"chr5_random\"  \"chr7_random\"  \"chr8_random\"  \"chr9_random\"  \"chr13_random\"\n",
      "[31] \"chr16_random\" \"chr17_random\" \"chrX_random\"  \"chrY_random\"  \"chrUn_random\"\n",
      "[1] \"flanking DNA: 200\"\n",
      "  A DNAStringSet instance of length 2576\n",
      "       width seq                                            names               \n",
      "   [1]   401 CAAAAACTAACTCCAAATAGGT...AAATAAAATGGTGAATAAATA CHIP_SOXOCT_peak_1\n",
      "   [2]   401 TTGATAGTTACATTGTCATTGA...ATCTTTGTTTTGTCTTGTATA CHIP_SOXOCT_peak_2\n",
      "   [3]   401 ACCAGAAAGATCTCCCATCTTT...CCCAGAACCTGACACATAATA CHIP_SOXOCT_peak_3\n",
      "   [4]   401 CATTTGTTTTAGGATTTCGTCT...TTGAAGCACTCTGATCTGCCT CHIP_SOXOCT_peak_4\n",
      "   [5]   401 TCTCCACTCTCCATGAGAAAAG...TAGAAAAAGAAGCTTGAAAAT CHIP_SOXOCT_peak_5\n",
      "   ...   ... ...\n",
      "[2572]   401 GTTTTTATTTGTTTGTTTGCTT...ACTCAAGCTTGAACATTTTAA CHIP_SOXOCT_peak_...\n",
      "[2573]   401 GATGACTGTTTTCTTCATTTTG...GAAAAATACAGCCATAAAGCC CHIP_SOXOCT_peak_...\n",
      "[2574]   401 TGAAAATGCCTCCAGTGTTGAT...GGACCCCTGGTGGTGGGTTTA CHIP_SOXOCT_peak_...\n",
      "[2575]   401 GCATAGTGTCTCTCTGGTATAC...ACTTAATGTGATCTTCAACTG CHIP_SOXOCT_peak_...\n",
      "[2576]   401 CAATGCTGTATGCTTGTTTACT...AGAAAGAAATCTTTGAGAAAG CHIP_SOXOCT_peak_...\n"
     ]
    }
   ],
   "source": [
    "writeDNAtofile(Epi_tandem_peaks, \"~/SoxOct/public/mouse/EpiSC_chip/tandempeakseqs.fasta\")"
   ]
  },
  {
   "cell_type": "markdown",
   "metadata": {},
   "source": [
    "## CHIP-confirmed motif locations in genome (via FIMO)\n",
    "\n",
    "**Sox alone**: `/rugpfs/fs0/home/lzhao/.linuxbrew/opt/meme/bin/fimo --verbosity 3 --o ~/scratch/SoxOct/mouse/fimo/EpiSC_Sox2 ~/results/SoxOct/fimo/MA0143.3.meme ~/SoxOct/mouse/EpiSC_chip/Sox_peakseqs.fasta`\n",
    "\n",
    "Note that I use the human POU5F1 motif on mouse.\n",
    "\n",
    "**Oct alone**: `/rugpfs/fs0/home/lzhao/.linuxbrew/opt/meme/bin/fimo --verbosity 3 --o ~/scratch/SoxOct/mouse/fimo/EpiSC_Oct4 ~/results/SoxOct/fimo/MA1115.1.meme ~/SoxOct/mouse/EpiSC_chip/Oct_peakseqs.fasta`\n",
    "\n",
    "**tandem** : `/rugpfs/fs0/home/lzhao/.linuxbrew/opt/meme/bin/fimo --verbosity 3 --o ~/scratch/SoxOct/mouse/fimo/EpiSC_tandem ~/results/SoxOct/fimo/MA0142.1.meme ~/SoxOct/mouse/EpiSC_chip/tandempeakseqs.fasta`\n",
    "\n",
    "Next is to convert the FIMO coordinates back into genomic ones:\n",
    "\n",
    "general formula: genomic coordinate of a motif's start = genomic coordinate of a motif's peak window + FIMO-reported start coordinate - value of flanking DNA bp (generally 200) - 1 (due to 1-based indexing, likely in FIMO)\n",
    "\n",
    "## Output reference GTFs\n",
    "\n",
    "To do the conversion (in [`py3_motif-matching-mouse-public`](py3_motif-matching-mouse-public)), I need a reference GTF with the coordinates of the original peaks."
   ]
  },
  {
   "cell_type": "code",
   "execution_count": 19,
   "metadata": {},
   "outputs": [],
   "source": [
    "export(Epi_SOX_peaks, '~/SoxOct/public/mouse/EpiSC_chip/Sox_peaks.gtf')\n",
    "export(Epi_OCT_peaks, '~/SoxOct/public/mouse/EpiSC_chip/Oct_peaks.gtf')"
   ]
  },
  {
   "cell_type": "code",
   "execution_count": 20,
   "metadata": {},
   "outputs": [],
   "source": [
    "export(Epi_tandem_peaks, '~/SoxOct/public/mouse/EpiSC_chip/tandempeaks.gtf')"
   ]
  },
  {
   "cell_type": "markdown",
   "metadata": {},
   "source": [
    "# Whyte 2013 ChipSeq motifs\n",
    "\n",
    "I generated peaks via MACS2 from data in Whyte 2013."
   ]
  },
  {
   "cell_type": "code",
   "execution_count": 21,
   "metadata": {},
   "outputs": [],
   "source": [
    "SOX_peaks <- import(\"~/SoxOct/mouse/chipseq_Whyte2013/macs2-sox/Sox_summits.bed\")\n",
    "OCT_peaks <- import(\"~/SoxOct/mouse/chipseq_Whyte2013/macs2-oct/Oct_summits.bed\")\n",
    "\n",
    "SOX_peaks <- keepStandardChromosomes(SOX_peaks, pruning.mode = 'coarse')\n",
    "OCT_peaks <- keepStandardChromosomes(OCT_peaks, pruning.mode = 'coarse')\n",
    "\n",
    "#rename peak names to avoid surprise problems\n",
    "SOX_peaks$name <- paste0(SOX_peaks$name, \"_SOX\")\n",
    "OCT_peaks$name <- paste0(OCT_peaks$name, \"_OCT\")\n",
    "\n",
    "# drop MT chromosome\n",
    "SOX_peaks <- SOX_peaks[seqnames(SOX_peaks) != \"chrM\"]\n",
    "OCT_peaks <- OCT_peaks[seqnames(OCT_peaks) != \"chrM\"]\n",
    "\n",
    "# sort the seqlevels... because we have to?\n",
    "SOX_peaks <- sortSeqlevels(SOX_peaks)\n",
    "OCT_peaks <- sortSeqlevels(OCT_peaks)\n",
    "\n",
    "seqinfo(SOX_peaks) <- mm9info\n",
    "seqinfo(OCT_peaks) <- mm9info"
   ]
  },
  {
   "cell_type": "code",
   "execution_count": 22,
   "metadata": {},
   "outputs": [
    {
     "data": {
      "text/plain": [
       "GRanges object with 10245 ranges and 2 metadata columns:\n",
       "          seqnames                 ranges strand |                   name\n",
       "             <Rle>              <IRanges>  <Rle> |            <character>\n",
       "      [1]     chr1     [3053026, 3053026]      * |     CHIP_SOXOCT_peak_1\n",
       "      [2]     chr1     [3473094, 3473094]      * |     CHIP_SOXOCT_peak_2\n",
       "      [3]     chr1     [3671774, 3671774]      * |     CHIP_SOXOCT_peak_3\n",
       "      [4]     chr1     [3904336, 3904336]      * |     CHIP_SOXOCT_peak_4\n",
       "      [5]     chr1     [4141103, 4141103]      * |     CHIP_SOXOCT_peak_5\n",
       "      ...      ...                    ...    ... .                    ...\n",
       "  [10241]     chrX [161441290, 161441290]      * | CHIP_SOXOCT_peak_10241\n",
       "  [10242]     chrX [161765464, 161765464]      * | CHIP_SOXOCT_peak_10242\n",
       "  [10243]     chrX [162969929, 162969929]      * | CHIP_SOXOCT_peak_10243\n",
       "  [10244]     chrX [163057217, 163057217]      * | CHIP_SOXOCT_peak_10244\n",
       "  [10245]     chrX [166439502, 166439502]      * | CHIP_SOXOCT_peak_10245\n",
       "              score\n",
       "          <numeric>\n",
       "      [1]  64.49811\n",
       "      [2] 101.33052\n",
       "      [3]  26.74264\n",
       "      [4] 136.01550\n",
       "      [5]  59.06823\n",
       "      ...       ...\n",
       "  [10241]  18.99095\n",
       "  [10242]  22.47458\n",
       "  [10243]  26.95394\n",
       "  [10244] 161.91785\n",
       "  [10245]  14.86264\n",
       "  -------\n",
       "  seqinfo: 35 sequences (1 circular) from mm9 genome"
      ]
     },
     "metadata": {},
     "output_type": "display_data"
    }
   ],
   "source": [
    "# add a stricter tandem definition -- expand the width to 200 around each peak, then intersect, then use that downstream\n",
    "tandem_peaks <- subsetByOverlaps(resize(SOX_peaks, width=400, fix='center'), resize(OCT_peaks,width = 400, fix='center'))\n",
    "#resize to be width 1, centered (so it's compatible w downstream code)\n",
    "tandem_peaks <- resize(tandem_peaks, width = 1, fix = 'center')\n",
    "tandem_peaks$name <- paste0(\"CHIP_SOXOCT_peak_\", 1:len(tandem_peaks))\n",
    "tandem_peaks"
   ]
  },
  {
   "cell_type": "code",
   "execution_count": 23,
   "metadata": {},
   "outputs": [],
   "source": [
    "writeDNAtofile <- function(grange, path){\n",
    "    # map the seqlevels back to UCSC\n",
    "    #grforexport <- renameSeqlevels(grange, mapSeqlevels(seqlevels(grange), \"UCSC\"))\n",
    "    grforexport <- grange\n",
    "    print(seqlevels(grforexport))\n",
    "\n",
    "    # add flanking 200 bp\n",
    "    DNAflank <- 200\n",
    "    print(paste0(\"flanking DNA: \", DNAflank))\n",
    "    grforexport <- grforexport + DNAflank\n",
    "    \n",
    "    grforexport <- trim(grforexport)\n",
    "    \n",
    "    DNAforexport <- getSeq(BSgenome.Mmusculus.UCSC.mm9, names = grforexport) #actual sequence lookup step\n",
    "    names(DNAforexport) <- mcols(grforexport)$name # add names so I know what it is\n",
    "    \n",
    "    print(DNAforexport)\n",
    "    \n",
    "    # write it out to disk\n",
    "    writeXStringSet(DNAforexport, filepath = path)\n",
    "}"
   ]
  },
  {
   "cell_type": "code",
   "execution_count": 24,
   "metadata": {
    "scrolled": false
   },
   "outputs": [
    {
     "name": "stdout",
     "output_type": "stream",
     "text": [
      " [1] \"chr1\"         \"chr2\"         \"chr3\"         \"chr4\"         \"chr5\"        \n",
      " [6] \"chr6\"         \"chr7\"         \"chr8\"         \"chr9\"         \"chr10\"       \n",
      "[11] \"chr11\"        \"chr12\"        \"chr13\"        \"chr14\"        \"chr15\"       \n",
      "[16] \"chr16\"        \"chr17\"        \"chr18\"        \"chr19\"        \"chrX\"        \n",
      "[21] \"chrY\"         \"chrM\"         \"chr1_random\"  \"chr3_random\"  \"chr4_random\" \n",
      "[26] \"chr5_random\"  \"chr7_random\"  \"chr8_random\"  \"chr9_random\"  \"chr13_random\"\n",
      "[31] \"chr16_random\" \"chr17_random\" \"chrX_random\"  \"chrY_random\"  \"chrUn_random\"\n",
      "[1] \"flanking DNA: 200\"\n",
      "  A DNAStringSet instance of length 12133\n",
      "        width seq                                           names               \n",
      "    [1]   401 AGAAATAATGGAGGCCAAGAC...TTCAGTGTCTGTGGATTCTGT Sox_peak_1_SOX\n",
      "    [2]   401 GTCCAGTAGTCAAAATTCCTT...TCCTCTACCTAACACCTAAGT Sox_peak_2_SOX\n",
      "    [3]   401 CTTTGAATGTTCTTGTGAATA...TCCACGTTGGAGTGTGTGTTT Sox_peak_3_SOX\n",
      "    [4]   401 CTTTCAAAGCATGCATTACCA...CCATGGCTGCTGGACAGCTAC Sox_peak_4_SOX\n",
      "    [5]   401 TGCTGTTTGGAATGGAGGCCA...ACCAACAACCAAAAAAATAAT Sox_peak_5_SOX\n",
      "    ...   ... ...\n",
      "[12129]   401 CAACTTTCTTCTCCCACCATC...GAAGTAGCTAGTCCTAATTTT Sox_peak_11951_SOX\n",
      "[12130]   401 GAAGTGTTTGGGGGAAAGAGG...CAGAAAAGTAAACTAGGACAA Sox_peak_11952_SOX\n",
      "[12131]   401 ATGAGGAGGAAGTCGACGCTA...CATTACAACAGTAGCTAATTT Sox_peak_11953_SOX\n",
      "[12132]   401 AGGCAGCCGGATTCCTGAGTT...AGAGCTATCTGGAGATCCCCA Sox_peak_11954_SOX\n",
      "[12133]   401 AGTTTGGGGGTGTTTGGCTTT...CTCAGAAATTCACTCACAGTC Sox_peak_11955_SOX\n",
      " [1] \"chr1\"         \"chr2\"         \"chr3\"         \"chr4\"         \"chr5\"        \n",
      " [6] \"chr6\"         \"chr7\"         \"chr8\"         \"chr9\"         \"chr10\"       \n",
      "[11] \"chr11\"        \"chr12\"        \"chr13\"        \"chr14\"        \"chr15\"       \n",
      "[16] \"chr16\"        \"chr17\"        \"chr18\"        \"chr19\"        \"chrX\"        \n",
      "[21] \"chrY\"         \"chrM\"         \"chr1_random\"  \"chr3_random\"  \"chr4_random\" \n",
      "[26] \"chr5_random\"  \"chr7_random\"  \"chr8_random\"  \"chr9_random\"  \"chr13_random\"\n",
      "[31] \"chr16_random\" \"chr17_random\" \"chrX_random\"  \"chrY_random\"  \"chrUn_random\"\n",
      "[1] \"flanking DNA: 200\"\n",
      "  A DNAStringSet instance of length 21244\n",
      "        width seq                                           names               \n",
      "    [1]   401 CGAGAGAAATAATGGAGGCCA...AGATTTCAGTGTCTGTGGATT Oct_peak_1_OCT\n",
      "    [2]   401 TAACTACACTGATCAACATGT...AAAAGCAAAATAGTGATCAAC Oct_peak_2_OCT\n",
      "    [3]   401 CATTTTTGAGAAACTTCAGAC...CTTCCTTTCAGTTATATCAAG Oct_peak_3_OCT\n",
      "    [4]   401 GGCCACAGTCTGTATTTAACA...ATAATCATCTTTTCCCCTAAT Oct_peak_4_OCT\n",
      "    [5]   401 GACATGTTTCTGTTTAAGGCC...ATGCAAAACAAAAAAAGTAAC Oct_peak_5_OCT\n",
      "    ...   ... ...\n",
      "[21240]   401 GTGACCTCTGGGAGAGTTCAG...GCATTTTAGACAGGACTACAC Oct_peak_20730_OCT\n",
      "[21241]   401 CATGGTCATCCCCCAGCCTCA...CTCAGAAAATCACTCGCAGTC Oct_peak_20731_OCT\n",
      "[21242]   401 TCACACAGTTACGAGTTTGGG...CAGTCATCCCCCTGCCTCAGA Oct_peak_20732_OCT\n",
      "[21243]   401 CACAGTTCCGAGTTTGGGGGT...CATCCCCCTGCCTCAGAAATT Oct_peak_20733_OCT\n",
      "[21244]   401 GTTGTGACACACACACTGGGC...NNNNNNNNNNNNNNNNNNNNN Oct_peak_20734_OCT\n"
     ]
    }
   ],
   "source": [
    "writeDNAtofile(SOX_peaks, \"~/SoxOct/public/mouse/chipseq_Whyte2013/Sox_peakseqs.fasta\")\n",
    "\n",
    "writeDNAtofile(OCT_peaks, \"~/SoxOct/public/mouse/chipseq_Whyte2013/Oct_peakseqs.fasta\")"
   ]
  },
  {
   "cell_type": "code",
   "execution_count": 25,
   "metadata": {},
   "outputs": [
    {
     "name": "stdout",
     "output_type": "stream",
     "text": [
      " [1] \"chr1\"         \"chr2\"         \"chr3\"         \"chr4\"         \"chr5\"        \n",
      " [6] \"chr6\"         \"chr7\"         \"chr8\"         \"chr9\"         \"chr10\"       \n",
      "[11] \"chr11\"        \"chr12\"        \"chr13\"        \"chr14\"        \"chr15\"       \n",
      "[16] \"chr16\"        \"chr17\"        \"chr18\"        \"chr19\"        \"chrX\"        \n",
      "[21] \"chrY\"         \"chrM\"         \"chr1_random\"  \"chr3_random\"  \"chr4_random\" \n",
      "[26] \"chr5_random\"  \"chr7_random\"  \"chr8_random\"  \"chr9_random\"  \"chr13_random\"\n",
      "[31] \"chr16_random\" \"chr17_random\" \"chrX_random\"  \"chrY_random\"  \"chrUn_random\"\n",
      "[1] \"flanking DNA: 200\"\n",
      "  A DNAStringSet instance of length 10245\n",
      "        width seq                                           names               \n",
      "    [1]   401 GAGAAATAATGGAGGCCAAGA...TTTCAGTGTCTGTGGATTCTG CHIP_SOXOCT_peak_1\n",
      "    [2]   401 AGTCCAGTAGTCAAAATTCCT...ATCCTCTACCTAACACCTAAG CHIP_SOXOCT_peak_2\n",
      "    [3]   401 CCTTTCAAAGCATGCATTACC...CCCATGGCTGCTGGACAGCTA CHIP_SOXOCT_peak_3\n",
      "    [4]   401 CTGCTGTTTGGAATGGAGGCC...AACCAACAACCAAAAAAATAA CHIP_SOXOCT_peak_4\n",
      "    [5]   401 CTGTTTAAGGCCCCCAAAGTT...AAAAAAAGTAACAGTAAATTG CHIP_SOXOCT_peak_5\n",
      "    ...   ... ...\n",
      "[10241]   401 TCAACTTTCTTCTCCCACCAT...TGAAGTAGCTAGTCCTAATTT CHIP_SOXOCT_peak_...\n",
      "[10242]   401 TGAAGTGTTTGGGGGAAAGAG...TCAGAAAAGTAAACTAGGACA CHIP_SOXOCT_peak_...\n",
      "[10243]   401 GATGAGGAGGAAGTCGACGCT...ACATTACAACAGTAGCTAATT CHIP_SOXOCT_peak_...\n",
      "[10244]   401 AAGGCAGCCGGATTCCTGAGT...AAGAGCTATCTGGAGATCCCC CHIP_SOXOCT_peak_...\n",
      "[10245]   401 GAGTTTGGGGGTGTTTGGCTT...CCTCAGAAATTCACTCACAGT CHIP_SOXOCT_peak_...\n"
     ]
    }
   ],
   "source": [
    "writeDNAtofile(tandem_peaks, \"~/SoxOct/public/mouse/chipseq_Whyte2013/tandem_peakseqs.fasta\")"
   ]
  },
  {
   "cell_type": "markdown",
   "metadata": {},
   "source": [
    "## CHIP-confirmed motif locations in genome (via FIMO)\n",
    "\n",
    "**Sox alone**: `/rugpfs/fs0/home/lzhao/.linuxbrew/opt/meme/bin/fimo --verbosity 3 --o ~/scratch/SoxOct/mouse/fimo/Whyte_mESC_Sox2 ~/results/SoxOct/fimo/MA0143.3.meme ~/SoxOct/mouse/chipseq_Whyte2013/Sox_peakseqs.fasta`\n",
    "\n",
    "Note that I use the human POU5F1 motif on mouse.\n",
    "\n",
    "**Oct alone**: `/rugpfs/fs0/home/lzhao/.linuxbrew/opt/meme/bin/fimo --verbosity 3 --o ~/scratch/SoxOct/mouse/fimo/Whyte_mESC_Oct4 ~/results/SoxOct/fimo/MA1115.1.meme ~/SoxOct/mouse/chipseq_Whyte2013/Oct_peakseqs.fasta`\n",
    "\n",
    "**tandem peak**: `/rugpfs/fs0/home/lzhao/.linuxbrew/opt/meme/bin/fimo --verbosity 3 --o ~/scratch/SoxOct/mouse/fimo/Whyte_mESC_tandem ~/results/SoxOct/fimo/MA0142.1.meme ~/SoxOct/mouse/chipseq_Whyte2013/tandem_peakseqs.fasta`\n",
    "\n",
    "Next is to convert the FIMO coordinates back into genomic ones:\n",
    "\n",
    "general formula: genomic coordinate of a motif's start = genomic coordinate of a motif's peak window + FIMO-reported start coordinate - value of flanking DNA bp (generally 200) - 1 (due to 1-based indexing, likely in FIMO)\n",
    "\n",
    "## Output reference GTFs\n",
    "\n",
    "To do the conversion (in [`py3_motif-matching-mouse-public`](py3_motif-matching-mouse-public)), I need a reference GTF with the coordinates of the original peaks."
   ]
  },
  {
   "cell_type": "code",
   "execution_count": 26,
   "metadata": {},
   "outputs": [],
   "source": [
    "export(SOX_peaks, '~/SoxOct/public/mouse/chipseq_Whyte2013/Sox_peaks.gtf')\n",
    "export(OCT_peaks, '~/SoxOct/public/mouse/chipseq_Whyte2013/Oct_peaks.gtf')"
   ]
  },
  {
   "cell_type": "code",
   "execution_count": 27,
   "metadata": {},
   "outputs": [],
   "source": [
    "export(tandem_peaks, '~/SoxOct/public/mouse/chipseq_Whyte2013/tandem_peaks.gtf')"
   ]
  }
 ],
 "metadata": {
  "kernelspec": {
   "display_name": "R",
   "language": "R",
   "name": "ir"
  },
  "language_info": {
   "codemirror_mode": "r",
   "file_extension": ".r",
   "mimetype": "text/x-r-source",
   "name": "R",
   "pygments_lexer": "r",
   "version": "3.4.3"
  },
  "notify_time": "5",
  "toc": {
   "nav_menu": {},
   "number_sections": true,
   "sideBar": true,
   "skip_h1_title": false,
   "toc_cell": false,
   "toc_position": {
    "height": "547px",
    "left": "0px",
    "right": "1110px",
    "top": "110px",
    "width": "256px"
   },
   "toc_section_display": "block",
   "toc_window_display": true
  }
 },
 "nbformat": 4,
 "nbformat_minor": 2
}
