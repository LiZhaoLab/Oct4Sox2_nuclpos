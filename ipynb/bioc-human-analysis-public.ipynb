{
 "cells": [
  {
   "cell_type": "markdown",
   "metadata": {},
   "source": [
    "**revised for final release**"
   ]
  },
  {
   "cell_type": "markdown",
   "metadata": {},
   "source": [
    "This notebook is the second of 2 parts for the analysis of human data presented in Supplemental Figure 7. This notebook ingests the location of nucleosomes (from DANPOS dpos, filtered and converted by `danpos-xls-process.py`), the nucleosome positioning track (from DANPOS dpos, pre-processed by the somewhat misnamed `wig2rle.R`), and PF binding sites (processed from FIMO results via [`py3_motif-matching-human-public.ipynb`](py3_motif-matching-human-public.ipynb)), and outputs the final figures (though the file-writing cells have been disabled).\n",
    "\n",
    "**Warning** - this notebook requires significant computational resources and was originally run on a compute node of the Rockefeller High-Performance Computing environment. You should have at least 10 GB of RAM available to the R kernel (not just on the machine, as other programs will require their own memory) - most laptops will not have this much memory. I have observed my notebooks' memory usage peaking at as much as 80 GB of RAM (!).\n",
    "\n",
    "I suspect that the main culprit is the `strandedDistanceByNearest` call. I welcome suggestions to improve its decidedly inefficient iterative algorithmic structure, which was regrettably necessary to handle NAs."
   ]
  },
  {
   "cell_type": "markdown",
   "metadata": {},
   "source": [
    "## various initialization steps"
   ]
  },
  {
   "cell_type": "code",
   "execution_count": 16,
   "metadata": {},
   "outputs": [],
   "source": [
    "# for my sanity - map some function names that I think exist to what actually exist\n",
    "nrows <- nrow\n",
    "ncols <- ncol\n",
    "len <- length"
   ]
  },
  {
   "cell_type": "code",
   "execution_count": 1,
   "metadata": {},
   "outputs": [],
   "source": [
    "library(repr)\n",
    "options(repr.plot.width=6, repr.plot.height=3)\n",
    "library(ggplot2)\n",
    "options(warn=-1)"
   ]
  },
  {
   "cell_type": "code",
   "execution_count": 2,
   "metadata": {},
   "outputs": [
    {
     "name": "stderr",
     "output_type": "stream",
     "text": [
      "Loading required package: GenomicRanges\n",
      "Loading required package: stats4\n",
      "Loading required package: BiocGenerics\n",
      "Loading required package: parallel\n",
      "\n",
      "Attaching package: ‘BiocGenerics’\n",
      "\n",
      "The following objects are masked from ‘package:parallel’:\n",
      "\n",
      "    clusterApply, clusterApplyLB, clusterCall, clusterEvalQ,\n",
      "    clusterExport, clusterMap, parApply, parCapply, parLapply,\n",
      "    parLapplyLB, parRapply, parSapply, parSapplyLB\n",
      "\n",
      "The following objects are masked from ‘package:stats’:\n",
      "\n",
      "    IQR, mad, sd, var, xtabs\n",
      "\n",
      "The following objects are masked from ‘package:base’:\n",
      "\n",
      "    anyDuplicated, append, as.data.frame, basename, cbind, colMeans,\n",
      "    colnames, colSums, dirname, do.call, duplicated, eval, evalq,\n",
      "    Filter, Find, get, grep, grepl, intersect, is.unsorted, lapply,\n",
      "    lengths, Map, mapply, match, mget, order, paste, pmax, pmax.int,\n",
      "    pmin, pmin.int, Position, rank, rbind, Reduce, rowMeans, rownames,\n",
      "    rowSums, sapply, setdiff, sort, table, tapply, union, unique,\n",
      "    unsplit, which, which.max, which.min\n",
      "\n",
      "Loading required package: S4Vectors\n",
      "\n",
      "Attaching package: ‘S4Vectors’\n",
      "\n",
      "The following object is masked from ‘package:base’:\n",
      "\n",
      "    expand.grid\n",
      "\n",
      "Loading required package: IRanges\n",
      "Loading required package: GenomeInfoDb\n",
      "Loading required package: AnnotationDbi\n",
      "Loading required package: Biobase\n",
      "Welcome to Bioconductor\n",
      "\n",
      "    Vignettes contain introductory material; view with\n",
      "    'browseVignettes()'. To cite Bioconductor, see\n",
      "    'citation(\"Biobase\")', and for packages 'citation(\"pkgname\")'.\n",
      "\n",
      "Loading required package: BSgenome\n",
      "Loading required package: Biostrings\n",
      "Loading required package: XVector\n",
      "\n",
      "Attaching package: ‘Biostrings’\n",
      "\n",
      "The following object is masked from ‘package:base’:\n",
      "\n",
      "    strsplit\n",
      "\n",
      "\n",
      "Attaching package: ‘heatmaps’\n",
      "\n",
      "The following object is masked from ‘package:AnnotationDbi’:\n",
      "\n",
      "    metadata\n",
      "\n",
      "The following objects are masked from ‘package:S4Vectors’:\n",
      "\n",
      "    metadata, metadata<-\n",
      "\n",
      "The following object is masked from ‘package:base’:\n",
      "\n",
      "    scale\n",
      "\n"
     ]
    }
   ],
   "source": [
    "library(tracktables)\n",
    "library(rtracklayer)\n",
    "library(GenomicFeatures)\n",
    "library(BSgenome.Hsapiens.UCSC.hg38)\n",
    "library(grid)\n",
    "library(heatmaps)"
   ]
  },
  {
   "cell_type": "code",
   "execution_count": 3,
   "metadata": {},
   "outputs": [],
   "source": [
    "multiplot <- function(..., plotlist=NULL, file, cols=1, layout=NULL) {\n",
    "  # from Winston Chang's R Cookbook\n",
    "\n",
    "  # Make a list from the ... arguments and plotlist\n",
    "  plots <- c(list(...), plotlist)\n",
    "\n",
    "  numPlots = length(plots)\n",
    "\n",
    "  # If layout is NULL, then use 'cols' to determine layout\n",
    "  if (is.null(layout)) {\n",
    "    # Make the panel\n",
    "    # ncol: Number of columns of plots\n",
    "    # nrow: Number of rows needed, calculated from # of cols\n",
    "    layout <- matrix(seq(1, cols * ceiling(numPlots/cols)),\n",
    "                    ncol = cols, nrow = ceiling(numPlots/cols))\n",
    "  }\n",
    "\n",
    " if (numPlots==1) {\n",
    "    print(plots[[1]])\n",
    "\n",
    "  } else {\n",
    "    # Set up the page\n",
    "    grid.newpage()\n",
    "    pushViewport(viewport(layout = grid.layout(nrow(layout), ncol(layout))))\n",
    "\n",
    "    # Make each plot, in the correct location\n",
    "    for (i in 1:numPlots) {\n",
    "      # Get the i,j matrix positions of the regions that contain this subplot\n",
    "      matchidx <- as.data.frame(which(layout == i, arr.ind = TRUE))\n",
    "\n",
    "      print(plots[[i]], vp = viewport(layout.pos.row = matchidx$row,\n",
    "                                      layout.pos.col = matchidx$col))\n",
    "    }\n",
    "  }\n",
    "}"
   ]
  },
  {
   "cell_type": "code",
   "execution_count": 4,
   "metadata": {},
   "outputs": [
    {
     "data": {
      "text/plain": [
       "Seqinfo object with 25 sequences (1 circular) from hg38 genome:\n",
       "  seqnames seqlengths isCircular genome\n",
       "  1         248956422      FALSE   hg38\n",
       "  2         242193529      FALSE   hg38\n",
       "  3         198295559      FALSE   hg38\n",
       "  4         190214555      FALSE   hg38\n",
       "  5         181538259      FALSE   hg38\n",
       "  ...             ...        ...    ...\n",
       "  21         46709983      FALSE   hg38\n",
       "  22         50818468      FALSE   hg38\n",
       "  X         156040895      FALSE   hg38\n",
       "  Y          57227415      FALSE   hg38\n",
       "  MT            16569       TRUE   hg38"
      ]
     },
     "metadata": {},
     "output_type": "display_data"
    }
   ],
   "source": [
    "# get seqinfo (but also since the BSgenome is from UCSC, remap coordinates back to NCBI/ensembl)\n",
    "\n",
    "hg38info <- keepStandardChromosomes(seqinfo(BSgenome.Hsapiens.UCSC.hg38), pruning.mode = \"tidy\")\n",
    "newStyle <- mapSeqlevels(seqlevels(hg38info),\"NCBI\")\n",
    "hg38info <- (renameSeqlevels(hg38info, newStyle))\n",
    "hg38info"
   ]
  },
  {
   "cell_type": "markdown",
   "metadata": {},
   "source": [
    "## load motif locations into bioconductor\n",
    "\n",
    "general formula: genomic coordinate of a motif's start = genomic coordinate of a motif's peak window + FIMO-reported start coordinate - value of flanking DNA bp (generally 200) - 1 (due to 1-based indexing, likely in FIMO)"
   ]
  },
  {
   "cell_type": "code",
   "execution_count": 5,
   "metadata": {},
   "outputs": [],
   "source": [
    "std_Octmotifs   <- import(\"~/SoxOct/chipseq/Soufi2012/Oct_motifs_200.strand.bed\")\n",
    "std_Oct28motifs <- import(\"~/SoxOct/chipseq/Soufi2012/Oct28_motifs_200.strand.bed\")\n",
    "std_Oct42motifs <- import(\"~/SoxOct/chipseq/Soufi2012/Oct42_motifs_200.strand.bed\")\n",
    "\n",
    "std_Octmotifs_c   <- resize(std_Octmotifs  , width = 2, fix = 'center')\n",
    "std_Oct28motifs_c <- resize(std_Oct28motifs, width = 2, fix = 'center')\n",
    "std_Oct42motifs_c <- resize(std_Oct42motifs, width = 2, fix = 'center')\n",
    "\n",
    "std_Soxmotifs   <- import(\"~/SoxOct/chipseq/Soufi2012/Sox_motifs_200.strand.bed\")\n",
    "std_Sox74motifs <- import(\"~/SoxOct/chipseq/Soufi2012/Sox74_motifs_200.strand.bed\")\n",
    "\n",
    "std_Soxmotifs_c   <- resize(std_Soxmotifs  , width = 2, fix = 'center')\n",
    "std_Sox74motifs_c <- resize(std_Sox74motifs, width = 2, fix = 'center')\n",
    "\n",
    "std_outermotifs <- import(\"~/SoxOct/chipseq/Soufi2012/tandem_motifs_200.strand.bed\")\n",
    "std_outermotifs_c <- resize(std_outermotifs, width = 2, fix = 'center')"
   ]
  },
  {
   "cell_type": "markdown",
   "metadata": {},
   "source": [
    "## load nucleosome positions"
   ]
  },
  {
   "cell_type": "code",
   "execution_count": 6,
   "metadata": {},
   "outputs": [],
   "source": [
    "npeaks_h_p <- import(\"~/SoxOct/danpos-res/pooled/hESC-MNaseseq.smooth.positions.bedgraph\")\n",
    "\n",
    "# resize the nucleosome peaks (DANPOS hard-codes them to be 140 bp)\n",
    "npeaks_h_p_c <- resize(npeaks_h_p, width = 2, fix = \"center\")"
   ]
  },
  {
   "cell_type": "markdown",
   "metadata": {},
   "source": [
    "## define colors for graphing"
   ]
  },
  {
   "cell_type": "code",
   "execution_count": 7,
   "metadata": {},
   "outputs": [],
   "source": [
    "safered <- \"#920000\"\n",
    "safegreen <- \"#009292\"\n",
    "safeviolet <- \"#490092\""
   ]
  },
  {
   "cell_type": "markdown",
   "metadata": {},
   "source": [
    "## stranding"
   ]
  },
  {
   "cell_type": "code",
   "execution_count": 8,
   "metadata": {},
   "outputs": [],
   "source": [
    "strandedDistanceByNearest <- function(query, target){\n",
    "    # gets (non absolute) distance for each item in query on target\n",
    "    \n",
    "    # calculate the distance:\n",
    "    \n",
    "    ## note that precede actually returns the item in subject that the target PRECEDES, not the other way around!\n",
    "    #d_precede <- distance((target)[precede(subject = target, x = query)], query)\n",
    "    ## you'd think the above would work, but annoyingly sometimes you get an NA, and then the subsetting dies...\n",
    "    idx_precede <- precede(subject = target, x = query)\n",
    "    d_precede <- integer(length(query))\n",
    "    for (i in 1:length(query)){\n",
    "        index <- idx_precede[i]\n",
    "        \n",
    "        if (is.na(index)){\n",
    "            assign <- NA\n",
    "        } else {\n",
    "            assign <- distance(target[index],query[i])\n",
    "        }\n",
    "        \n",
    "        d_precede[i] <- assign\n",
    "    }\n",
    "    \n",
    "    ## the same goes for follow; the negation is so we correctly have negative distances\n",
    "    #d_follow  <- -distance((target)[follow(subject = target, x = query)], query)\n",
    "    \n",
    "    idx_follow <- follow(subject = target, x = query)\n",
    "    d_follow <- integer(length(query))\n",
    "    for (i in 1:length(query)){\n",
    "        index <- idx_follow[i]\n",
    "        \n",
    "        if (is.na(index)){\n",
    "            assign <- NA\n",
    "        } else {\n",
    "            assign <- -distance(target[index],query[i]) # note that here is the negation!\n",
    "        }\n",
    "        \n",
    "        d_follow[i] <- assign\n",
    "    }\n",
    "    \n",
    "    # compare precede vs. follow\n",
    "    # return the one with the biggest abs\n",
    "    # if one of them is null, the other wins by default; if both are null, return NA\n",
    "    # note that this is tremendously inelegant and likely to be slow!!!\n",
    "    \n",
    "    answer <- integer(length(query)) # pre-allocate a vector to make this less bad\n",
    "    for (i in 1:length(query)){\n",
    "        \n",
    "        \n",
    "        if (is.na(d_precede[i]) & !is.na(d_follow[i])){\n",
    "        # only the follow number is valid\n",
    "            select <- d_follow[i]\n",
    "        } else if (!is.na(d_precede[i]) & is.na(d_follow[i])){\n",
    "        # only the precede is valid\n",
    "            select <- d_precede[i]\n",
    "        } else if (is.na(d_precede[i]) & is.na(d_follow[i])){\n",
    "        # somehow both are invalid??\n",
    "            select <- NA\n",
    "        } else {\n",
    "        # both are presumably valid now\n",
    "            if (abs(d_follow[i]) < d_precede[i]) {\n",
    "                select <- d_follow[i]\n",
    "            } else select <- d_precede[i]\n",
    "            \n",
    "        }\n",
    "        answer[i] <- select\n",
    "    }\n",
    "    \n",
    "    return (answer)\n",
    "}"
   ]
  },
  {
   "cell_type": "code",
   "execution_count": 9,
   "metadata": {},
   "outputs": [],
   "source": [
    "strandeddens <- function(data, filter = 150, bw = 2, color=\"orchid4\",linetype=\"solid\"){\n",
    "    \n",
    "    df <- data.frame(x=data)\n",
    "    df <- data.frame(x=df[abs(df$x) <= filter,])\n",
    "    \n",
    "    plt <- ggplot() +\n",
    "            #geom_histogram(aes(y=..density..), binwidth=1, fill = 'gray') +\n",
    "            stat_density(data = df, aes(x=x), bw=bw, color = color, geom = 'line', linetype=linetype, size=.8)  +\n",
    "            theme_classic()                                    +\n",
    "            geom_vline(xintercept=73, linetype='dotted')  +\n",
    "            geom_vline(xintercept=-73, linetype='dotted') + \n",
    "            geom_vline(xintercept=0, linetype='dashed')   +\n",
    "            coord_cartesian(ylim = c(0,.007)) + \n",
    "            xlab(\"Relative distance (bp)\") +\n",
    "            theme(axis.title.x=element_text(size=rel(0.9))) +\n",
    "            theme(axis.title.y=element_text(size=rel(0.9))) +\n",
    "            theme(title=element_text(size=rel(0.8)))\n",
    "\n",
    "    plt \n",
    "    \n",
    "    return (plt)\n",
    "}"
   ]
  },
  {
   "cell_type": "code",
   "execution_count": 11,
   "metadata": {},
   "outputs": [],
   "source": [
    "unstrandeddens <- function(data, filter = 150, bw = 2, color = \"orchid4\", linetype=\"solid\",\n",
    "                            smoothleft=FALSE, smoothright=FALSE){\n",
    "    \n",
    "    df <- data.frame(x=data)\n",
    "    df <- data.frame(x=df[abs(df$x) <= filter,])\n",
    "    \n",
    "    # take the absolute value\n",
    "    df <- abs(df)\n",
    "    df <- rbind(df, data.frame(x=df[df$x ==0,])) # pads the zero position X2 \n",
    "                                # since it should be doubled to match everything else\n",
    "    if (smoothleft) {\n",
    "        nzeros <- mean(\n",
    "                        c(\n",
    "                          len(df[df$x==0,]),\n",
    "                          len(df[df$x==1,]),\n",
    "                          len(df[df$x==2,]),\n",
    "                          len(df[df$x==3,]),\n",
    "                          len(df[df$x==4,]),\n",
    "                          len(df[df$x==5,]),\n",
    "                          len(df[df$x==6,])))\n",
    "        #\n",
    "\n",
    "        pad_df <- data.frame(x=c(rep(-1,nzeros), \n",
    "                             rep(-2,nzeros),\n",
    "                             rep(-3,nzeros),\n",
    "                             rep(-4,nzeros),\n",
    "                             rep(-5,nzeros),\n",
    "                             rep(-6,nzeros),\n",
    "                             rep(-7,nzeros),\n",
    "                             rep(-8,nzeros),\n",
    "                             rep(-9,nzeros)))\n",
    "    \n",
    "        df  <- rbind(df, pad_df)   # pad to avoid the blip down at zero\n",
    "    }\n",
    "    \n",
    "    if (smoothright){\n",
    "        nends <- mean(\n",
    "                        c(\n",
    "                          len(df[df$x==filter  ,]),\n",
    "                          len(df[df$x==filter-1,]),\n",
    "                          len(df[df$x==filter-2,]),\n",
    "                          len(df[df$x==filter-3,]),\n",
    "                          len(df[df$x==filter-4,]),\n",
    "                          len(df[df$x==filter-5,]),\n",
    "                          len(df[df$x==filter-6,])))\n",
    "\n",
    "        #nends <- len(df[df$x==filter,]) # \n",
    "        pad_df <- data.frame(x=c(rep(filter+1,nends), \n",
    "                             rep(filter+2,nends),\n",
    "                             rep(filter+3,nends),\n",
    "                             rep(filter+4,nends),\n",
    "                             rep(filter+5,nends),\n",
    "                             rep(filter+6,nends),\n",
    "                             rep(filter+7,nends),\n",
    "                             rep(filter+8,nends),\n",
    "                             rep(filter+9,nends)))\n",
    "        df  <- rbind(df, pad_df)   # pad to avoid the blip down at other side\n",
    "    }\n",
    "\n",
    "    smoothdens <- density(df$x, bw=bw)\n",
    "    \n",
    "    smoothdata <- data.frame(x=smoothdens$x, y=smoothdens$y)\n",
    "    \n",
    "    plt <- ggplot(data=smoothdata) +\n",
    "            geom_line(aes(x=x, y=y), color = color,  \n",
    "                         linetype=linetype, size=.8)  +\n",
    "            theme_classic()                                    +\n",
    "            geom_vline(xintercept=73, linetype='dotted')  +\n",
    "            ##geom_vline(xintercept=-73, linetype='dotted') +\n",
    "            #geom_vline(xintercept=31, linetype='dotted')  +\n",
    "            #geom_vline(xintercept=36, linetype='dotted')  +\n",
    "            #geom_vline(xintercept=40, linetype='dotted')  +\n",
    "            #geom_vline(xintercept=64, linetype='dotted')  +\n",
    "            xlim(c(0,filter)) +\n",
    "            coord_cartesian(ylim = c(0,.012),\n",
    "                            xlim = c(0, filter)) + \n",
    "            xlab(\"Distance from dyad (bp)\") +\n",
    "            ylab(\"Density\") +\n",
    "            geom_vline(xintercept=0, linetype='dashed') +\n",
    "            theme(axis.title.x=element_text(size=rel(0.9))) +\n",
    "            theme(axis.title.y=element_text(size=rel(0.9))) +\n",
    "            theme(title=element_text(size=rel(0.75))) + \n",
    "            theme(text = element_text(family = 'Arial'))\n",
    "\n",
    "    plt \n",
    "    \n",
    "    return (plt)\n",
    "}"
   ]
  },
  {
   "cell_type": "markdown",
   "metadata": {},
   "source": [
    "## supplemental figure 7 (calculate distances)\n",
    "\n",
    "**warning** - this step is very slow!"
   ]
  },
  {
   "cell_type": "code",
   "execution_count": 12,
   "metadata": {},
   "outputs": [],
   "source": [
    "dist_strand_h_p_Sox    <- strandedDistanceByNearest(target = npeaks_h_p_c, query = std_Soxmotifs_c)\n",
    "dist_strand_h_p_Oct    <- strandedDistanceByNearest(target = npeaks_h_p_c, query = std_Octmotifs_c)"
   ]
  },
  {
   "cell_type": "code",
   "execution_count": 13,
   "metadata": {},
   "outputs": [],
   "source": [
    "dist_strand_h_p_Oct28    <- strandedDistanceByNearest(target = npeaks_h_p_c, query = std_Oct28motifs_c)\n",
    "dist_strand_h_p_Oct42    <- strandedDistanceByNearest(target = npeaks_h_p_c, query = std_Oct42motifs_c)\n",
    "dist_strand_h_p_Sox74    <- strandedDistanceByNearest(target = npeaks_h_p_c, query = std_Sox74motifs_c)"
   ]
  },
  {
   "cell_type": "code",
   "execution_count": 19,
   "metadata": {},
   "outputs": [],
   "source": [
    "plt_Sox <-   unstrandeddens(dist_strand_h_p_Sox,   filter = 150, bw=3,\n",
    "                             smoothleft=TRUE, smoothright=TRUE, color=safered)      +ggtitle('hESC Sox2')    \n",
    "plt_Oct <-   unstrandeddens(dist_strand_h_p_Oct,   filter = 150, bw=3,\n",
    "                             smoothleft=TRUE, smoothright=TRUE, color=safegreen)    +ggtitle('hESC Oct4')    \n",
    "\n",
    "plt_Oct28 <- unstrandeddens(dist_strand_h_p_Oct28, filter = 150, bw=3,\n",
    "                             smoothleft=TRUE, smoothright=TRUE, color=safegreen, linetype=\"31\") +ggtitle('Oct4 variant I')\n",
    "plt_Oct42 <- unstrandeddens(dist_strand_h_p_Oct42, filter = 150, bw=3,\n",
    "                             smoothleft=TRUE, smoothright=TRUE, color=safegreen, linetype=\"31\") +ggtitle('Oct4 variant II') \n",
    "plt_Sox74 <- unstrandeddens(dist_strand_h_p_Sox74, filter = 150, bw=3,\n",
    "                              smoothleft=TRUE, smoothright=TRUE, color=safered, linetype=\"31\")   +ggtitle('noncanonical Sox2') \n",
    "\n",
    "\n",
    "blankplt <- ggplot()"
   ]
  },
  {
   "cell_type": "markdown",
   "metadata": {},
   "source": [
    "### final figure"
   ]
  },
  {
   "cell_type": "code",
   "execution_count": 20,
   "metadata": {},
   "outputs": [
    {
     "name": "stderr",
     "output_type": "stream",
     "text": [
      "Scale for 'x' is already present. Adding another scale for 'x', which will\n",
      "replace the existing scale.\n"
     ]
    },
    {
     "data": {
      "image/png": "[encoded data removed]",
      "text/plain": [
       "plot without title"
      ]
     },
     "metadata": {},
     "output_type": "display_data"
    }
   ],
   "source": [
    "options(repr.plot.width=6, repr.plot.height=4)\n",
    "multiplot(  plt_Sox,\n",
    "          plt_Sox74,\n",
    "          blankplt,\n",
    "            plt_Oct,\n",
    "          plt_Oct28,\n",
    "          plt_Oct42 +xlim(3,150),\n",
    "          layout=matrix(c(1,2,3,4,5,6), nrow=2, byrow=TRUE))\n",
    "options(repr.plot.width=6, repr.plot.height=2)"
   ]
  },
  {
   "cell_type": "raw",
   "metadata": {},
   "source": [
    "setEPS()\n",
    "postscript(\"SF7_rev2.eps\", width = 6, height = 4)\n",
    "options(repr.plot.width=6, repr.plot.height=4)\n",
    "multiplot(  plt_Sox,\n",
    "          plt_Sox74,\n",
    "          blankplt,\n",
    "            plt_Oct,\n",
    "          plt_Oct28,\n",
    "          plt_Oct42 +xlim(3,150),\n",
    "          layout=matrix(c(1,2,3,4,5,6), nrow=2, byrow=TRUE))\n",
    "options(repr.plot.width=6, repr.plot.height=2)\n",
    "options(repr.plot.width=6, repr.plot.height=2)\n",
    "dev.off()"
   ]
  },
  {
   "cell_type": "markdown",
   "metadata": {},
   "source": [
    "## Stats\n",
    "\n",
    "### helper functions"
   ]
  },
  {
   "cell_type": "code",
   "execution_count": 21,
   "metadata": {},
   "outputs": [],
   "source": [
    "# helper\n",
    "\n",
    "mass <- function(dist, filter){\n",
    "    # takes a raw vector -- i.e. a raw dataset of distances -- and converts it to a freq table\n",
    "    df = data.frame(x=dist)\n",
    "    df = df[abs(df$x) <= filter,]\n",
    "    \n",
    "    return (as.data.frame(table(df), stringsAsFactors = FALSE))\n",
    "}\n",
    "\n",
    "moment  <- function(dist, filter, order=1){\n",
    "    \n",
    "    item <- mass(dist,filter)\n",
    "    return ((item$Freq %*% (as.numeric(item$df)^order)) / sum(item$Freq))\n",
    "}\n",
    "\n",
    "filterData <- function(dataset, minbound, maxbound){\n",
    "    \n",
    "    filter <- max(abs(minbound),abs(maxbound))\n",
    "    \n",
    "    counts <- mass(dataset, filter=filter)\n",
    "    \n",
    "    retval <- counts[as.numeric(counts$df) >= minbound & as.numeric(counts$df) <= maxbound,]\n",
    "    return (retval)\n",
    "}"
   ]
  },
  {
   "cell_type": "code",
   "execution_count": 22,
   "metadata": {},
   "outputs": [],
   "source": [
    "t_test_wrap_unstrand <- function(dataset, window=13){\n",
    "\n",
    "    #res <- t.test(filterData(dataset, minbound = 0, maxbound = (window-1))$Freq, \n",
    "    #               filterData(dataset, minbound = 36-floor((window-1)/2), \n",
    "    #                          maxbound = 36+ceiling((window-1)/2))$Freq)$p.value\n",
    "    #print(c(\"1/4 vs. dyad:\", res))\n",
    "    #\n",
    "    #res <- t.test(filterData(dataset, minbound =  73 - (window-1), maxbound = 73)$Freq, \n",
    "    #               filterData(dataset, minbound = 36-floor((window-1)/2), \n",
    "    #                          maxbound = 36+ceiling((window-1)/2))$Freq)$p.value\n",
    "    #print(c(\"1/4 vs. edge:\", res))\n",
    "    \n",
    "    res <- t.test(filterData(dataset, minbound =  73 - (window-1), maxbound = 73)$Freq, \n",
    "                   filterData(dataset, minbound = 0, maxbound = (window-1))$Freq)$p.value\n",
    "    print(c(\"dyad vs. edge:\", res))\n",
    "}"
   ]
  },
  {
   "cell_type": "code",
   "execution_count": 23,
   "metadata": {},
   "outputs": [],
   "source": [
    "unstrand <- function(data, filter = 150){\n",
    "    \n",
    "    df <- data.frame(x=data)\n",
    "    df <- data.frame(x=df[abs(df$x) <= filter,])\n",
    "    \n",
    "    # take the absolute value\n",
    "    df <- abs(df)\n",
    "    df <- rbind(df, data.frame(x=df[df$x ==0,]))\n",
    "    \n",
    "    return (df)\n",
    "}"
   ]
  },
  {
   "cell_type": "code",
   "execution_count": 25,
   "metadata": {
    "scrolled": false
   },
   "outputs": [
    {
     "name": "stdout",
     "output_type": "stream",
     "text": [
      "[1] \"Sox\"\n",
      "[1] \"dyad vs. edge:\"      \"0.00983497761689007\"\n",
      "[1] \"Oct\"\n",
      "[1] \"dyad vs. edge:\"    \"0.391982492301896\"\n",
      "[1] \"noncanonical Sox\"\n",
      "[1] \"dyad vs. edge:\"    \"0.660171430571145\"\n",
      "[1] \"noncanonical Oct42\"\n",
      "[1] \"dyad vs. edge:\"    \"0.505817652422867\"\n",
      "[1] \"noncanonical Oct28\"\n",
      "[1] \"dyad vs. edge:\"      \"4.0211559457006e-08\"\n"
     ]
    }
   ],
   "source": [
    "window=13\n",
    "\n",
    "print(\"Sox\")\n",
    "t_test_wrap_unstrand(unstrand(dist_strand_h_p_Sox), window=window)\n",
    "print(\"Oct\")\n",
    "t_test_wrap_unstrand(unstrand(dist_strand_h_p_Oct), window=window)\n",
    "\n",
    "print(\"noncanonical Sox\")\n",
    "t_test_wrap_unstrand(unstrand(dist_strand_h_p_Sox74), window=window)\n",
    "print(\"noncanonical Oct42\")\n",
    "t_test_wrap_unstrand(unstrand(dist_strand_h_p_Oct42), window=window)\n",
    "print(\"noncanonical Oct28\")\n",
    "t_test_wrap_unstrand(unstrand(dist_strand_h_p_Oct28), window=window)"
   ]
  },
  {
   "cell_type": "code",
   "execution_count": 26,
   "metadata": {},
   "outputs": [
    {
     "data": {
      "text/plain": [
       "R version 3.5.1 (2018-07-02)\n",
       "Platform: x86_64-conda_cos6-linux-gnu (64-bit)\n",
       "Running under: Red Hat Enterprise Linux Server 7.2 (Maipo)\n",
       "\n",
       "Matrix products: default\n",
       "BLAS/LAPACK: /rugpfs/fs0/zhao_lab/scratch/ezheng/.store/.miniconda3/lib/R/lib/libRblas.so\n",
       "\n",
       "locale:\n",
       "[1] en_US.UTF-8\n",
       "\n",
       "attached base packages:\n",
       " [1] grid      parallel  stats4    stats     graphics  grDevices utils    \n",
       " [8] datasets  methods   base     \n",
       "\n",
       "other attached packages:\n",
       " [1] heatmaps_1.6.0                    BSgenome.Hsapiens.UCSC.hg38_1.4.1\n",
       " [3] BSgenome_1.50.0                   Biostrings_2.50.2                \n",
       " [5] XVector_0.22.0                    GenomicFeatures_1.34.6           \n",
       " [7] AnnotationDbi_1.44.0              Biobase_2.42.0                   \n",
       " [9] rtracklayer_1.42.2                GenomicRanges_1.34.0             \n",
       "[11] GenomeInfoDb_1.18.2               IRanges_2.16.0                   \n",
       "[13] S4Vectors_0.20.1                  BiocGenerics_0.28.0              \n",
       "[15] tracktables_1.16.0                ggplot2_3.1.1                    \n",
       "[17] repr_0.19.2                      \n",
       "\n",
       "loaded via a namespace (and not attached):\n",
       " [1] httr_1.4.0                  bit64_0.9-7                \n",
       " [3] jsonlite_1.6                assertthat_0.2.1           \n",
       " [5] blob_1.1.1                  tiff_0.1-5                 \n",
       " [7] GenomeInfoDbData_1.2.0      Rsamtools_1.34.1           \n",
       " [9] progress_1.2.0              pillar_1.3.1               \n",
       "[11] RSQLite_2.1.1               lattice_0.20-38            \n",
       "[13] glue_1.3.1                  uuid_0.1-2                 \n",
       "[15] digest_0.6.18               RColorBrewer_1.1-2         \n",
       "[17] colorspace_1.4-1            htmltools_0.3.6            \n",
       "[19] Matrix_1.2-17               plyr_1.8.4                 \n",
       "[21] XML_3.98-1.12               pkgconfig_2.0.2            \n",
       "[23] biomaRt_2.38.0              RNifti_0.10.0              \n",
       "[25] zlibbioc_1.28.0             fftwtools_0.9-8            \n",
       "[27] purrr_0.3.2                 scales_1.0.0               \n",
       "[29] jpeg_0.1-8                  BiocParallel_1.16.6        \n",
       "[31] tibble_2.1.1                reportr_1.3.0              \n",
       "[33] EBImage_4.24.0              withr_2.1.2                \n",
       "[35] SummarizedExperiment_1.12.0 lazyeval_0.2.2             \n",
       "[37] magrittr_1.5                crayon_1.3.4               \n",
       "[39] memoise_1.1.0               evaluate_0.13              \n",
       "[41] tractor.base_3.3.0          ore_1.6.2                  \n",
       "[43] tools_3.5.1                 prettyunits_1.0.2          \n",
       "[45] hms_0.4.2                   matrixStats_0.54.0         \n",
       "[47] stringr_1.4.0               locfit_1.5-9.1             \n",
       "[49] munsell_0.5.0               plotrix_3.7-4              \n",
       "[51] DelayedArray_0.8.0          compiler_3.5.1             \n",
       "[53] rlang_0.3.2                 RCurl_1.95-4.12            \n",
       "[55] pbdZMQ_0.3-3                IRkernel_0.8.15            \n",
       "[57] htmlwidgets_1.3             labeling_0.3               \n",
       "[59] bitops_1.0-6                base64enc_0.1-3            \n",
       "[61] gtable_0.2.0                abind_1.4-5                \n",
       "[63] DBI_1.0.0                   R6_2.4.0                   \n",
       "[65] GenomicAlignments_1.18.1    dplyr_0.8.0.1              \n",
       "[67] bit_1.1-14                  KernSmooth_2.23-15         \n",
       "[69] stringi_1.4.3               IRdisplay_0.7.0            \n",
       "[71] Rcpp_1.0.1                  png_0.1-7                  \n",
       "[73] tidyselect_0.2.5           "
      ]
     },
     "metadata": {},
     "output_type": "display_data"
    }
   ],
   "source": [
    "sessionInfo()"
   ]
  },
  {
   "cell_type": "code",
   "execution_count": null,
   "metadata": {},
   "outputs": [],
   "source": []
  }
 ],
 "metadata": {
  "kernelspec": {
   "display_name": "R",
   "language": "R",
   "name": "ir"
  },
  "language_info": {
   "codemirror_mode": "r",
   "file_extension": ".r",
   "mimetype": "text/x-r-source",
   "name": "R",
   "pygments_lexer": "r",
   "version": "3.5.1"
  },
  "notify_time": "5",
  "toc": {
   "nav_menu": {},
   "number_sections": true,
   "sideBar": true,
   "skip_h1_title": false,
   "toc_cell": false,
   "toc_position": {
    "height": "547px",
    "left": "0px",
    "right": "1205px",
    "top": "110px",
    "width": "295px"
   },
   "toc_section_display": "block",
   "toc_window_display": true
  }
 },
 "nbformat": 4,
 "nbformat_minor": 2
}
