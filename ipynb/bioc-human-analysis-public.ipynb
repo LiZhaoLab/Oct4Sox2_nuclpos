{
 "cells": [
  {
   "cell_type": "markdown",
   "metadata": {},
   "source": [
    "This notebook is the second of 2 parts for the analysis of human data presented in Figure 6. This notebook ingests the location of nucleosomes (from DANPOS dpos, filtered and converted by `danpos-xls-process.py`), the nucleosome positioning track (from DANPOS dpos, pre-processed by the somewhat misnamed `wig2rle.R`), and PF binding sites (processed from FIMO results via [`py3_motif-matching-human-public.ipynb`](py3_motif-matching-human-public.ipynb)), and outputs the final figures (though the file-writing cells have been disabled).\n",
    "\n",
    "**Warning** - this notebook requires significant computational resources and was originally run on a compute node of the Rockefeller High-Performance Computing environment. You should have at least 10 GB of RAM available to the R kernel (not just on the machine, as other programs will require their own memory) - most laptops will not have this much memory. I have observed my notebooks' memory usage peaking at as much as 80 GB of RAM (!).\n",
    "\n",
    "I suspect that the main culprit is the `strandedDistanceByNearest` call. I welcome suggestions to improve its decidedly inefficient iterative algorithmic structure, which was regrettably necessary to handle NAs."
   ]
  },
  {
   "cell_type": "markdown",
   "metadata": {},
   "source": [
    "## various initialization steps"
   ]
  },
  {
   "cell_type": "code",
   "execution_count": 1,
   "metadata": {},
   "outputs": [],
   "source": [
    "# for my sanity - map some function names that I think exist to what actually exist\n",
    "nrows <- nrow\n",
    "ncols <- ncol\n",
    "len <- length"
   ]
  },
  {
   "cell_type": "code",
   "execution_count": 2,
   "metadata": {},
   "outputs": [],
   "source": [
    "library(repr)\n",
    "options(repr.plot.width=6, repr.plot.height=3)\n",
    "library(ggplot2)"
   ]
  },
  {
   "cell_type": "code",
   "execution_count": 3,
   "metadata": {},
   "outputs": [
    {
     "name": "stderr",
     "output_type": "stream",
     "text": [
      "Loading required package: GenomicRanges\n",
      "Loading required package: stats4\n",
      "Loading required package: BiocGenerics\n",
      "Loading required package: parallel\n",
      "\n",
      "Attaching package: ‘BiocGenerics’\n",
      "\n",
      "The following objects are masked from ‘package:parallel’:\n",
      "\n",
      "    clusterApply, clusterApplyLB, clusterCall, clusterEvalQ,\n",
      "    clusterExport, clusterMap, parApply, parCapply, parLapply,\n",
      "    parLapplyLB, parRapply, parSapply, parSapplyLB\n",
      "\n",
      "The following objects are masked from ‘package:stats’:\n",
      "\n",
      "    IQR, mad, sd, var, xtabs\n",
      "\n",
      "The following objects are masked from ‘package:base’:\n",
      "\n",
      "    anyDuplicated, append, as.data.frame, cbind, colMeans, colnames,\n",
      "    colSums, do.call, duplicated, eval, evalq, Filter, Find, get, grep,\n",
      "    grepl, intersect, is.unsorted, lapply, lengths, Map, mapply, match,\n",
      "    mget, order, paste, pmax, pmax.int, pmin, pmin.int, Position, rank,\n",
      "    rbind, Reduce, rowMeans, rownames, rowSums, sapply, setdiff, sort,\n",
      "    table, tapply, union, unique, unsplit, which, which.max, which.min\n",
      "\n",
      "Loading required package: S4Vectors\n",
      "\n",
      "Attaching package: ‘S4Vectors’\n",
      "\n",
      "The following object is masked from ‘package:base’:\n",
      "\n",
      "    expand.grid\n",
      "\n",
      "Loading required package: IRanges\n",
      "Loading required package: GenomeInfoDb\n",
      "Loading required package: AnnotationDbi\n",
      "Loading required package: Biobase\n",
      "Welcome to Bioconductor\n",
      "\n",
      "    Vignettes contain introductory material; view with\n",
      "    'browseVignettes()'. To cite Bioconductor, see\n",
      "    'citation(\"Biobase\")', and for packages 'citation(\"pkgname\")'.\n",
      "\n",
      "Loading required package: BSgenome\n",
      "Loading required package: Biostrings\n",
      "Loading required package: XVector\n",
      "\n",
      "Attaching package: ‘Biostrings’\n",
      "\n",
      "The following object is masked from ‘package:base’:\n",
      "\n",
      "    strsplit\n",
      "\n",
      "\n",
      "Attaching package: ‘heatmaps’\n",
      "\n",
      "The following object is masked from ‘package:AnnotationDbi’:\n",
      "\n",
      "    metadata\n",
      "\n",
      "The following objects are masked from ‘package:S4Vectors’:\n",
      "\n",
      "    metadata, metadata<-\n",
      "\n",
      "The following object is masked from ‘package:base’:\n",
      "\n",
      "    scale\n",
      "\n"
     ]
    }
   ],
   "source": [
    "library(tracktables)\n",
    "library(rtracklayer)\n",
    "library(GenomicFeatures)\n",
    "library(BSgenome.Hsapiens.UCSC.hg38)\n",
    "library(grid)\n",
    "library(heatmaps)"
   ]
  },
  {
   "cell_type": "code",
   "execution_count": 4,
   "metadata": {},
   "outputs": [],
   "source": [
    "multiplot <- function(..., plotlist=NULL, file, cols=1, layout=NULL) {\n",
    "  # from Winston Chang's R Cookbook\n",
    "\n",
    "  # Make a list from the ... arguments and plotlist\n",
    "  plots <- c(list(...), plotlist)\n",
    "\n",
    "  numPlots = length(plots)\n",
    "\n",
    "  # If layout is NULL, then use 'cols' to determine layout\n",
    "  if (is.null(layout)) {\n",
    "    # Make the panel\n",
    "    # ncol: Number of columns of plots\n",
    "    # nrow: Number of rows needed, calculated from # of cols\n",
    "    layout <- matrix(seq(1, cols * ceiling(numPlots/cols)),\n",
    "                    ncol = cols, nrow = ceiling(numPlots/cols))\n",
    "  }\n",
    "\n",
    " if (numPlots==1) {\n",
    "    print(plots[[1]])\n",
    "\n",
    "  } else {\n",
    "    # Set up the page\n",
    "    grid.newpage()\n",
    "    pushViewport(viewport(layout = grid.layout(nrow(layout), ncol(layout))))\n",
    "\n",
    "    # Make each plot, in the correct location\n",
    "    for (i in 1:numPlots) {\n",
    "      # Get the i,j matrix positions of the regions that contain this subplot\n",
    "      matchidx <- as.data.frame(which(layout == i, arr.ind = TRUE))\n",
    "\n",
    "      print(plots[[i]], vp = viewport(layout.pos.row = matchidx$row,\n",
    "                                      layout.pos.col = matchidx$col))\n",
    "    }\n",
    "  }\n",
    "}"
   ]
  },
  {
   "cell_type": "code",
   "execution_count": 5,
   "metadata": {},
   "outputs": [
    {
     "name": "stderr",
     "output_type": "stream",
     "text": [
      "Warning message in `seqlevels<-`(`*tmp*`, pruning.mode = pruning.mode, value = c(\"chr1\", :\n",
      "“'pruning.mode' is ignored in \"seqlevels<-\" method for Seqinfo objects”"
     ]
    },
    {
     "data": {
      "text/plain": [
       "Seqinfo object with 25 sequences (1 circular) from hg38 genome:\n",
       "  seqnames seqlengths isCircular genome\n",
       "  1         248956422      FALSE   hg38\n",
       "  2         242193529      FALSE   hg38\n",
       "  3         198295559      FALSE   hg38\n",
       "  4         190214555      FALSE   hg38\n",
       "  5         181538259      FALSE   hg38\n",
       "  ...             ...        ...    ...\n",
       "  21         46709983      FALSE   hg38\n",
       "  22         50818468      FALSE   hg38\n",
       "  X         156040895      FALSE   hg38\n",
       "  Y          57227415      FALSE   hg38\n",
       "  MT            16569       TRUE   hg38"
      ]
     },
     "metadata": {},
     "output_type": "display_data"
    }
   ],
   "source": [
    "# get seqinfo (but also since the BSgenome is from UCSC, remap coordinates back to NCBI/ensembl)\n",
    "\n",
    "hg38info <- keepStandardChromosomes(seqinfo(BSgenome.Hsapiens.UCSC.hg38), pruning.mode = \"tidy\")\n",
    "newStyle <- mapSeqlevels(seqlevels(hg38info),\"NCBI\")\n",
    "hg38info <- (renameSeqlevels(hg38info, newStyle))\n",
    "hg38info"
   ]
  },
  {
   "cell_type": "markdown",
   "metadata": {},
   "source": [
    "## load motif locations into bioconductor\n",
    "\n",
    "general formula: genomic coordinate of a motif's start = genomic coordinate of a motif's peak window + FIMO-reported start coordinate - value of flanking DNA bp (generally 200) - 1 (due to 1-based indexing, likely in FIMO)"
   ]
  },
  {
   "cell_type": "code",
   "execution_count": 12,
   "metadata": {},
   "outputs": [],
   "source": [
    "std_Octmotifs   <- import(\"~/SoxOct/Soufi2015/Oct_motifs_200.strand.bed\")\n",
    "std_Oct28motifs <- import(\"~/SoxOct/Soufi2015/OctNucHi28_motifs_200.strand.bed\")\n",
    "std_Oct42motifs <- import(\"~/SoxOct/Soufi2015/OctNucHi4_motifs_200.strand.bed\")\n",
    "\n",
    "std_Octmotifs_c   <- resize(std_Octmotifs  , width = 2, fix = 'center')\n",
    "std_Oct28motifs_c <- resize(std_Oct28motifs, width = 2, fix = 'center')\n",
    "std_Oct42motifs_c <- resize(std_Oct42motifs, width = 2, fix = 'center')\n",
    "\n",
    "std_Soxmotifs   <- import(\"~/SoxOct/Soufi2015/Sox_motifs_200.strand.bed\")\n",
    "std_Sox74motifs <- import(\"~/SoxOct/Soufi2015/SoxNucHi74_motifs_200.strand.bed\")\n",
    "\n",
    "std_Soxmotifs_c   <- resize(std_Soxmotifs  , width = 2, fix = 'center')\n",
    "std_Sox74motifs_c <- resize(std_Sox74motifs, width = 2, fix = 'center')\n",
    "\n",
    "std_outermotifs <- import(\"~/SoxOct/Soufi2015/outermotifs_200.strand.bed\")\n",
    "std_outermotifs_c <- resize(std_outermotifs, width = 2, fix = 'center')"
   ]
  },
  {
   "cell_type": "markdown",
   "metadata": {},
   "source": [
    "## load nucleosome positions"
   ]
  },
  {
   "cell_type": "code",
   "execution_count": 8,
   "metadata": {},
   "outputs": [],
   "source": [
    "npeaks_h_p <- import(\"~/SoxOct/danpos-res/pooled/hESC-MNaseseq.smooth.positions.bedgraph\")\n",
    "\n",
    "# resize the nucleosome peaks (DANPOS hard-codes them to be 140 bp)\n",
    "npeaks_h_p_c <- resize(npeaks_h_p, width = 2, fix = \"center\")"
   ]
  },
  {
   "cell_type": "markdown",
   "metadata": {},
   "source": [
    "## define colors for graphing"
   ]
  },
  {
   "cell_type": "code",
   "execution_count": 9,
   "metadata": {},
   "outputs": [],
   "source": [
    "safered <- \"#920000\"\n",
    "safegreen <- \"#009292\"\n",
    "safeviolet <- \"#490092\""
   ]
  },
  {
   "cell_type": "markdown",
   "metadata": {},
   "source": [
    "## stranding"
   ]
  },
  {
   "cell_type": "code",
   "execution_count": 10,
   "metadata": {},
   "outputs": [],
   "source": [
    "strandedDistanceByNearest <- function(query, target){\n",
    "    # gets (non absolute) distance for each item in query on target\n",
    "    \n",
    "    # calculate the distance:\n",
    "    \n",
    "    ## note that precede actually returns the item in subject that the target PRECEDES, not the other way around!\n",
    "    #d_precede <- distance((target)[precede(subject = target, x = query)], query)\n",
    "    ## you'd think the above would work, but annoyingly sometimes you get an NA, and then the subsetting dies...\n",
    "    idx_precede <- precede(subject = target, x = query)\n",
    "    d_precede <- integer(length(query))\n",
    "    for (i in 1:length(query)){\n",
    "        index <- idx_precede[i]\n",
    "        \n",
    "        if (is.na(index)){\n",
    "            assign <- NA\n",
    "        } else {\n",
    "            assign <- distance(target[index],query[i])\n",
    "        }\n",
    "        \n",
    "        d_precede[i] <- assign\n",
    "    }\n",
    "    \n",
    "    ## the same goes for follow; the negation is so we correctly have negative distances\n",
    "    #d_follow  <- -distance((target)[follow(subject = target, x = query)], query)\n",
    "    \n",
    "    idx_follow <- follow(subject = target, x = query)\n",
    "    d_follow <- integer(length(query))\n",
    "    for (i in 1:length(query)){\n",
    "        index <- idx_follow[i]\n",
    "        \n",
    "        if (is.na(index)){\n",
    "            assign <- NA\n",
    "        } else {\n",
    "            assign <- -distance(target[index],query[i]) # note that here is the negation!\n",
    "        }\n",
    "        \n",
    "        d_follow[i] <- assign\n",
    "    }\n",
    "    \n",
    "    # compare precede vs. follow\n",
    "    # return the one with the biggest abs\n",
    "    # if one of them is null, the other wins by default; if both are null, return NA\n",
    "    # note that this is tremendously inelegant and likely to be slow!!!\n",
    "    \n",
    "    answer <- integer(length(query)) # pre-allocate a vector to make this less bad\n",
    "    for (i in 1:length(query)){\n",
    "        \n",
    "        \n",
    "        if (is.na(d_precede[i]) & !is.na(d_follow[i])){\n",
    "        # only the follow number is valid\n",
    "            select <- d_follow[i]\n",
    "        } else if (!is.na(d_precede[i]) & is.na(d_follow[i])){\n",
    "        # only the precede is valid\n",
    "            select <- d_precede[i]\n",
    "        } else if (is.na(d_precede[i]) & is.na(d_follow[i])){\n",
    "        # somehow both are invalid??\n",
    "            select <- NA\n",
    "        } else {\n",
    "        # both are presumably valid now\n",
    "            if (abs(d_follow[i]) < d_precede[i]) {\n",
    "                select <- d_follow[i]\n",
    "            } else select <- d_precede[i]\n",
    "            \n",
    "        }\n",
    "        answer[i] <- select\n",
    "    }\n",
    "    \n",
    "    return (answer)\n",
    "}"
   ]
  },
  {
   "cell_type": "code",
   "execution_count": 11,
   "metadata": {},
   "outputs": [],
   "source": [
    "strandeddens <- function(data, filter = 150, bw = 2, color=\"orchid4\",linetype=\"solid\"){\n",
    "    \n",
    "    df <- data.frame(x=data)\n",
    "    df <- data.frame(x=df[abs(df$x) <= filter,])\n",
    "    \n",
    "    plt <- ggplot() +\n",
    "            #geom_histogram(aes(y=..density..), binwidth=1, fill = 'gray') +\n",
    "            stat_density(data = df, aes(x=x), bw=bw, color = color, geom = 'line', linetype=linetype, size=.8)  +\n",
    "            theme_classic()                                    +\n",
    "            geom_vline(xintercept=73, linetype='dotted')  +\n",
    "            geom_vline(xintercept=-73, linetype='dotted') + \n",
    "            geom_vline(xintercept=0, linetype='dashed')   +\n",
    "            coord_cartesian(ylim = c(0,.007)) + \n",
    "            xlab(\"Relative distance (bp)\") +\n",
    "            theme(axis.title.x=element_text(size=rel(0.9))) +\n",
    "            theme(axis.title.y=element_text(size=rel(0.9))) +\n",
    "            theme(title=element_text(size=rel(0.8)))\n",
    "\n",
    "    plt \n",
    "    \n",
    "    return (plt)\n",
    "}"
   ]
  },
  {
   "cell_type": "markdown",
   "metadata": {},
   "source": [
    "## calculate distances\n",
    "\n",
    "**warning** - this step is very slow!"
   ]
  },
  {
   "cell_type": "code",
   "execution_count": null,
   "metadata": {},
   "outputs": [],
   "source": [
    "dist_strand_h_p        <- strandedDistanceByNearest(target = npeaks_h_p_c, query = std_outermotifs_c)\n",
    "dist_strand_h_p_Sox    <- strandedDistanceByNearest(target = npeaks_h_p_c, query = std_Soxmotifs_c)\n",
    "dist_strand_h_p_Oct    <- strandedDistanceByNearest(target = npeaks_h_p_c, query = std_Octmotifs_c)\n",
    "\n",
    "dist_strand_h_p_Oct28    <- strandedDistanceByNearest(target = npeaks_h_p_c, query = std_Oct28motifs_c)\n",
    "dist_strand_h_p_Oct42    <- strandedDistanceByNearest(target = npeaks_h_p_c, query = std_Oct42motifs_c)\n",
    "dist_strand_h_p_Sox74    <- strandedDistanceByNearest(target = npeaks_h_p_c, query = std_Sox74motifs_c)"
   ]
  },
  {
   "cell_type": "markdown",
   "metadata": {},
   "source": [
    "### Figure 6D"
   ]
  },
  {
   "cell_type": "code",
   "execution_count": 14,
   "metadata": {},
   "outputs": [
    {
     "data": {
      "image/png": "[encoded data removed]",
      "text/plain": [
       "plot without title"
      ]
     },
     "metadata": {},
     "output_type": "display_data"
    }
   ],
   "source": [
    "plt_outer <- strandeddens(dist_strand_h_p,       filter = 150, bw=3)      +ggtitle('hESC OctSox') \n",
    "plt_Sox <-   strandeddens(dist_strand_h_p_Sox,   filter = 150, bw=3, color=safered)    +ggtitle('Sox2')    \n",
    "plt_Oct <-   strandeddens(dist_strand_h_p_Oct,   filter = 150, bw=3, color=safegreen)    +ggtitle('Oct4')    \n",
    "\n",
    "plt_Oct28 <- strandeddens(dist_strand_h_p_Oct28, filter = 150, bw=3, color=safegreen, linetype=\"31\") +ggtitle('noncanonical Oct4', subtitle='28% variant')\n",
    "plt_Oct42 <- strandeddens(dist_strand_h_p_Oct42, filter = 150, bw=3, color=safegreen, linetype=\"31\") +ggtitle('noncanonical Oct4', subtitle='42% variant') \n",
    "plt_Sox74 <- strandeddens(dist_strand_h_p_Sox74, filter = 150, bw=3, color=safered, linetype=\"31\") +ggtitle('noncanonical Sox2') \n",
    "\n",
    "options(repr.plot.width=4, repr.plot.height=6)\n",
    "multiplot(plt_Sox, plt_Sox74, plt_Oct, plt_Oct28, plt_Oct42, layout=matrix(c(1,2,3,0,4,5), nrow=3, byrow=TRUE))\n",
    "options(repr.plot.width=6, repr.plot.height=2)"
   ]
  },
  {
   "cell_type": "markdown",
   "metadata": {},
   "source": [
    "## Stats\n",
    "\n",
    "### KS wrapper"
   ]
  },
  {
   "cell_type": "code",
   "execution_count": 15,
   "metadata": {},
   "outputs": [
    {
     "name": "stderr",
     "output_type": "stream",
     "text": [
      "Loading required package: MASS\n",
      "\n",
      "Attaching package: ‘MASS’\n",
      "\n",
      "The following object is masked from ‘package:AnnotationDbi’:\n",
      "\n",
      "    select\n",
      "\n",
      "## \n",
      "##  Matching (Version 4.9-3, Build Date: 2018-05-03)\n",
      "##  See http://sekhon.berkeley.edu/matching for additional documentation.\n",
      "##  Please cite software as:\n",
      "##   Jasjeet S. Sekhon. 2011. ``Multivariate and Propensity Score Matching\n",
      "##   Software with Automated Balance Optimization: The Matching package for R.''\n",
      "##   Journal of Statistical Software, 42(7): 1-52. \n",
      "##\n",
      "\n"
     ]
    }
   ],
   "source": [
    "library(Matching)"
   ]
  },
  {
   "cell_type": "code",
   "execution_count": 16,
   "metadata": {},
   "outputs": [],
   "source": [
    "KSwrap <- function(x, y, filter){\n",
    "    \n",
    "    df1 = data.frame(x=x)\n",
    "    df1 = df1[abs(df1$x) <= filter,]\n",
    "    print(len(df1))\n",
    "    \n",
    "    df2 = data.frame(x=y)\n",
    "    df2 = df2[abs(df2$x) <= filter,]\n",
    "    print(len(df2))\n",
    "\n",
    "    ks.boot(Tr = df1, Co = df2, alternative = \"two.sided\", nboots = 10000)\n",
    "}\n",
    "\n",
    "KSwrapunif <- function(x, filter){\n",
    "    \n",
    "    df1 = data.frame(x=x)\n",
    "    df1 = df1[abs(df1$x) <= filter,]\n",
    "    print(len(df1))\n",
    "    \n",
    "    ks.test(x = df1, y = \"punif\", min= -filter, max=filter,  alternative = \"two.sided\")\n",
    "\n",
    "}"
   ]
  },
  {
   "cell_type": "markdown",
   "metadata": {},
   "source": [
    "Note that since I use a bootstrapped version of the Kolgomorov-Smirnov test, statistics will not be strictly deterministic."
   ]
  },
  {
   "cell_type": "code",
   "execution_count": 307,
   "metadata": {},
   "outputs": [
    {
     "name": "stdout",
     "output_type": "stream",
     "text": [
      "[1] \"Oct<--->Sox\"\n",
      "[1] 885\n",
      "[1] 715\n",
      "\n",
      "Bootstrap p-value:     0.4138 \n",
      "Naive p-value:         0.47376 \n",
      "Full Sample Statistic: 0.042464 \n",
      "\n",
      "[1] \"Oct<--->Sox74\"\n",
      "[1] 885\n",
      "[1] 3548\n",
      "\n",
      "Bootstrap p-value:     0.0016 \n",
      "Naive p-value:         0.0018596 \n",
      "Full Sample Statistic: 0.070196 \n",
      "\n",
      "[1] \"Oct<--->Oct28\"\n",
      "[1] 885\n",
      "[1] 2133\n",
      "\n",
      "Bootstrap p-value:     0.0023 \n",
      "Naive p-value:         0.0040297 \n",
      "Full Sample Statistic: 0.070441 \n",
      "\n",
      "[1] \"Oct<--->Oct42\"\n",
      "[1] 885\n",
      "[1] 4863\n",
      "\n",
      "Bootstrap p-value:     0.2499 \n",
      "Naive p-value:         0.29081 \n",
      "Full Sample Statistic: 0.035856 \n",
      "\n",
      "[1] \"Sox<--->Sox74\"\n",
      "[1] 715\n",
      "[1] 3548\n",
      "\n",
      "Bootstrap p-value:     0.0032 \n",
      "Naive p-value:         0.0034721 \n",
      "Full Sample Statistic: 0.073079 \n",
      "\n"
     ]
    }
   ],
   "source": [
    "print(\"Oct<--->Sox\")\n",
    "summary(KSwrap(dist_strand_h_p_Oct, dist_strand_h_p_Sox, filter =150))\n",
    "print(\"Oct<--->Sox74\")\n",
    "summary(KSwrap(dist_strand_h_p_Oct, dist_strand_h_p_Sox74, filter =150))\n",
    "print(\"Oct<--->Oct28\")\n",
    "summary(KSwrap(dist_strand_h_p_Oct, dist_strand_h_p_Oct28, filter =150))\n",
    "print(\"Oct<--->Oct42\")\n",
    "summary(KSwrap(dist_strand_h_p_Oct, dist_strand_h_p_Oct42, filter =150))\n",
    "print(\"Sox<--->Sox74\")\n",
    "summary(KSwrap(dist_strand_h_p_Sox, dist_strand_h_p_Sox74, filter =150))"
   ]
  },
  {
   "cell_type": "code",
   "execution_count": 308,
   "metadata": {},
   "outputs": [
    {
     "name": "stdout",
     "output_type": "stream",
     "text": [
      "[1] \"Sox<--->Oct42\"\n",
      "[1] 715\n",
      "[1] 4863\n",
      "\n",
      "Bootstrap p-value:     0.0192 \n",
      "Naive p-value:         0.023772 \n",
      "Full Sample Statistic: 0.059626 \n",
      "\n",
      "[1] \"Sox<--->Oct28\"\n",
      "[1] 715\n",
      "[1] 2133\n",
      "\n",
      "Bootstrap p-value:     0.0083 \n",
      "Naive p-value:         0.0098038 \n",
      "Full Sample Statistic: 0.070467 \n",
      "\n",
      "[1] \"Sox74<--->Oct28\"\n",
      "[1] 3548\n",
      "[1] 2133\n",
      "\n",
      "Bootstrap p-value:     0.1001 \n",
      "Naive p-value:         0.11493 \n",
      "Full Sample Statistic: 0.032743 \n",
      "\n",
      "[1] \"Sox74<--->Oct42\"\n",
      "[1] 3548\n",
      "[1] 4863\n",
      "\n",
      "Bootstrap p-value:     < 2.22e-16 \n",
      "Naive p-value:         1.199e-14 \n",
      "Full Sample Statistic: 0.089348 \n",
      "\n",
      "[1] \"Oct42<--->Oct28\"\n",
      "[1] 4863\n",
      "[1] 2133\n",
      "\n",
      "Bootstrap p-value:     < 2.22e-16 \n",
      "Naive p-value:         5.2469e-11 \n",
      "Full Sample Statistic: 0.090643 \n",
      "\n"
     ]
    }
   ],
   "source": [
    "print(\"Sox<--->Oct42\")\n",
    "summary(KSwrap(dist_strand_h_p_Sox, dist_strand_h_p_Oct42, filter =150))\n",
    "print(\"Sox<--->Oct28\")\n",
    "summary(KSwrap(dist_strand_h_p_Sox, dist_strand_h_p_Oct28, filter =150))\n",
    "print(\"Sox74<--->Oct28\")\n",
    "summary(KSwrap(dist_strand_h_p_Sox74, dist_strand_h_p_Oct28, filter =150))\n",
    "print(\"Sox74<--->Oct42\")\n",
    "summary(KSwrap(dist_strand_h_p_Sox74, dist_strand_h_p_Oct42, filter =150))\n",
    "print(\"Oct42<--->Oct28\")\n",
    "summary(KSwrap(dist_strand_h_p_Oct42, dist_strand_h_p_Oct28, filter =150))"
   ]
  },
  {
   "cell_type": "code",
   "execution_count": 313,
   "metadata": {},
   "outputs": [
    {
     "name": "stdout",
     "output_type": "stream",
     "text": [
      "[1] \"tandem\"\n",
      "[1] 668\n"
     ]
    },
    {
     "name": "stderr",
     "output_type": "stream",
     "text": [
      "Warning message in ks.test(x = df1, y = \"punif\", min = -filter, max = filter, alternative = \"two.sided\"):\n",
      "\"ties should not be present for the Kolmogorov-Smirnov test\""
     ]
    },
    {
     "data": {
      "text/plain": [
       "\n",
       "\tOne-sample Kolmogorov-Smirnov test\n",
       "\n",
       "data:  df1\n",
       "D = 0.06029, p-value = 0.01556\n",
       "alternative hypothesis: two-sided\n"
      ]
     },
     "metadata": {},
     "output_type": "display_data"
    },
    {
     "name": "stdout",
     "output_type": "stream",
     "text": [
      "[1] \"Sox\"\n",
      "[1] 411\n"
     ]
    },
    {
     "name": "stderr",
     "output_type": "stream",
     "text": [
      "Warning message in ks.test(x = df1, y = \"punif\", min = -filter, max = filter, alternative = \"two.sided\"):\n",
      "\"ties should not be present for the Kolmogorov-Smirnov test\""
     ]
    },
    {
     "data": {
      "text/plain": [
       "\n",
       "\tOne-sample Kolmogorov-Smirnov test\n",
       "\n",
       "data:  df1\n",
       "D = 0.09899, p-value = 0.0006351\n",
       "alternative hypothesis: two-sided\n"
      ]
     },
     "metadata": {},
     "output_type": "display_data"
    },
    {
     "name": "stdout",
     "output_type": "stream",
     "text": [
      "[1] \"Oct\"\n",
      "[1] 522\n"
     ]
    },
    {
     "name": "stderr",
     "output_type": "stream",
     "text": [
      "Warning message in ks.test(x = df1, y = \"punif\", min = -filter, max = filter, alternative = \"two.sided\"):\n",
      "\"ties should not be present for the Kolmogorov-Smirnov test\""
     ]
    },
    {
     "data": {
      "text/plain": [
       "\n",
       "\tOne-sample Kolmogorov-Smirnov test\n",
       "\n",
       "data:  df1\n",
       "D = 0.052695, p-value = 0.1101\n",
       "alternative hypothesis: two-sided\n"
      ]
     },
     "metadata": {},
     "output_type": "display_data"
    },
    {
     "name": "stdout",
     "output_type": "stream",
     "text": [
      "[1] \"Oct 28% variant\"\n",
      "[1] 1037\n"
     ]
    },
    {
     "name": "stderr",
     "output_type": "stream",
     "text": [
      "Warning message in ks.test(x = df1, y = \"punif\", min = -filter, max = filter, alternative = \"two.sided\"):\n",
      "\"ties should not be present for the Kolmogorov-Smirnov test\""
     ]
    },
    {
     "data": {
      "text/plain": [
       "\n",
       "\tOne-sample Kolmogorov-Smirnov test\n",
       "\n",
       "data:  df1\n",
       "D = 0.056717, p-value = 0.002533\n",
       "alternative hypothesis: two-sided\n"
      ]
     },
     "metadata": {},
     "output_type": "display_data"
    },
    {
     "name": "stdout",
     "output_type": "stream",
     "text": [
      "[1] \"Oct 42% variant\"\n",
      "[1] 3122\n"
     ]
    },
    {
     "name": "stderr",
     "output_type": "stream",
     "text": [
      "Warning message in ks.test(x = df1, y = \"punif\", min = -filter, max = filter, alternative = \"two.sided\"):\n",
      "\"ties should not be present for the Kolmogorov-Smirnov test\""
     ]
    },
    {
     "data": {
      "text/plain": [
       "\n",
       "\tOne-sample Kolmogorov-Smirnov test\n",
       "\n",
       "data:  df1\n",
       "D = 0.030183, p-value = 0.006769\n",
       "alternative hypothesis: two-sided\n"
      ]
     },
     "metadata": {},
     "output_type": "display_data"
    },
    {
     "name": "stdout",
     "output_type": "stream",
     "text": [
      "[1] \"Sox74% variant\"\n",
      "[1] 1718\n"
     ]
    },
    {
     "name": "stderr",
     "output_type": "stream",
     "text": [
      "Warning message in ks.test(x = df1, y = \"punif\", min = -filter, max = filter, alternative = \"two.sided\"):\n",
      "\"ties should not be present for the Kolmogorov-Smirnov test\""
     ]
    },
    {
     "data": {
      "text/plain": [
       "\n",
       "\tOne-sample Kolmogorov-Smirnov test\n",
       "\n",
       "data:  df1\n",
       "D = 0.022254, p-value = 0.3625\n",
       "alternative hypothesis: two-sided\n"
      ]
     },
     "metadata": {},
     "output_type": "display_data"
    }
   ],
   "source": [
    "print(\"tandem\")\n",
    "KSwrapunif(dist_strand_h_p, filter = 73)\n",
    "print(\"Sox\")\n",
    "KSwrapunif(dist_strand_h_p_Sox, filter = 73)\n",
    "print(\"Oct\")\n",
    "KSwrapunif(dist_strand_h_p_Oct, filter = 73)\n",
    "print(\"Oct 28% variant\")\n",
    "KSwrapunif(dist_strand_h_p_Oct28, filter = 73)\n",
    "print(\"Oct 42% variant\")\n",
    "KSwrapunif(dist_strand_h_p_Oct42, filter = 73)\n",
    "print(\"Sox74% variant\")\n",
    "KSwrapunif(dist_strand_h_p_Sox74, filter = 73)"
   ]
  },
  {
   "cell_type": "code",
   "execution_count": 312,
   "metadata": {},
   "outputs": [
    {
     "name": "stdout",
     "output_type": "stream",
     "text": [
      "[1] \"tandem\"\n",
      "[1] 1113\n"
     ]
    },
    {
     "name": "stderr",
     "output_type": "stream",
     "text": [
      "Warning message in ks.test(x = df1, y = \"punif\", min = -filter, max = filter, alternative = \"two.sided\"):\n",
      "\"ties should not be present for the Kolmogorov-Smirnov test\""
     ]
    },
    {
     "data": {
      "text/plain": [
       "\n",
       "\tOne-sample Kolmogorov-Smirnov test\n",
       "\n",
       "data:  df1\n",
       "D = 0.070566, p-value = 3.07e-05\n",
       "alternative hypothesis: two-sided\n"
      ]
     },
     "metadata": {},
     "output_type": "display_data"
    },
    {
     "name": "stdout",
     "output_type": "stream",
     "text": [
      "[1] \"Sox\"\n",
      "[1] 715\n"
     ]
    },
    {
     "name": "stderr",
     "output_type": "stream",
     "text": [
      "Warning message in ks.test(x = df1, y = \"punif\", min = -filter, max = filter, alternative = \"two.sided\"):\n",
      "\"ties should not be present for the Kolmogorov-Smirnov test\""
     ]
    },
    {
     "data": {
      "text/plain": [
       "\n",
       "\tOne-sample Kolmogorov-Smirnov test\n",
       "\n",
       "data:  df1\n",
       "D = 0.061655, p-value = 0.008714\n",
       "alternative hypothesis: two-sided\n"
      ]
     },
     "metadata": {},
     "output_type": "display_data"
    },
    {
     "name": "stdout",
     "output_type": "stream",
     "text": [
      "[1] \"Oct\"\n",
      "[1] 885\n"
     ]
    },
    {
     "name": "stderr",
     "output_type": "stream",
     "text": [
      "Warning message in ks.test(x = df1, y = \"punif\", min = -filter, max = filter, alternative = \"two.sided\"):\n",
      "\"ties should not be present for the Kolmogorov-Smirnov test\""
     ]
    },
    {
     "data": {
      "text/plain": [
       "\n",
       "\tOne-sample Kolmogorov-Smirnov test\n",
       "\n",
       "data:  df1\n",
       "D = 0.080395, p-value = 2.151e-05\n",
       "alternative hypothesis: two-sided\n"
      ]
     },
     "metadata": {},
     "output_type": "display_data"
    },
    {
     "name": "stdout",
     "output_type": "stream",
     "text": [
      "[1] \"Oct 28% variant\"\n",
      "[1] 2133\n"
     ]
    },
    {
     "name": "stderr",
     "output_type": "stream",
     "text": [
      "Warning message in ks.test(x = df1, y = \"punif\", min = -filter, max = filter, alternative = \"two.sided\"):\n",
      "\"ties should not be present for the Kolmogorov-Smirnov test\""
     ]
    },
    {
     "data": {
      "text/plain": [
       "\n",
       "\tOne-sample Kolmogorov-Smirnov test\n",
       "\n",
       "data:  df1\n",
       "D = 0.037093, p-value = 0.005648\n",
       "alternative hypothesis: two-sided\n"
      ]
     },
     "metadata": {},
     "output_type": "display_data"
    },
    {
     "name": "stdout",
     "output_type": "stream",
     "text": [
      "[1] \"Oct 42% variant\"\n",
      "[1] 4863\n"
     ]
    },
    {
     "name": "stderr",
     "output_type": "stream",
     "text": [
      "Warning message in ks.test(x = df1, y = \"punif\", min = -filter, max = filter, alternative = \"two.sided\"):\n",
      "\"ties should not be present for the Kolmogorov-Smirnov test\""
     ]
    },
    {
     "data": {
      "text/plain": [
       "\n",
       "\tOne-sample Kolmogorov-Smirnov test\n",
       "\n",
       "data:  df1\n",
       "D = 0.082418, p-value < 2.2e-16\n",
       "alternative hypothesis: two-sided\n"
      ]
     },
     "metadata": {},
     "output_type": "display_data"
    },
    {
     "name": "stdout",
     "output_type": "stream",
     "text": [
      "[1] \"Sox74% variant\"\n",
      "[1] 3548\n"
     ]
    },
    {
     "name": "stderr",
     "output_type": "stream",
     "text": [
      "Warning message in ks.test(x = df1, y = \"punif\", min = -filter, max = filter, alternative = \"two.sided\"):\n",
      "\"ties should not be present for the Kolmogorov-Smirnov test\""
     ]
    },
    {
     "data": {
      "text/plain": [
       "\n",
       "\tOne-sample Kolmogorov-Smirnov test\n",
       "\n",
       "data:  df1\n",
       "D = 0.01826, p-value = 0.1876\n",
       "alternative hypothesis: two-sided\n"
      ]
     },
     "metadata": {},
     "output_type": "display_data"
    }
   ],
   "source": [
    "print(\"tandem\")\n",
    "KSwrapunif(dist_strand_h_p, filter = 150)\n",
    "print(\"Sox\")\n",
    "KSwrapunif(dist_strand_h_p_Sox, filter = 150)\n",
    "print(\"Oct\")\n",
    "KSwrapunif(dist_strand_h_p_Oct, filter = 150)\n",
    "print(\"Oct 28% variant\")\n",
    "KSwrapunif(dist_strand_h_p_Oct28, filter = 150)\n",
    "print(\"Oct 42% variant\")\n",
    "KSwrapunif(dist_strand_h_p_Oct42, filter = 150)\n",
    "print(\"Sox74% variant\")\n",
    "KSwrapunif(dist_strand_h_p_Sox74, filter = 150)"
   ]
  }
 ],
 "metadata": {
  "kernelspec": {
   "display_name": "R",
   "language": "R",
   "name": "ir"
  },
  "language_info": {
   "codemirror_mode": "r",
   "file_extension": ".r",
   "mimetype": "text/x-r-source",
   "name": "R",
   "pygments_lexer": "r",
   "version": "3.4.3"
  },
  "notify_time": "5",
  "toc": {
   "nav_menu": {},
   "number_sections": true,
   "sideBar": true,
   "skip_h1_title": false,
   "toc_cell": false,
   "toc_position": {
    "height": "547px",
    "left": "0px",
    "right": "1205px",
    "top": "110px",
    "width": "161px"
   },
   "toc_section_display": "block",
   "toc_window_display": true
  }
 },
 "nbformat": 4,
 "nbformat_minor": 2
}
