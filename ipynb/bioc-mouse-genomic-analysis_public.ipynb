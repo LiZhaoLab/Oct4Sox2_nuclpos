{
 "cells": [
  {
   "cell_type": "markdown",
   "metadata": {},
   "source": [
    "**revised notebook for final release**"
   ]
  },
  {
   "cell_type": "markdown",
   "metadata": {},
   "source": [
    "This notebook is the second of 2 parts for the analysis of mouse data presented in **Figure 6**. This notebook ingests the location of nucleosomes (from DANPOS dpos, filtered and converted by `danpos-xls-process.py`), the nucleosome positioning track (from DANPOS dpos, pre-processed by the somewhat misnamed `wig2rle.R`), and PF binding sites (processed from FIMO results via `py3-motif-matching.ipynb`), and outputs the final figures (though the file-writing cells have been disabled).\n",
    "\n",
    "**Warning** - this notebook requires significant computational resources and was originally run on a compute node of the Rockefeller High-Performance Computing environment. You should have at least 10 GB of RAM *available to the R kernel* (not just on the machine, as other programs will require their own memory) - most laptops will not have this much memory. I have observed my notebooks' memory usage peaking at as much as 80 GB of RAM (!).\n",
    "\n",
    "I suspect that the main culprit is the `strandedDistanceByNearest` call. I welcome suggestions to improve its decidedly inefficient iterative algorithmic structure, which was regrettably necessary to handle NAs.\n",
    "\n",
    "# various initialization steps"
   ]
  },
  {
   "cell_type": "code",
   "execution_count": 1,
   "metadata": {},
   "outputs": [],
   "source": [
    "# for my sanity - map some function names that I think exist to what actually exist\n",
    "nrows <- nrow\n",
    "ncols <- ncol\n",
    "len <- length"
   ]
  },
  {
   "cell_type": "code",
   "execution_count": 2,
   "metadata": {},
   "outputs": [],
   "source": [
    "options(repr.plot.width=12, repr.plot.height=4)\n",
    "options(warn=-1)"
   ]
  },
  {
   "cell_type": "code",
   "execution_count": 3,
   "metadata": {},
   "outputs": [],
   "source": [
    "multiplot <- function(..., plotlist=NULL, cols) {\n",
    "    # from Winston Chang's R Cookbook\n",
    "    \n",
    "    require(grid)\n",
    "\n",
    "    # Make a list from the ... arguments and plotlist\n",
    "    plots <- c(list(...), plotlist)\n",
    "\n",
    "    numPlots = length(plots)\n",
    "\n",
    "    # Make the panel\n",
    "    plotCols = cols                          # Number of columns of plots\n",
    "    plotRows = ceiling(numPlots/plotCols) # Number of rows needed, calculated from # of cols\n",
    "\n",
    "    # Set up the page\n",
    "    grid.newpage()\n",
    "    pushViewport(viewport(layout = grid.layout(plotRows, plotCols)))\n",
    "    vplayout <- function(x, y)\n",
    "        viewport(layout.pos.row = x, layout.pos.col = y)\n",
    "\n",
    "    # Make each plot, in the correct location\n",
    "    for (i in 1:numPlots) {\n",
    "        curRow = ceiling(i/plotCols)\n",
    "        curCol = (i-1) %% plotCols + 1\n",
    "        print(plots[[i]], vp = vplayout(curRow, curCol ))\n",
    "    }\n",
    "\n",
    "}"
   ]
  },
  {
   "cell_type": "code",
   "execution_count": 4,
   "metadata": {},
   "outputs": [
    {
     "name": "stderr",
     "output_type": "stream",
     "text": [
      "Registering fonts with R\n"
     ]
    }
   ],
   "source": [
    "library(extrafont)"
   ]
  },
  {
   "cell_type": "code",
   "execution_count": 5,
   "metadata": {
    "scrolled": false
   },
   "outputs": [
    {
     "name": "stderr",
     "output_type": "stream",
     "text": [
      "Loading required package: GenomicRanges\n",
      "Loading required package: stats4\n",
      "Loading required package: BiocGenerics\n",
      "Loading required package: parallel\n",
      "\n",
      "Attaching package: ‘BiocGenerics’\n",
      "\n",
      "The following objects are masked from ‘package:parallel’:\n",
      "\n",
      "    clusterApply, clusterApplyLB, clusterCall, clusterEvalQ,\n",
      "    clusterExport, clusterMap, parApply, parCapply, parLapply,\n",
      "    parLapplyLB, parRapply, parSapply, parSapplyLB\n",
      "\n",
      "The following objects are masked from ‘package:stats’:\n",
      "\n",
      "    IQR, mad, sd, var, xtabs\n",
      "\n",
      "The following objects are masked from ‘package:base’:\n",
      "\n",
      "    anyDuplicated, append, as.data.frame, basename, cbind, colMeans,\n",
      "    colnames, colSums, dirname, do.call, duplicated, eval, evalq,\n",
      "    Filter, Find, get, grep, grepl, intersect, is.unsorted, lapply,\n",
      "    lengths, Map, mapply, match, mget, order, paste, pmax, pmax.int,\n",
      "    pmin, pmin.int, Position, rank, rbind, Reduce, rowMeans, rownames,\n",
      "    rowSums, sapply, setdiff, sort, table, tapply, union, unique,\n",
      "    unsplit, which, which.max, which.min\n",
      "\n",
      "Loading required package: S4Vectors\n",
      "\n",
      "Attaching package: ‘S4Vectors’\n",
      "\n",
      "The following object is masked from ‘package:base’:\n",
      "\n",
      "    expand.grid\n",
      "\n",
      "Loading required package: IRanges\n",
      "Loading required package: GenomeInfoDb\n",
      "Loading required package: Biostrings\n",
      "Loading required package: XVector\n",
      "\n",
      "Attaching package: ‘Biostrings’\n",
      "\n",
      "The following object is masked from ‘package:base’:\n",
      "\n",
      "    strsplit\n",
      "\n",
      "Loading required package: BSgenome\n",
      "Loading required package: GenomicFeatures\n",
      "Loading required package: AnnotationDbi\n",
      "Loading required package: Biobase\n",
      "Welcome to Bioconductor\n",
      "\n",
      "    Vignettes contain introductory material; view with\n",
      "    'browseVignettes()'. To cite Bioconductor, see\n",
      "    'citation(\"Biobase\")', and for packages 'citation(\"pkgname\")'.\n",
      "\n",
      "Loading required package: VariantAnnotation\n",
      "Loading required package: SummarizedExperiment\n",
      "Loading required package: DelayedArray\n",
      "Loading required package: matrixStats\n",
      "\n",
      "Attaching package: ‘matrixStats’\n",
      "\n",
      "The following objects are masked from ‘package:Biobase’:\n",
      "\n",
      "    anyMissing, rowMedians\n",
      "\n",
      "Loading required package: BiocParallel\n",
      "\n",
      "Attaching package: ‘DelayedArray’\n",
      "\n",
      "The following objects are masked from ‘package:matrixStats’:\n",
      "\n",
      "    colMaxs, colMins, colRanges, rowMaxs, rowMins, rowRanges\n",
      "\n",
      "The following object is masked from ‘package:Biostrings’:\n",
      "\n",
      "    type\n",
      "\n",
      "The following objects are masked from ‘package:base’:\n",
      "\n",
      "    aperm, apply\n",
      "\n",
      "Loading required package: Rsamtools\n",
      "\n",
      "Attaching package: ‘VariantAnnotation’\n",
      "\n",
      "The following object is masked from ‘package:base’:\n",
      "\n",
      "    tabulate\n",
      "\n",
      "Loading required package: GenomicAlignments\n",
      "\n",
      "Attaching package: ‘heatmaps’\n",
      "\n",
      "The following object is masked from ‘package:SummarizedExperiment’:\n",
      "\n",
      "    metadata<-\n",
      "\n",
      "The following object is masked from ‘package:AnnotationDbi’:\n",
      "\n",
      "    metadata\n",
      "\n",
      "The following objects are masked from ‘package:S4Vectors’:\n",
      "\n",
      "    metadata, metadata<-\n",
      "\n",
      "The following object is masked from ‘package:base’:\n",
      "\n",
      "    scale\n",
      "\n"
     ]
    }
   ],
   "source": [
    "#library(tracktables)\n",
    "library(rtracklayer)\n",
    "library(HelloRanges)\n",
    "library(BSgenome.Mmusculus.UCSC.mm9)\n",
    "library(heatmaps)\n",
    "library(ggplot2)\n",
    "\n",
    "library(TxDb.Mmusculus.UCSC.mm9.knownGene)"
   ]
  },
  {
   "cell_type": "code",
   "execution_count": 6,
   "metadata": {},
   "outputs": [
    {
     "name": "stderr",
     "output_type": "stream",
     "text": [
      "Loading required package: viridisLite\n"
     ]
    }
   ],
   "source": [
    "library(viridis)"
   ]
  },
  {
   "cell_type": "code",
   "execution_count": 7,
   "metadata": {},
   "outputs": [],
   "source": [
    "mouse_transcripts <- transcripts(TxDb.Mmusculus.UCSC.mm9.knownGene, columns=c(\"tx_id\", \"tx_name\"))\n",
    "mouse_transcripts <- keepStandardChromosomes(mouse_transcripts, pruning.mode = 'tidy')\n",
    "# drop MT\n",
    "mouse_transcripts <- mouse_transcripts[seqnames(mouse_transcripts) != \"chrM\"]\n",
    "mouse_tss <- resize(mouse_transcripts, width=1, fix='start')"
   ]
  },
  {
   "cell_type": "code",
   "execution_count": 8,
   "metadata": {},
   "outputs": [],
   "source": [
    "mm9info <- seqinfo(BSgenome.Mmusculus.UCSC.mm9)"
   ]
  },
  {
   "cell_type": "code",
   "execution_count": 9,
   "metadata": {},
   "outputs": [],
   "source": [
    "mouse_tss_2000 <- resize(mouse_tss, width = 2000, fix='center')\n",
    "mouse_tss_2000 <- trim(mouse_tss_2000)"
   ]
  },
  {
   "cell_type": "markdown",
   "metadata": {},
   "source": [
    "# Whyte 2013 ChipSeq motifs\n",
    "\n",
    "I generated peaks via MACS2 from data in Whyte 2013."
   ]
  },
  {
   "cell_type": "markdown",
   "metadata": {},
   "source": [
    "## load motif locations into bioconductor\n",
    "\n",
    "general formula: genomic coordinate of a motif's start = genomic coordinate of a motif's peak window + FIMO-reported start coordinate - value of flanking DNA bp (generally 200) - 1 (due to 1-based indexing, likely in FIMO)"
   ]
  },
  {
   "cell_type": "code",
   "execution_count": 10,
   "metadata": {},
   "outputs": [],
   "source": [
    "## from the py3 notebook \"py3_motif-matching\"\n",
    "\n",
    "Whyte_motifs <- import(\"~/SoxOct/mouse/chipseq_Whyte2013/Sox-Oct_motifs.bed\")\n",
    "Whyte_outermotifs <- import(\"~/SoxOct/mouse/chipseq_Whyte2013/Sox-Oct_outermotifs.bed\")\n",
    "Whyte_Soxmotifs <- import(\"~/SoxOct/mouse/chipseq_Whyte2013/Sox_motifs.bed\")\n",
    "Whyte_Octmotifs <- import(\"~/SoxOct/mouse/chipseq_Whyte2013/Oct_motifs.bed\")\n",
    "\n",
    "Whyte_tandemmotifs <- import(\"~/SoxOct/mouse/chipseq_Whyte2013/tandem_motifs.bed\")"
   ]
  },
  {
   "cell_type": "code",
   "execution_count": 11,
   "metadata": {},
   "outputs": [],
   "source": [
    "## from the py3 notebook \"py3_motif-matching\"\n",
    "\n",
    "EpiSC_motifs <- import(\"~/SoxOct/mouse/EpiSC_chip/Sox-Oct_motifs.bed\")\n",
    "EpiSC_outermotifs <- import(\"~/SoxOct/mouse/EpiSC_chip/Sox-Oct_outermotifs.bed\")\n",
    "EpiSC_Soxmotifs <- import(\"~/SoxOct/mouse/EpiSC_chip/Sox_motifs.bed\")\n",
    "EpiSC_Octmotifs <- import(\"~/SoxOct/mouse/EpiSC_chip/Oct_motifs.bed\")\n",
    "\n",
    "EpiSC_tandemmotifs <- import(\"~/SoxOct/mouse/EpiSC_chip/tandem_motifs.bed\")"
   ]
  },
  {
   "cell_type": "markdown",
   "metadata": {},
   "source": [
    "## define colors"
   ]
  },
  {
   "cell_type": "code",
   "execution_count": 12,
   "metadata": {},
   "outputs": [],
   "source": [
    "safered <- \"#920000\"\n",
    "safegreen <- \"#009292\"\n",
    "safeviolet <- \"#490092\""
   ]
  },
  {
   "cell_type": "markdown",
   "metadata": {},
   "source": [
    "## define metametaplot"
   ]
  },
  {
   "cell_type": "code",
   "execution_count": 13,
   "metadata": {},
   "outputs": [],
   "source": [
    "getvalues <- function(granges, width = 2000, track){\n",
    "    motifwindow <- resize(granges, width = width, fix = 'center')\n",
    "    \n",
    "    htmap <- CoverageHeatmap(windows = motifwindow, track = track)\n",
    "    \n",
    "    plotdata <- colMeans(image(htmap))\n",
    "    plotaxis <- 1:len(plotdata) - floor(width/2)\n",
    "    df <- data.frame(x = plotaxis, y= plotdata)\n",
    "    \n",
    "    return (df)\n",
    "}"
   ]
  },
  {
   "cell_type": "code",
   "execution_count": 14,
   "metadata": {},
   "outputs": [],
   "source": [
    "Whyte_metametaplot <- function(track, mwidth, title=\"\"){\n",
    "    \n",
    "    df1 <- getvalues(Whyte_Soxmotifs, width=mwidth, track=track)\n",
    "    df2 <- getvalues(Whyte_Octmotifs, width=mwidth, track=track)\n",
    "    \n",
    "    #options(repr.plot.width=3, repr.plot.height=1)\n",
    "    \n",
    "    abs <- floor(mwidth/2)\n",
    "    plt <- ggplot() + \n",
    "            geom_line(data = df1, aes(x = x, y = y, colour = \"Sox2\"), size=.8) +\n",
    "            geom_line(data = df2, aes(x = x, y = y, colour = \"Oct4\"), size=.8) +\n",
    "            scale_colour_manual(values=c(safegreen, safeviolet,safered), name=title) +\n",
    "            theme_classic() +\n",
    "            ylab(\"Average\\nnucleosome occupancy\") +\n",
    "            xlab(\"Relative genomic position (bp)\") +\n",
    "            theme(axis.title.x=element_text(size=rel(0.9))) +\n",
    "            theme(axis.title.y=element_text(size=rel(0.9))) +\n",
    "            theme(title=element_text(size=rel(0.8))) +\n",
    "            #ylim (40,90) +\n",
    "            #ylim(40,60) +\n",
    "            xlim(-abs, abs) +\n",
    "            scale_x_continuous(minor_breaks = seq(-1029,1029, 147))\n",
    "                       \n",
    "    plt\n",
    "    \n",
    "    #options(repr.plot.width=3, repr.plot.height=3)\n",
    "    \n",
    "    return(plt)\n",
    "}"
   ]
  },
  {
   "cell_type": "code",
   "execution_count": 15,
   "metadata": {},
   "outputs": [],
   "source": [
    "EpiSC_metametaplot <- function(track, mwidth, title=\"\"){\n",
    "    \n",
    "    df1 <- getvalues(EpiSC_Soxmotifs, width=mwidth, track=track)\n",
    "    df2 <- getvalues(EpiSC_Octmotifs, width=mwidth, track=track)\n",
    "    \n",
    "    #options(repr.plot.width=3, repr.plot.height=1)\n",
    "    \n",
    "    abs <- floor(mwidth/2)\n",
    "    plt <- ggplot() + \n",
    "            geom_line(data = df1, aes(x = x, y = y, colour = \"Sox2\"), size=.8) +\n",
    "            geom_line(data = df2, aes(x = x, y = y, colour = \"Oct4\"), size=.8) +\n",
    "            scale_colour_manual(values=c(safegreen, safeviolet,safered), name=title) +\n",
    "            theme_classic() +\n",
    "            ylab(\"Average\\nnucleosome occupancy\") +\n",
    "            xlab(\"Relative genomic position (bp)\") +\n",
    "            theme(axis.title.x=element_text(size=rel(0.9))) +\n",
    "            theme(axis.title.y=element_text(size=rel(0.9))) +\n",
    "            theme(title=element_text(size=rel(0.8))) +\n",
    "            #ylim (40,90) +\n",
    "            #ylim(40,60) +\n",
    "            xlim(-abs, abs) +\n",
    "            scale_x_continuous(minor_breaks = seq(-1029,1029, 147))\n",
    "                       \n",
    "    plt\n",
    "    \n",
    "    #options(repr.plot.width=3, repr.plot.height=3)\n",
    "    \n",
    "    return(plt)\n",
    "}"
   ]
  },
  {
   "cell_type": "markdown",
   "metadata": {},
   "source": [
    "# load Teif MNase-seq data"
   ]
  },
  {
   "cell_type": "markdown",
   "metadata": {},
   "source": [
    "## nucleosome track"
   ]
  },
  {
   "cell_type": "code",
   "execution_count": 16,
   "metadata": {},
   "outputs": [],
   "source": [
    "mm_npos_p <- readRDS(\"~/SoxOct/danpos-res/pooled/mESC-MNAseseq.smooth.rle.RDS\")"
   ]
  },
  {
   "cell_type": "code",
   "execution_count": 17,
   "metadata": {},
   "outputs": [
    {
     "data": {
      "image/png": "[encoded data removed]",
      "text/plain": [
       "plot without title"
      ]
     },
     "metadata": {},
     "output_type": "display_data"
    }
   ],
   "source": [
    "htmap_mm_tss_mnase <- CoverageHeatmap(windows = trim(mouse_tss_2000), track = mm_npos_p)\n",
    "\n",
    "plotdata <- colMeans(image(htmap_mm_tss_mnase))\n",
    "plotaxis <- 1:len(plotdata) - 1000\n",
    "pltdf_mm_tss_mnase <- data.frame(x = plotaxis, y= plotdata)\n",
    "\n",
    "plt <- ggplot() + \n",
    "    geom_line(data = pltdf_mm_tss_mnase, aes(x = x, y = y, colour = \"TSS\")) +\n",
    "    #geom_line(data = pltdf4, aes(x = x, y = y, colour = \"TSS\")) +\n",
    "    scale_colour_manual(values=c(\"red\")) +\n",
    "    #theme_classic() +\n",
    "    theme_bw() +\n",
    "    ylab(\"Average\\nnucleosome occupancy\") +\n",
    "    xlab(\"Relative position (bp)\") +\n",
    "    #ylim (40,90) +\n",
    "    #ylim(40,60) +\n",
    "    #xlim(-200,200) +\n",
    "    scale_x_continuous(minor_breaks = seq(-1029,1029, 147))\n",
    "\n",
    "options(repr.plot.width=12, repr.plot.height=4)\n",
    "\n",
    "plt"
   ]
  },
  {
   "cell_type": "markdown",
   "metadata": {},
   "source": [
    "## nucleosome locations"
   ]
  },
  {
   "cell_type": "code",
   "execution_count": 18,
   "metadata": {},
   "outputs": [],
   "source": [
    "# pooled\n",
    "\n",
    "# read in the ranges\n",
    "npeaks_m1_p <- import(\"~/SoxOct/danpos-res/pooled/mESC-MNaseseq.smooth.positions.bedgraph\")\n",
    "\n",
    "# resize the nucleosome peaks (DANPOS hard-codes them to be 140 bp)\n",
    "npeaks_m1_p_c <- resize(npeaks_m1_p, width = 0, fix = \"center\")"
   ]
  },
  {
   "cell_type": "markdown",
   "metadata": {},
   "source": [
    "# Figure 7B: aggregate nucleosome score"
   ]
  },
  {
   "cell_type": "code",
   "execution_count": 19,
   "metadata": {
    "scrolled": true
   },
   "outputs": [
    {
     "name": "stderr",
     "output_type": "stream",
     "text": [
      "Scale for 'x' is already present. Adding another scale for 'x', which will\n",
      "replace the existing scale.\n"
     ]
    },
    {
     "data": {
      "image/png": "[encoded data removed]",
      "text/plain": [
       "plot without title"
      ]
     },
     "metadata": {},
     "output_type": "display_data"
    }
   ],
   "source": [
    "options(repr.plot.width=4.5, repr.plot.height=1.5)\n",
    "Whyte_metametaplot(track = mm_npos_p, mwidth = 1000, title=\"mESCs\")"
   ]
  },
  {
   "cell_type": "raw",
   "metadata": {},
   "source": [
    "ggsave(filename = \"PanelB-1.eps\", width = 4.5, height = 1.5, units = \"in\")"
   ]
  },
  {
   "cell_type": "code",
   "execution_count": 20,
   "metadata": {
    "scrolled": true
   },
   "outputs": [
    {
     "name": "stderr",
     "output_type": "stream",
     "text": [
      "Scale for 'x' is already present. Adding another scale for 'x', which will\n",
      "replace the existing scale.\n"
     ]
    },
    {
     "data": {
      "image/png": "[encoded data removed]",
      "text/plain": [
       "plot without title"
      ]
     },
     "metadata": {},
     "output_type": "display_data"
    }
   ],
   "source": [
    "options(repr.plot.width=4.5, repr.plot.height=1.5)\n",
    "EpiSC_metametaplot(track = mm_npos_p, mwidth = 1000, title=\"EpiSCs\")\n",
    "#ggsave(filename = \"PanelB-2.eps\", width = 4.5, height = 1.5, units = \"in\")"
   ]
  },
  {
   "cell_type": "markdown",
   "metadata": {},
   "source": [
    "# Figure 7C-F: calculate distributions of distances"
   ]
  },
  {
   "cell_type": "code",
   "execution_count": 21,
   "metadata": {},
   "outputs": [],
   "source": [
    "# resize the motif tracks to be tiny\n",
    "Whyte_motifs_c      <- resize(Whyte_motifs,      width = 0, fix='center')\n",
    "Whyte_outermotifs_c <- resize(Whyte_outermotifs, width = 0, fix='center')\n",
    "Whyte_Soxmotifs_c   <- resize(Whyte_Soxmotifs,   width = 0, fix='center')\n",
    "Whyte_Octmotifs_c   <- resize(Whyte_Octmotifs,   width = 0, fix='center')\n",
    "\n",
    "Whyte_tandemmotifs_c <- resize(Whyte_tandemmotifs, width=0, fix='center')"
   ]
  },
  {
   "cell_type": "markdown",
   "metadata": {},
   "source": [
    "## stranded Distance\n",
    "\n",
    "### strandedDistanceByNearest function definition"
   ]
  },
  {
   "cell_type": "code",
   "execution_count": 22,
   "metadata": {},
   "outputs": [],
   "source": [
    "strandedDistanceByNearest <- function(query, target){\n",
    "    # gets (non absolute) distance for each item in query on target\n",
    "    \n",
    "    # calculate the distance:\n",
    "    \n",
    "    ## note that precede actually returns the item in subject that the target PRECEDES, not the other way around!\n",
    "    #d_precede <- distance((target)[precede(subject = target, x = query)], query)\n",
    "    ## you'd think the above would work, but annoyingly sometimes you get an NA, and then the subsetting dies...\n",
    "    idx_precede <- precede(subject = target, x = query)\n",
    "    d_precede <- integer(length(query))\n",
    "    for (i in 1:length(query)){\n",
    "        index <- idx_precede[i]\n",
    "        \n",
    "        if (is.na(index)){\n",
    "            assign <- NA\n",
    "        } else {\n",
    "            assign <- distance(target[index],query[i])\n",
    "        }\n",
    "        \n",
    "        d_precede[i] <- assign\n",
    "    }\n",
    "    \n",
    "    ## the same goes for follow; the negation is so we correctly have negative distances\n",
    "    #d_follow  <- -distance((target)[follow(subject = target, x = query)], query)\n",
    "    \n",
    "    idx_follow <- follow(subject = target, x = query)\n",
    "    d_follow <- integer(length(query))\n",
    "    for (i in 1:length(query)){\n",
    "        index <- idx_follow[i]\n",
    "        \n",
    "        if (is.na(index)){\n",
    "            assign <- NA\n",
    "        } else {\n",
    "            assign <- -distance(target[index],query[i]) # note that here is the negation!\n",
    "        }\n",
    "        \n",
    "        d_follow[i] <- assign\n",
    "    }\n",
    "    \n",
    "    # compare precede vs. follow\n",
    "    # return the one with the biggest abs\n",
    "    # if one of them is null, the other wins by default; if both are null, return NA\n",
    "    # note that this is tremendously inelegant and likely to be slow!!!\n",
    "    \n",
    "    answer <- integer(length(query)) # pre-allocate a vector to make this less bad\n",
    "    for (i in 1:length(query)){\n",
    "        \n",
    "        \n",
    "        if (is.na(d_precede[i]) & !is.na(d_follow[i])){\n",
    "        # only the follow number is valid\n",
    "            select <- d_follow[i]\n",
    "        } else if (!is.na(d_precede[i]) & is.na(d_follow[i])){\n",
    "        # only the precede is valid\n",
    "            select <- d_precede[i]\n",
    "        } else if (is.na(d_precede[i]) & is.na(d_follow[i])){\n",
    "        # somehow both are invalid??\n",
    "            select <- NA\n",
    "        } else {\n",
    "        # both are presumably valid now\n",
    "            if (abs(d_follow[i]) < d_precede[i]) {\n",
    "                select <- d_follow[i]\n",
    "            } else select <- d_precede[i]\n",
    "            \n",
    "        }\n",
    "        answer[i] <- select\n",
    "    }\n",
    "    \n",
    "    return (answer)\n",
    "}"
   ]
  },
  {
   "cell_type": "code",
   "execution_count": 23,
   "metadata": {},
   "outputs": [],
   "source": [
    "strandeddens <- function(data, filter = 150, bw = 2, color = \"orchid4\", linetype=\"solid\"){\n",
    "    \n",
    "    df <- data.frame(x=data)\n",
    "    df <- data.frame(x=df[abs(df$x) <= filter,])\n",
    "    \n",
    "    plt <- ggplot() +\n",
    "            #geom_histogram(df, aes(x=x, y=stat(density)), binwidth=1, fill = 'gray') +\n",
    "            stat_density(data = df, aes(x=x), bw=bw, color = color, geom = 'line', linetype=linetype, size=.8)  +\n",
    "            theme_classic()                                    +\n",
    "            geom_vline(xintercept=73, linetype='dotted')  +\n",
    "            geom_vline(xintercept=-73, linetype='dotted') + \n",
    "            coord_cartesian(ylim = c(0,.006)) + \n",
    "            xlab(\"Relative position (bp)\") +\n",
    "            geom_vline(xintercept=0, linetype='dashed') +\n",
    "            theme(axis.title.x=element_text(size=rel(0.9))) +\n",
    "            theme(axis.title.y=element_text(size=rel(0.9))) +\n",
    "            theme(title=element_text(size=rel(0.75))) + \n",
    "            theme(text = element_text(family = 'Arial'))\n",
    "\n",
    "    plt \n",
    "    \n",
    "    return (plt)\n",
    "}"
   ]
  },
  {
   "cell_type": "code",
   "execution_count": 24,
   "metadata": {},
   "outputs": [],
   "source": [
    "unstrandeddens <- function(data, filter = 150, bw = 2, color = \"orchid4\", linetype=\"solid\"){\n",
    "    \n",
    "    df <- data.frame(x=data)\n",
    "    df <- data.frame(x=df[abs(df$x) <= filter,])\n",
    "    \n",
    "    # take the absolute value\n",
    "    df <- abs(df)\n",
    "    df <- rbind(df, data.frame(x=df[df$x ==0,])) # pads the zero position X2 \n",
    "                                # since it should be doubled to match everything else\n",
    "    \n",
    "    plt <- ggplot() +\n",
    "            #geom_histogram(df, aes(x=x, y=stat(density)), binwidth=1, fill = 'gray') +\n",
    "            stat_density(data = df, aes(x=x), bw=bw, color = color, geom = 'line', \n",
    "                         linetype=linetype, size=.8)  +\n",
    "            theme_classic()                                    +\n",
    "            geom_vline(xintercept=73, linetype='dotted')  +\n",
    "            ##geom_vline(xintercept=-73, linetype='dotted') +\n",
    "            #geom_vline(xintercept=31, linetype='dotted')  +\n",
    "            #geom_vline(xintercept=36, linetype='dotted')  +\n",
    "            #geom_vline(xintercept=40, linetype='dotted')  +\n",
    "            #geom_vline(xintercept=64, linetype='dotted')  +\n",
    "            #xlim(c(0,filter)) +\n",
    "            coord_cartesian(ylim = c(0,.012)) + \n",
    "            xlab(\"Absolute position (bp)\") +\n",
    "            geom_vline(xintercept=0, linetype='dashed') +\n",
    "            theme(axis.title.x=element_text(size=rel(0.9))) +\n",
    "            theme(axis.title.y=element_text(size=rel(0.9))) +\n",
    "            theme(title=element_text(size=rel(0.75))) + \n",
    "            theme(text = element_text(family = 'Arial'))\n",
    "\n",
    "    plt \n",
    "    \n",
    "    return (plt)\n",
    "}\n",
    "\n",
    "unstrandeddens2 <- function(data, filter = 150, bw = 2, color = \"orchid4\", linetype=\"solid\"){\n",
    "    \n",
    "    df <- data.frame(x=data)\n",
    "    df <- data.frame(x=df[abs(df$x) <= filter,])\n",
    "    \n",
    "    # take the absolute value\n",
    "    df <- abs(df)\n",
    "    df <- rbind(df, data.frame(x=df[df$x ==0,])) # pads the zero position X2 \n",
    "                                # since it should be doubled to match everything else\n",
    "    \n",
    "    nzeros <- len(df[df$x==0,]) # \n",
    "    pad_df <- data.frame(x=c(rep(-1,nzeros), \n",
    "                         rep(-2,nzeros),\n",
    "                         rep(-3,nzeros),\n",
    "                         rep(-4,nzeros),\n",
    "                         rep(-5,nzeros),\n",
    "                         rep(-6,nzeros),\n",
    "                         rep(-7,nzeros),\n",
    "                         rep(-8,nzeros),\n",
    "                         rep(-9,nzeros)))\n",
    "    df  <- rbind(df, pad_df)   # pad to avoid the blip down at zero\n",
    "    \n",
    "    nends <- len(df[df$x==filter,]) # \n",
    "    pad_df <- data.frame(x=c(rep(filter+1,nends), \n",
    "                         rep(filter+2,nends),\n",
    "                         rep(filter+3,nends),\n",
    "                         rep(filter+4,nends),\n",
    "                         rep(filter+5,nends),\n",
    "                         rep(filter+6,nends),\n",
    "                         rep(filter+7,nends),\n",
    "                         rep(filter+8,nends),\n",
    "                         rep(filter+9,nends)))\n",
    "    df  <- rbind(df, pad_df)   # pad to avoid the blip down at other side\n",
    "    \n",
    "    plt <- ggplot() +\n",
    "            #geom_histogram(df, aes(x=x, y=stat(density)), binwidth=1, fill = 'gray') +\n",
    "            stat_density(data = df, aes(x=x), bw=bw, color = color, geom = 'line', \n",
    "                         linetype=linetype, size=.8)  +\n",
    "            theme_classic()                                    +\n",
    "            geom_vline(xintercept=73, linetype='dotted')  +\n",
    "            ##geom_vline(xintercept=-73, linetype='dotted') +\n",
    "            #geom_vline(xintercept=31, linetype='dotted')  +\n",
    "            #geom_vline(xintercept=36, linetype='dotted')  +\n",
    "            #geom_vline(xintercept=40, linetype='dotted')  +\n",
    "            #geom_vline(xintercept=64, linetype='dotted')  +\n",
    "            #xlim(c(0,filter)) +\n",
    "            geom_rect(data=data.frame(xmin=-15, xmax=0, ymin=0, ymax=.012),\n",
    "                      mapping=aes(xmin=xmin,xmax=xmax,ymin=ymin,ymax=ymax),fill='white') +\n",
    "                      # covers the left hand edge effect\n",
    "            geom_rect(data=data.frame(xmin=filter, xmax=filter+50, ymin=0, ymax=.012),\n",
    "                      mapping=aes(xmin=xmin,xmax=xmax,ymin=ymin,ymax=ymax),fill='white') +\n",
    "                      # covers the right hand edge effect\n",
    "            coord_cartesian(ylim = c(0,.012),\n",
    "                            xlim = c(0, filter)) + \n",
    "            xlab(\"Absolute position (bp)\") +\n",
    "            geom_vline(xintercept=0, linetype='dashed') +\n",
    "            theme(axis.title.x=element_text(size=rel(0.9))) +\n",
    "            theme(axis.title.y=element_text(size=rel(0.9))) +\n",
    "            theme(title=element_text(size=rel(0.75))) + \n",
    "            theme(text = element_text(family = 'Arial'))\n",
    "\n",
    "    plt \n",
    "    \n",
    "    return (plt)\n",
    "}\n",
    "\n",
    "\n",
    "gm_mean = function(x, na.rm=TRUE){\n",
    "    # from https://stackoverflow.com/questions/2602583/geometric-mean-is-there-a-built-in\n",
    "  exp(sum(log(x[x > 0]), na.rm=na.rm) / length(x))\n",
    "}\n",
    "\n",
    "unstrandeddens3 <- function(data, filter = 150, bw = 2, color = \"orchid4\", linetype=\"solid\",\n",
    "                            smoothleft=FALSE, smoothright=FALSE){\n",
    "    \n",
    "    df <- data.frame(x=data)\n",
    "    df <- data.frame(x=df[abs(df$x) <= filter,])\n",
    "    \n",
    "    # take the absolute value\n",
    "    df <- abs(df)\n",
    "    df <- rbind(df, data.frame(x=df[df$x ==0,])) # pads the zero position X2 \n",
    "                                # since it should be doubled to match everything else\n",
    "    if (smoothleft) {\n",
    "        nzeros <- mean(\n",
    "                        c(\n",
    "                          len(df[df$x==0,]),\n",
    "                          len(df[df$x==1,]),\n",
    "                          len(df[df$x==2,]),\n",
    "                          len(df[df$x==3,]),\n",
    "                          len(df[df$x==4,]),\n",
    "                          len(df[df$x==5,]),\n",
    "                          len(df[df$x==6,])))\n",
    "        #\n",
    "\n",
    "        pad_df <- data.frame(x=c(rep(-1,nzeros), \n",
    "                             rep(-2,nzeros),\n",
    "                             rep(-3,nzeros),\n",
    "                             rep(-4,nzeros),\n",
    "                             rep(-5,nzeros),\n",
    "                             rep(-6,nzeros),\n",
    "                             rep(-7,nzeros),\n",
    "                             rep(-8,nzeros),\n",
    "                             rep(-9,nzeros)))\n",
    "    \n",
    "        df  <- rbind(df, pad_df)   # pad to avoid the blip down at zero\n",
    "    }\n",
    "    \n",
    "    if (smoothright){\n",
    "        nends <- mean(\n",
    "                        c(\n",
    "                          len(df[df$x==filter  ,]),\n",
    "                          len(df[df$x==filter-1,]),\n",
    "                          len(df[df$x==filter-2,]),\n",
    "                          len(df[df$x==filter-3,]),\n",
    "                          len(df[df$x==filter-4,]),\n",
    "                          len(df[df$x==filter-5,]),\n",
    "                          len(df[df$x==filter-6,])))\n",
    "\n",
    "        #nends <- len(df[df$x==filter,]) # \n",
    "        pad_df <- data.frame(x=c(rep(filter+1,nends), \n",
    "                             rep(filter+2,nends),\n",
    "                             rep(filter+3,nends),\n",
    "                             rep(filter+4,nends),\n",
    "                             rep(filter+5,nends),\n",
    "                             rep(filter+6,nends),\n",
    "                             rep(filter+7,nends),\n",
    "                             rep(filter+8,nends),\n",
    "                             rep(filter+9,nends)))\n",
    "        df  <- rbind(df, pad_df)   # pad to avoid the blip down at other side\n",
    "    }\n",
    "\n",
    "    plt <- ggplot() +\n",
    "            #geom_histogram(df, aes(x=x, y=stat(density)), binwidth=1, fill = 'gray') +\n",
    "            stat_density(data = df, aes(x=x), bw=bw, color = color, geom = 'line', \n",
    "                         linetype=linetype, size=.8)  +\n",
    "            theme_classic()                                    +\n",
    "            geom_vline(xintercept=73, linetype='dotted')  +\n",
    "            ##geom_vline(xintercept=-73, linetype='dotted') +\n",
    "            #geom_vline(xintercept=31, linetype='dotted')  +\n",
    "            #geom_vline(xintercept=36, linetype='dotted')  +\n",
    "            #geom_vline(xintercept=40, linetype='dotted')  +\n",
    "            #geom_vline(xintercept=64, linetype='dotted')  +\n",
    "            #xlim(c(0,filter)) +\n",
    "            coord_cartesian(ylim = c(0,.012),\n",
    "                            xlim = c(0, filter)) + \n",
    "            xlab(\"Absolute position (bp)\") +\n",
    "            geom_vline(xintercept=0, linetype='dashed') +\n",
    "            theme(axis.title.x=element_text(size=rel(0.9))) +\n",
    "            theme(axis.title.y=element_text(size=rel(0.9))) +\n",
    "            theme(title=element_text(size=rel(0.75))) + \n",
    "            theme(text = element_text(family = 'Arial'))\n",
    "\n",
    "    \n",
    "    if (smoothleft)   {plt <- plt + geom_rect(data=data.frame(xmin=-15, xmax=0, ymin=0, ymax=.012),\n",
    "                      mapping=aes(xmin=xmin,xmax=xmax,ymin=ymin,ymax=ymax),fill='white')}\n",
    "                      # covers the left hand extension from smoothing\n",
    "    if (smoothright) {plt <- plt + geom_rect(data=data.frame(xmin=filter, xmax=filter+50, ymin=0, ymax=.012),\n",
    "                      mapping=aes(xmin=xmin,xmax=xmax,ymin=ymin,ymax=ymax),fill='white')}\n",
    "                      # covers the right hand extension from smoothing\n",
    "    plt \n",
    "    \n",
    "    return (plt)\n",
    "}\n",
    "\n",
    "unstrandeddens4 <- function(data, filter = 150, bw = 2, color = \"orchid4\", linetype=\"solid\",\n",
    "                            smoothleft=FALSE, smoothright=FALSE){\n",
    "    \n",
    "    df <- data.frame(x=data)\n",
    "    df <- data.frame(x=df[abs(df$x) <= filter,])\n",
    "    \n",
    "    # take the absolute value\n",
    "    df <- abs(df)\n",
    "    df <- rbind(df, data.frame(x=df[df$x ==0,])) # pads the zero position X2 \n",
    "                                # since it should be doubled to match everything else\n",
    "    if (smoothleft) {\n",
    "        nzeros <- mean(\n",
    "                        c(\n",
    "                          len(df[df$x==0,]),\n",
    "                          len(df[df$x==1,]),\n",
    "                          len(df[df$x==2,]),\n",
    "                          len(df[df$x==3,]),\n",
    "                          len(df[df$x==4,]),\n",
    "                          len(df[df$x==5,]),\n",
    "                          len(df[df$x==6,])))\n",
    "        #\n",
    "\n",
    "        pad_df <- data.frame(x=c(rep(-1,nzeros), \n",
    "                             rep(-2,nzeros),\n",
    "                             rep(-3,nzeros),\n",
    "                             rep(-4,nzeros),\n",
    "                             rep(-5,nzeros),\n",
    "                             rep(-6,nzeros),\n",
    "                             rep(-7,nzeros),\n",
    "                             rep(-8,nzeros),\n",
    "                             rep(-9,nzeros)))\n",
    "    \n",
    "        df  <- rbind(df, pad_df)   # pad to avoid the blip down at zero\n",
    "    }\n",
    "    \n",
    "    if (smoothright){\n",
    "        nends <- mean(\n",
    "                        c(\n",
    "                          len(df[df$x==filter  ,]),\n",
    "                          len(df[df$x==filter-1,]),\n",
    "                          len(df[df$x==filter-2,]),\n",
    "                          len(df[df$x==filter-3,]),\n",
    "                          len(df[df$x==filter-4,]),\n",
    "                          len(df[df$x==filter-5,]),\n",
    "                          len(df[df$x==filter-6,])))\n",
    "\n",
    "        #nends <- len(df[df$x==filter,]) # \n",
    "        pad_df <- data.frame(x=c(rep(filter+1,nends), \n",
    "                             rep(filter+2,nends),\n",
    "                             rep(filter+3,nends),\n",
    "                             rep(filter+4,nends),\n",
    "                             rep(filter+5,nends),\n",
    "                             rep(filter+6,nends),\n",
    "                             rep(filter+7,nends),\n",
    "                             rep(filter+8,nends),\n",
    "                             rep(filter+9,nends)))\n",
    "        df  <- rbind(df, pad_df)   # pad to avoid the blip down at other side\n",
    "    }\n",
    "\n",
    "    smoothdens <- density(df$x, bw=bw)\n",
    "    \n",
    "    smoothdata <- data.frame(x=smoothdens$x, y=smoothdens$y)\n",
    "    \n",
    "    plt <- ggplot(data=smoothdata) +\n",
    "            geom_line(aes(x=x, y=y), color = color,  \n",
    "                         linetype=linetype, size=.8)  +\n",
    "            theme_classic()                                    +\n",
    "            geom_vline(xintercept=73, linetype='dotted')  +\n",
    "            ##geom_vline(xintercept=-73, linetype='dotted') +\n",
    "            #geom_vline(xintercept=31, linetype='dotted')  +\n",
    "            #geom_vline(xintercept=36, linetype='dotted')  +\n",
    "            #geom_vline(xintercept=40, linetype='dotted')  +\n",
    "            #geom_vline(xintercept=64, linetype='dotted')  +\n",
    "            xlim(c(0,filter)) +\n",
    "            coord_cartesian(ylim = c(0,.012),\n",
    "                            xlim = c(0, filter)) + \n",
    "            xlab(\"Distance from dyad (bp)\") +\n",
    "            ylab(\"Density\") +\n",
    "            geom_vline(xintercept=0, linetype='dashed') +\n",
    "            theme(axis.title.x=element_text(size=rel(0.9))) +\n",
    "            theme(axis.title.y=element_text(size=rel(0.9))) +\n",
    "            theme(title=element_text(size=rel(0.75))) + \n",
    "            theme(text = element_text(family = 'Arial'))\n",
    "\n",
    "    plt \n",
    "    \n",
    "    return (plt)\n",
    "}"
   ]
  },
  {
   "cell_type": "code",
   "execution_count": 25,
   "metadata": {},
   "outputs": [],
   "source": [
    "Whyte_std_Soxmotifs <- import(\"~/SoxOct/mouse/chipseq_Whyte2013/Sox_motifs.strand.bed\")\n",
    "Whyte_std_Soxmotifs_c <- resize(Whyte_std_Soxmotifs, width=0, fix='center')\n",
    "\n",
    "Whyte_std_Octmotifs <- import(\"~/SoxOct/mouse/chipseq_Whyte2013/Oct_motifs.strand.bed\")\n",
    "Whyte_std_Octmotifs_c <- resize(Whyte_std_Octmotifs, width=0, fix='center')"
   ]
  },
  {
   "cell_type": "code",
   "execution_count": 26,
   "metadata": {},
   "outputs": [],
   "source": [
    "EpiSC_std_Soxmotifs <- import(\"~/SoxOct/mouse/EpiSC_chip/Sox_motifs.strand.bed\")\n",
    "EpiSC_std_Soxmotifs_c <- resize(EpiSC_std_Soxmotifs, width=0, fix='center')\n",
    "\n",
    "EpiSC_std_Octmotifs <- import(\"~/SoxOct/mouse/EpiSC_chip/Oct_motifs.strand.bed\")\n",
    "EpiSC_std_Octmotifs_c <- resize(EpiSC_std_Octmotifs, width=0, fix='center')"
   ]
  },
  {
   "cell_type": "markdown",
   "metadata": {},
   "source": [
    "### exclude overlaps (2 peaks within 200 bp)"
   ]
  },
  {
   "cell_type": "code",
   "execution_count": 27,
   "metadata": {},
   "outputs": [
    {
     "name": "stdout",
     "output_type": "stream",
     "text": [
      "[1]  417 4619 8345\n",
      "[1]   319 36576 63008\n"
     ]
    }
   ],
   "source": [
    "Whyte_std_Soxmotifs_200 <- resize(Whyte_std_Soxmotifs, width = 200, fix='center')\n",
    "Whyte_std_Octmotifs_200 <- resize(Whyte_std_Octmotifs, width = 200, fix='center')\n",
    "\n",
    "EpiSC_std_Soxmotifs_200 <- resize(EpiSC_std_Soxmotifs, width = 200, fix='center')\n",
    "EpiSC_std_Octmotifs_200 <- resize(EpiSC_std_Octmotifs, width = 200, fix='center')\n",
    "\n",
    "Whyte_overlaps <- subsetByOverlaps(Whyte_std_Soxmotifs_200, Whyte_std_Octmotifs_200)\n",
    "print(c(len(Whyte_overlaps), len(Whyte_std_Soxmotifs), len(Whyte_std_Octmotifs)))\n",
    "\n",
    "EpiSC_overlaps <- subsetByOverlaps(EpiSC_std_Soxmotifs_200, EpiSC_std_Octmotifs_200)\n",
    "print(c(len(EpiSC_overlaps), len(EpiSC_std_Soxmotifs), len(EpiSC_std_Octmotifs)))"
   ]
  },
  {
   "cell_type": "code",
   "execution_count": 28,
   "metadata": {},
   "outputs": [],
   "source": [
    "Whyte_std_Soxmotifs <- Whyte_std_Soxmotifs[!Whyte_std_Soxmotifs_200 %in% Whyte_overlaps]\n",
    "Whyte_std_Octmotifs <- Whyte_std_Octmotifs[!Whyte_std_Octmotifs_200 %in% Whyte_overlaps]\n",
    "\n",
    "Whyte_std_Soxmotifs_c <- resize(Whyte_std_Soxmotifs, width=0, fix='center')\n",
    "Whyte_std_Octmotifs_c <- resize(Whyte_std_Octmotifs, width=0, fix='center')\n",
    "\n",
    "EpiSC_std_Soxmotifs <- EpiSC_std_Soxmotifs[!EpiSC_std_Soxmotifs_200 %in% EpiSC_overlaps]\n",
    "EpiSC_std_Octmotifs <- EpiSC_std_Octmotifs[!EpiSC_std_Octmotifs_200 %in% EpiSC_overlaps]\n",
    "\n",
    "EpiSC_std_Soxmotifs_c <- resize(EpiSC_std_Soxmotifs, width=0, fix='center')\n",
    "EpiSC_std_Octmotifs_c <- resize(EpiSC_std_Octmotifs, width=0, fix='center')"
   ]
  },
  {
   "cell_type": "markdown",
   "metadata": {},
   "source": [
    "### distance calculation\n",
    "\n",
    "**warning** -- the `strandedDistanceByNearest` function is quite slow - expect this to take a while. Maybe go get a cup of coffee and check your email."
   ]
  },
  {
   "cell_type": "code",
   "execution_count": 29,
   "metadata": {},
   "outputs": [],
   "source": [
    "#dist_strand_m1_p     <- strandedDistanceByNearest(target = npeaks_m1_p_c, query = Whyte_std_tandemmotifs_c)\n",
    "dist_strand_m1_p_Sox <- strandedDistanceByNearest(target = npeaks_m1_p_c, query = Whyte_std_Soxmotifs_c)\n",
    "dist_strand_m1_p_Oct <- strandedDistanceByNearest(target = npeaks_m1_p_c, query = Whyte_std_Octmotifs_c)"
   ]
  },
  {
   "cell_type": "code",
   "execution_count": 30,
   "metadata": {},
   "outputs": [],
   "source": [
    "#dist_Epi_strand_m1_p_tandem  <- strandedDistanceByNearest(target = npeaks_m1_p_c, query = EpiSC_std_tandemmotifs_c)\n",
    "dist_Epi_strand_m1_p_Sox     <- strandedDistanceByNearest(target = npeaks_m1_p_c, query = EpiSC_std_Soxmotifs_c)\n",
    "dist_Epi_strand_m1_p_Oct     <- strandedDistanceByNearest(target = npeaks_m1_p_c, query = EpiSC_std_Octmotifs_c)"
   ]
  },
  {
   "cell_type": "markdown",
   "metadata": {},
   "source": [
    "## render panels 7C-F"
   ]
  },
  {
   "cell_type": "code",
   "execution_count": 31,
   "metadata": {},
   "outputs": [
    {
     "name": "stderr",
     "output_type": "stream",
     "text": [
      "Loading required package: grid\n"
     ]
    },
    {
     "data": {
      "image/png": "[encoded data removed]",
      "text/plain": [
       "plot without title"
      ]
     },
     "metadata": {},
     "output_type": "display_data"
    }
   ],
   "source": [
    "plt_EpiSox <- unstrandeddens4(dist_Epi_strand_m1_p_Sox, filter = 150, bw =3,\n",
    "                         smoothleft = TRUE, smoothright = TRUE, color=safered   ) +ggtitle('EpiSC Sox2') \n",
    "plt_EpiOct <- unstrandeddens4(dist_Epi_strand_m1_p_Oct, filter = 150, bw =3,\n",
    "                         smoothleft = TRUE, smoothright = TRUE, color=safegreen ) +ggtitle('EpiSC Oct4')# +xlab(\"Relative position (bp)\")\n",
    "\n",
    "plt_ESCSox <- unstrandeddens4(dist_strand_m1_p_Sox, filter = 150, bw =3, \n",
    "                         smoothleft=TRUE,  smoothright=FALSE, color=safered   ) +ggtitle('mESC Sox2')\n",
    "plt_ESCOct <- unstrandeddens4(dist_strand_m1_p_Oct, filter = 150, bw =3, \n",
    "                         smoothleft=TRUE, smoothright=TRUE, color=safegreen ) +ggtitle('mESC Oct4') # +xlab(\"Relative position (bp)\") \n",
    "\n",
    "options(repr.plot.width=8, repr.plot.height=2)\n",
    "multiplot( plt_EpiSox, \n",
    "           plt_EpiOct, \n",
    "           plt_ESCSox, \n",
    "           plt_ESCOct, cols = 4)\n",
    "options(repr.plot.width=6, repr.plot.height=2)"
   ]
  },
  {
   "cell_type": "raw",
   "metadata": {},
   "source": [
    "setEPS()\n",
    "postscript(\"F7_CF.eps\", width = 8, height = 2, )\n",
    "multiplot( plt_EpiSox, \n",
    "           plt_EpiOct, \n",
    "           plt_ESCSox, \n",
    "           plt_ESCOct, cols = 4)\n",
    "dev.off()"
   ]
  },
  {
   "cell_type": "markdown",
   "metadata": {},
   "source": [
    "# Statistical tests"
   ]
  },
  {
   "cell_type": "markdown",
   "metadata": {},
   "source": [
    "## helper functions"
   ]
  },
  {
   "cell_type": "code",
   "execution_count": 32,
   "metadata": {},
   "outputs": [],
   "source": [
    "# helper functions\n",
    "\n",
    "mass <- function(dist, filter){\n",
    "    # takes a raw vector -- i.e. a raw dataset of distances -- and converts it to a freq table\n",
    "    df = data.frame(x=dist)\n",
    "    df = df[abs(df$x) <= filter,]\n",
    "    \n",
    "    return (as.data.frame(table(df), stringsAsFactors = FALSE))\n",
    "}"
   ]
  },
  {
   "cell_type": "code",
   "execution_count": 33,
   "metadata": {},
   "outputs": [],
   "source": [
    "filterData <- function(dataset, minbound, maxbound){\n",
    "    \n",
    "    filter <- max(abs(minbound),abs(maxbound))\n",
    "    \n",
    "    counts <- mass(dataset, filter=filter)\n",
    "    \n",
    "    retval <- counts[as.numeric(counts$df) >= minbound & as.numeric(counts$df) <= maxbound,]\n",
    "    return (retval)\n",
    "}"
   ]
  },
  {
   "cell_type": "code",
   "execution_count": 34,
   "metadata": {},
   "outputs": [],
   "source": [
    "unstrand <- function(data, filter = 150){\n",
    "    \n",
    "    df <- data.frame(x=data)\n",
    "    df <- data.frame(x=df[abs(df$x) <= filter,])\n",
    "    \n",
    "    # take the absolute value\n",
    "    df <- abs(df)\n",
    "    df <- rbind(df, data.frame(x=df[df$x ==0,]))\n",
    "    \n",
    "    return (df)\n",
    "}"
   ]
  },
  {
   "cell_type": "markdown",
   "metadata": {},
   "source": [
    "## t-tests"
   ]
  },
  {
   "cell_type": "code",
   "execution_count": 35,
   "metadata": {},
   "outputs": [],
   "source": [
    "#wrapper function for convenience and pretty printing\n",
    "t_test_wrap_unstrand <- function(dataset, window=13){\n",
    "\n",
    "    res <- t.test(filterData(dataset, minbound = 0, maxbound = (window-1))$Freq, \n",
    "                   filterData(dataset, minbound = 36-floor((window-1)/2), \n",
    "                              maxbound = 36+ceiling((window-1)/2))$Freq)$p.value\n",
    "    print(c(\"1/4 vs. dyad:\", res))\n",
    "    \n",
    "    res <- t.test(filterData(dataset, minbound =  73 - (window-1), maxbound = 73)$Freq, \n",
    "                   filterData(dataset, minbound = 36-floor((window-1)/2), \n",
    "                              maxbound = 36+ceiling((window-1)/2))$Freq)$p.value\n",
    "    print(c(\"1/4 vs. edge:\", res))\n",
    "    \n",
    "    res <- t.test(filterData(dataset, minbound =  73 - (window-1), maxbound = 73)$Freq, \n",
    "                   filterData(dataset, minbound = 0, maxbound = (window-1))$Freq)$p.value\n",
    "    print(c(\"dyad vs. edge:\", res))\n",
    "}"
   ]
  },
  {
   "cell_type": "code",
   "execution_count": 36,
   "metadata": {},
   "outputs": [
    {
     "name": "stdout",
     "output_type": "stream",
     "text": [
      "[1] \"Sox mEpiSCs\"\n",
      "[1] \"1/4 vs. dyad:\"     \"0.545660044711505\"\n",
      "[1] \"1/4 vs. edge:\"        \"1.20475690783332e-05\"\n",
      "[1] \"dyad vs. edge:\"       \"3.60049173900595e-07\"\n",
      "[1] \"Oct mEpiSCs\"\n",
      "[1] \"1/4 vs. dyad:\"     \"0.164782632764695\"\n",
      "[1] \"1/4 vs. edge:\"     \"0.539136827308958\"\n",
      "[1] \"dyad vs. edge:\"    \"0.472564464504114\"\n",
      "[1] \"Sox mESCs\"\n",
      "[1] \"1/4 vs. dyad:\"     \"0.563336452587995\"\n",
      "[1] \"1/4 vs. edge:\"      \"0.0024440732186062\"\n",
      "[1] \"dyad vs. edge:\"      \"0.00269856337972238\"\n",
      "[1] \"Oct mESCs\"\n",
      "[1] \"1/4 vs. dyad:\"     \"0.110863274268934\"\n",
      "[1] \"1/4 vs. edge:\"     \"0.685512311362539\"\n",
      "[1] \"dyad vs. edge:\"     \"0.0727058084230916\"\n"
     ]
    }
   ],
   "source": [
    "window=13\n",
    "\n",
    "print(\"Sox mEpiSCs\")\n",
    "t_test_wrap_unstrand(unstrand(dist_Epi_strand_m1_p_Sox), window=window)\n",
    "print(\"Oct mEpiSCs\")\n",
    "t_test_wrap_unstrand(unstrand(dist_Epi_strand_m1_p_Oct), window=window)\n",
    "\n",
    "print(\"Sox mESCs\")\n",
    "t_test_wrap_unstrand(unstrand(dist_strand_m1_p_Sox), window=window)\n",
    "print(\"Oct mESCs\")\n",
    "t_test_wrap_unstrand(unstrand(dist_strand_m1_p_Oct), window=window)"
   ]
  },
  {
   "cell_type": "code",
   "execution_count": 37,
   "metadata": {},
   "outputs": [
    {
     "data": {
      "text/plain": [
       "R version 3.5.1 (2018-07-02)\n",
       "Platform: x86_64-conda_cos6-linux-gnu (64-bit)\n",
       "Running under: Red Hat Enterprise Linux Server 7.2 (Maipo)\n",
       "\n",
       "Matrix products: default\n",
       "BLAS/LAPACK: /rugpfs/fs0/zhao_lab/scratch/ezheng/.store/.miniconda3/lib/R/lib/libRblas.so\n",
       "\n",
       "locale:\n",
       "[1] en_US.UTF-8\n",
       "\n",
       "attached base packages:\n",
       " [1] grid      parallel  stats4    stats     graphics  grDevices utils    \n",
       " [8] datasets  methods   base     \n",
       "\n",
       "other attached packages:\n",
       " [1] viridis_0.5.1                          \n",
       " [2] viridisLite_0.3.0                      \n",
       " [3] TxDb.Mmusculus.UCSC.mm9.knownGene_3.2.2\n",
       " [4] ggplot2_3.1.1                          \n",
       " [5] heatmaps_1.6.0                         \n",
       " [6] BSgenome.Mmusculus.UCSC.mm9_1.4.0      \n",
       " [7] HelloRanges_1.8.0                      \n",
       " [8] GenomicAlignments_1.18.1               \n",
       " [9] VariantAnnotation_1.28.13              \n",
       "[10] Rsamtools_1.34.1                       \n",
       "[11] SummarizedExperiment_1.12.0            \n",
       "[12] DelayedArray_0.8.0                     \n",
       "[13] BiocParallel_1.16.6                    \n",
       "[14] matrixStats_0.54.0                     \n",
       "[15] GenomicFeatures_1.34.6                 \n",
       "[16] AnnotationDbi_1.44.0                   \n",
       "[17] Biobase_2.42.0                         \n",
       "[18] BSgenome_1.50.0                        \n",
       "[19] Biostrings_2.50.2                      \n",
       "[20] XVector_0.22.0                         \n",
       "[21] rtracklayer_1.42.2                     \n",
       "[22] GenomicRanges_1.34.0                   \n",
       "[23] GenomeInfoDb_1.18.2                    \n",
       "[24] IRanges_2.16.0                         \n",
       "[25] S4Vectors_0.20.1                       \n",
       "[26] BiocGenerics_0.28.0                    \n",
       "[27] extrafont_0.17                         \n",
       "\n",
       "loaded via a namespace (and not attached):\n",
       " [1] bitops_1.0-6           EBImage_4.24.0         bit64_0.9-7           \n",
       " [4] RColorBrewer_1.1-2     progress_1.2.0         httr_1.4.0            \n",
       " [7] repr_0.19.2            docopt_0.6.1           tools_3.5.1           \n",
       "[10] R6_2.4.0               KernSmooth_2.23-15     DBI_1.0.0             \n",
       "[13] lazyeval_0.2.2         colorspace_1.4-1       withr_2.1.2           \n",
       "[16] tidyselect_0.2.5       gridExtra_2.3          prettyunits_1.0.2     \n",
       "[19] bit_1.1-14             compiler_3.5.1         extrafontdb_1.0       \n",
       "[22] labeling_0.3           scales_1.0.0           pbdZMQ_0.3-3          \n",
       "[25] stringr_1.4.0          digest_0.6.18          tiff_0.1-5            \n",
       "[28] fftwtools_0.9-8        base64enc_0.1-3        jpeg_0.1-8            \n",
       "[31] pkgconfig_2.0.2        htmltools_0.3.6        plotrix_3.7-4         \n",
       "[34] htmlwidgets_1.3        rlang_0.3.2            RSQLite_2.1.1         \n",
       "[37] jsonlite_1.6           dplyr_0.8.0.1          RCurl_1.95-4.12       \n",
       "[40] magrittr_1.5           GenomeInfoDbData_1.2.0 Matrix_1.2-17         \n",
       "[43] Rcpp_1.0.1             IRkernel_0.8.15        munsell_0.5.0         \n",
       "[46] abind_1.4-5            stringi_1.4.3          zlibbioc_1.28.0       \n",
       "[49] plyr_1.8.4             blob_1.1.1             crayon_1.3.4          \n",
       "[52] lattice_0.20-38        IRdisplay_0.7.0        hms_0.4.2             \n",
       "[55] locfit_1.5-9.1         pillar_1.3.1           uuid_0.1-2            \n",
       "[58] biomaRt_2.38.0         XML_3.98-1.12          glue_1.3.1            \n",
       "[61] evaluate_0.13          png_0.1-7              Rttf2pt1_1.3.7        \n",
       "[64] gtable_0.2.0           purrr_0.3.2            assertthat_0.2.1      \n",
       "[67] tibble_2.1.1           memoise_1.1.0         "
      ]
     },
     "metadata": {},
     "output_type": "display_data"
    }
   ],
   "source": [
    "sessionInfo()"
   ]
  },
  {
   "cell_type": "code",
   "execution_count": null,
   "metadata": {},
   "outputs": [],
   "source": []
  }
 ],
 "metadata": {
  "kernelspec": {
   "display_name": "R",
   "language": "R",
   "name": "ir"
  },
  "language_info": {
   "codemirror_mode": "r",
   "file_extension": ".r",
   "mimetype": "text/x-r-source",
   "name": "R",
   "pygments_lexer": "r",
   "version": "3.5.1"
  },
  "notify_time": "5",
  "toc": {
   "nav_menu": {},
   "number_sections": true,
   "sideBar": true,
   "skip_h1_title": false,
   "toc_cell": false,
   "toc_position": {
    "height": "547px",
    "left": "0px",
    "right": "1110px",
    "top": "110px",
    "width": "347px"
   },
   "toc_section_display": "block",
   "toc_window_display": true
  }
 },
 "nbformat": 4,
 "nbformat_minor": 2
}
