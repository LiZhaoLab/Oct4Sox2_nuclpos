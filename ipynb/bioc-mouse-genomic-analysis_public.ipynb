{
 "cells": [
  {
   "cell_type": "markdown",
   "metadata": {},
   "source": [
    "This notebook is the second of 2 parts for the analysis of mouse data presented in **Figure 6**. This notebook ingests the location of nucleosomes (from DANPOS dpos, filtered and converted by `danpos-xls-process.py`), the nucleosome positioning track (from DANPOS dpos, pre-processed by the somewhat misnamed `wig2rle.R`), and PF binding sites (processed from FIMO results via `py3-motif-matching.ipynb`), and outputs the final figures (though the file-writing cells have been disabled).\n",
    "\n",
    "**Warning** - this notebook requires significant computational resources and was originally run on a compute node of the Rockefeller High-Performance Computing environment. You should have at least 10 GB of RAM *available to the R kernel* (not just on the machine, as other programs will require their own memory) - most laptops will not have this much memory. I have observed my notebooks' memory usage peaking at as much as 80 GB of RAM (!).\n",
    "\n",
    "I suspect that the main culprit is the `strandedDistanceByNearest` call. I welcome suggestions to improve its decidedly inefficient iterative algorithmic structure, which was regrettably necessary to handle NAs.\n",
    "\n",
    "# various initialization steps"
   ]
  },
  {
   "cell_type": "code",
   "execution_count": 1,
   "metadata": {},
   "outputs": [],
   "source": [
    "# for my sanity - map some function names that I think exist to what actually exist\n",
    "nrows <- nrow\n",
    "ncols <- ncol\n",
    "len <- length"
   ]
  },
  {
   "cell_type": "code",
   "execution_count": 2,
   "metadata": {},
   "outputs": [],
   "source": [
    "options(repr.plot.width=12, repr.plot.height=4)"
   ]
  },
  {
   "cell_type": "code",
   "execution_count": 3,
   "metadata": {},
   "outputs": [],
   "source": [
    "multiplot <- function(..., plotlist=NULL, cols) {\n",
    "    # from Winston Chang's R Cookbook\n",
    "    \n",
    "    require(grid)\n",
    "\n",
    "    # Make a list from the ... arguments and plotlist\n",
    "    plots <- c(list(...), plotlist)\n",
    "\n",
    "    numPlots = length(plots)\n",
    "\n",
    "    # Make the panel\n",
    "    plotCols = cols                          # Number of columns of plots\n",
    "    plotRows = ceiling(numPlots/plotCols) # Number of rows needed, calculated from # of cols\n",
    "\n",
    "    # Set up the page\n",
    "    grid.newpage()\n",
    "    pushViewport(viewport(layout = grid.layout(plotRows, plotCols)))\n",
    "    vplayout <- function(x, y)\n",
    "        viewport(layout.pos.row = x, layout.pos.col = y)\n",
    "\n",
    "    # Make each plot, in the correct location\n",
    "    for (i in 1:numPlots) {\n",
    "        curRow = ceiling(i/plotCols)\n",
    "        curCol = (i-1) %% plotCols + 1\n",
    "        print(plots[[i]], vp = vplayout(curRow, curCol ))\n",
    "    }\n",
    "\n",
    "}"
   ]
  },
  {
   "cell_type": "code",
   "execution_count": 4,
   "metadata": {},
   "outputs": [
    {
     "name": "stderr",
     "output_type": "stream",
     "text": [
      "Registering fonts with R\n"
     ]
    }
   ],
   "source": [
    "library(extrafont)"
   ]
  },
  {
   "cell_type": "code",
   "execution_count": 5,
   "metadata": {
    "collapsed": true
   },
   "outputs": [
    {
     "name": "stderr",
     "output_type": "stream",
     "text": [
      "Loading required package: GenomicRanges\n",
      "Loading required package: stats4\n",
      "Loading required package: BiocGenerics\n",
      "Loading required package: parallel\n",
      "\n",
      "Attaching package: ‘BiocGenerics’\n",
      "\n",
      "The following objects are masked from ‘package:parallel’:\n",
      "\n",
      "    clusterApply, clusterApplyLB, clusterCall, clusterEvalQ,\n",
      "    clusterExport, clusterMap, parApply, parCapply, parLapply,\n",
      "    parLapplyLB, parRapply, parSapply, parSapplyLB\n",
      "\n",
      "The following objects are masked from ‘package:stats’:\n",
      "\n",
      "    IQR, mad, sd, var, xtabs\n",
      "\n",
      "The following objects are masked from ‘package:base’:\n",
      "\n",
      "    anyDuplicated, append, as.data.frame, cbind, colMeans, colnames,\n",
      "    colSums, do.call, duplicated, eval, evalq, Filter, Find, get, grep,\n",
      "    grepl, intersect, is.unsorted, lapply, lengths, Map, mapply, match,\n",
      "    mget, order, paste, pmax, pmax.int, pmin, pmin.int, Position, rank,\n",
      "    rbind, Reduce, rowMeans, rownames, rowSums, sapply, setdiff, sort,\n",
      "    table, tapply, union, unique, unsplit, which, which.max, which.min\n",
      "\n",
      "Loading required package: S4Vectors\n",
      "\n",
      "Attaching package: ‘S4Vectors’\n",
      "\n",
      "The following object is masked from ‘package:base’:\n",
      "\n",
      "    expand.grid\n",
      "\n",
      "Loading required package: IRanges\n",
      "Loading required package: GenomeInfoDb\n",
      "Loading required package: Biostrings\n",
      "Loading required package: XVector\n",
      "\n",
      "Attaching package: ‘Biostrings’\n",
      "\n",
      "The following object is masked from ‘package:base’:\n",
      "\n",
      "    strsplit\n",
      "\n",
      "Loading required package: BSgenome\n",
      "Loading required package: GenomicFeatures\n",
      "Loading required package: AnnotationDbi\n",
      "Loading required package: Biobase\n",
      "Welcome to Bioconductor\n",
      "\n",
      "    Vignettes contain introductory material; view with\n",
      "    'browseVignettes()'. To cite Bioconductor, see\n",
      "    'citation(\"Biobase\")', and for packages 'citation(\"pkgname\")'.\n",
      "\n",
      "Loading required package: VariantAnnotation\n",
      "Loading required package: SummarizedExperiment\n",
      "Loading required package: DelayedArray\n",
      "Loading required package: matrixStats\n",
      "\n",
      "Attaching package: ‘matrixStats’\n",
      "\n",
      "The following objects are masked from ‘package:Biobase’:\n",
      "\n",
      "    anyMissing, rowMedians\n",
      "\n",
      "\n",
      "Attaching package: ‘DelayedArray’\n",
      "\n",
      "The following objects are masked from ‘package:matrixStats’:\n",
      "\n",
      "    colMaxs, colMins, colRanges, rowMaxs, rowMins, rowRanges\n",
      "\n",
      "The following object is masked from ‘package:Biostrings’:\n",
      "\n",
      "    type\n",
      "\n",
      "The following object is masked from ‘package:base’:\n",
      "\n",
      "    apply\n",
      "\n",
      "Loading required package: Rsamtools\n",
      "\n",
      "Attaching package: ‘VariantAnnotation’\n",
      "\n",
      "The following object is masked from ‘package:base’:\n",
      "\n",
      "    tabulate\n",
      "\n",
      "Loading required package: GenomicAlignments\n",
      "\n",
      "Attaching package: ‘heatmaps’\n",
      "\n",
      "The following object is masked from ‘package:SummarizedExperiment’:\n",
      "\n",
      "    metadata<-\n",
      "\n",
      "The following object is masked from ‘package:AnnotationDbi’:\n",
      "\n",
      "    metadata\n",
      "\n",
      "The following objects are masked from ‘package:S4Vectors’:\n",
      "\n",
      "    metadata, metadata<-\n",
      "\n",
      "The following object is masked from ‘package:base’:\n",
      "\n",
      "    scale\n",
      "\n"
     ]
    }
   ],
   "source": [
    "#library(tracktables)\n",
    "library(rtracklayer)\n",
    "library(HelloRanges)\n",
    "library(BSgenome.Mmusculus.UCSC.mm9)\n",
    "library(heatmaps)\n",
    "library(ggplot2)\n",
    "\n",
    "library(TxDb.Mmusculus.UCSC.mm9.knownGene)"
   ]
  },
  {
   "cell_type": "code",
   "execution_count": 6,
   "metadata": {},
   "outputs": [
    {
     "name": "stderr",
     "output_type": "stream",
     "text": [
      "Loading required package: viridisLite\n"
     ]
    }
   ],
   "source": [
    "library(viridis)"
   ]
  },
  {
   "cell_type": "code",
   "execution_count": 7,
   "metadata": {},
   "outputs": [],
   "source": [
    "mouse_transcripts <- transcripts(TxDb.Mmusculus.UCSC.mm9.knownGene, columns=c(\"tx_id\", \"tx_name\"))\n",
    "mouse_transcripts <- keepStandardChromosomes(mouse_transcripts, pruning.mode = 'tidy')\n",
    "# drop MT\n",
    "mouse_transcripts <- mouse_transcripts[seqnames(mouse_transcripts) != \"chrM\"]\n",
    "mouse_tss <- resize(mouse_transcripts, width=1, fix='start')"
   ]
  },
  {
   "cell_type": "code",
   "execution_count": 8,
   "metadata": {},
   "outputs": [],
   "source": [
    "mm9info <- seqinfo(BSgenome.Mmusculus.UCSC.mm9)"
   ]
  },
  {
   "cell_type": "code",
   "execution_count": 9,
   "metadata": {},
   "outputs": [],
   "source": [
    "mouse_tss_2000 <- resize(mouse_tss, width = 2000, fix='center')\n",
    "mouse_tss_2000 <- trim(mouse_tss_2000)"
   ]
  },
  {
   "cell_type": "markdown",
   "metadata": {},
   "source": [
    "# Whyte 2013 ChipSeq motifs\n",
    "\n",
    "I generated peaks via MACS2 from data in Whyte 2013."
   ]
  },
  {
   "cell_type": "markdown",
   "metadata": {},
   "source": [
    "## load motif locations into bioconductor\n",
    "\n",
    "general formula: genomic coordinate of a motif's start = genomic coordinate of a motif's peak window + FIMO-reported start coordinate - value of flanking DNA bp (generally 200) - 1 (due to 1-based indexing, likely in FIMO)"
   ]
  },
  {
   "cell_type": "code",
   "execution_count": 10,
   "metadata": {},
   "outputs": [],
   "source": [
    "## from the py3 notebook \"py3_motif-matching\"\n",
    "\n",
    "Whyte_motifs <- import(\"~/SoxOct/mouse/chipseq_Whyte2013/Sox-Oct_motifs.bed\")\n",
    "Whyte_outermotifs <- import(\"~/SoxOct/mouse/chipseq_Whyte2013/Sox-Oct_outermotifs.bed\")\n",
    "Whyte_Soxmotifs <- import(\"~/SoxOct/mouse/chipseq_Whyte2013/Sox_motifs.bed\")\n",
    "Whyte_Octmotifs <- import(\"~/SoxOct/mouse/chipseq_Whyte2013/Oct_motifs.bed\")\n",
    "\n",
    "Whyte_tandemmotifs <- import(\"~/SoxOct/mouse/chipseq_Whyte2013/tandem_motifs.bed\")"
   ]
  },
  {
   "cell_type": "code",
   "execution_count": 11,
   "metadata": {},
   "outputs": [],
   "source": [
    "## from the py3 notebook \"py3_motif-matching\"\n",
    "\n",
    "EpiSC_motifs <- import(\"~/SoxOct/mouse/EpiSC_chip/Sox-Oct_motifs.bed\")\n",
    "EpiSC_outermotifs <- import(\"~/SoxOct/mouse/EpiSC_chip/Sox-Oct_outermotifs.bed\")\n",
    "EpiSC_Soxmotifs <- import(\"~/SoxOct/mouse/EpiSC_chip/Sox_motifs.bed\")\n",
    "EpiSC_Octmotifs <- import(\"~/SoxOct/mouse/EpiSC_chip/Oct_motifs.bed\")\n",
    "\n",
    "EpiSC_tandemmotifs <- import(\"~/SoxOct/mouse/EpiSC_chip/tandem_motifs.bed\")"
   ]
  },
  {
   "cell_type": "markdown",
   "metadata": {},
   "source": [
    "## define colors"
   ]
  },
  {
   "cell_type": "code",
   "execution_count": 12,
   "metadata": {},
   "outputs": [],
   "source": [
    "safered <- \"#920000\"\n",
    "safegreen <- \"#009292\"\n",
    "safeviolet <- \"#490092\""
   ]
  },
  {
   "cell_type": "markdown",
   "metadata": {},
   "source": [
    "## define metametaplot"
   ]
  },
  {
   "cell_type": "code",
   "execution_count": 13,
   "metadata": {},
   "outputs": [],
   "source": [
    "getvalues <- function(granges, width = 2000, track){\n",
    "    motifwindow <- resize(granges, width = width, fix = 'center')\n",
    "    \n",
    "    htmap <- CoverageHeatmap(windows = motifwindow, track = track)\n",
    "    \n",
    "    plotdata <- colMeans(image(htmap))\n",
    "    plotaxis <- 1:len(plotdata) - floor(width/2)\n",
    "    df <- data.frame(x = plotaxis, y= plotdata)\n",
    "    \n",
    "    return (df)\n",
    "}"
   ]
  },
  {
   "cell_type": "code",
   "execution_count": 14,
   "metadata": {},
   "outputs": [],
   "source": [
    "Whyte_metametaplot <- function(track, mwidth, title=\"\"){\n",
    "    \n",
    "    df1 <- getvalues(Whyte_Soxmotifs, width=mwidth, track=track)\n",
    "    df2 <- getvalues(Whyte_Octmotifs, width=mwidth, track=track)\n",
    "    #df3 <- getvalues(Whyte_outermotifs, width=mwidth, track=track)\n",
    "    df3 <- getvalues(Whyte_tandemmotifs, width=mwidth, track=track)\n",
    "    #df4 <- getvalues(Soxmotifs, width=2000, track=track)\n",
    "    \n",
    "    #options(repr.plot.width=3, repr.plot.height=1)\n",
    "    \n",
    "    abs <- floor(mwidth/2)\n",
    "    plt <- ggplot() + \n",
    "            geom_line(data = df1, aes(x = x, y = y, colour = \"Sox2\"), size=.8) +\n",
    "            geom_line(data = df2, aes(x = x, y = y, colour = \"Oct4\"), size=.8) +\n",
    "            geom_line(data = df3, aes(x = x, y = y, colour = \"Oct4Sox2\"), size=.8) +\n",
    "            #geom_line(data = df4, aes(x = x, y = y, colour = \"TSS\")) +\n",
    "            scale_colour_manual(values=c(safegreen, safeviolet,safered), name=title) +\n",
    "            theme_classic() +\n",
    "            ylab(\"Average\\nnucleosome occupancy\") +\n",
    "            xlab(\"Relative genomic position (bp)\") +\n",
    "            theme(axis.title.x=element_text(size=rel(0.9))) +\n",
    "            theme(axis.title.y=element_text(size=rel(0.9))) +\n",
    "            theme(title=element_text(size=rel(0.8))) +\n",
    "            #ylim (40,90) +\n",
    "            #ylim(40,60) +\n",
    "            xlim(-abs, abs) +\n",
    "            scale_x_continuous(minor_breaks = seq(-1029,1029, 147))\n",
    "                       \n",
    "    plt\n",
    "    \n",
    "    #options(repr.plot.width=3, repr.plot.height=3)\n",
    "    \n",
    "    return(plt)\n",
    "}"
   ]
  },
  {
   "cell_type": "code",
   "execution_count": 15,
   "metadata": {},
   "outputs": [],
   "source": [
    "EpiSC_metametaplot <- function(track, mwidth, title=\"\"){\n",
    "    \n",
    "    df1 <- getvalues(EpiSC_Soxmotifs, width=mwidth, track=track)\n",
    "    df2 <- getvalues(EpiSC_Octmotifs, width=mwidth, track=track)\n",
    "    #df3 <- getvalues(Whyte_outermotifs, width=mwidth, track=track)\n",
    "    df3 <- getvalues(EpiSC_tandemmotifs, width=mwidth, track=track)\n",
    "    #df4 <- getvalues(Soxmotifs, width=2000, track=track)\n",
    "    \n",
    "    #options(repr.plot.width=3, repr.plot.height=1)\n",
    "    \n",
    "    abs <- floor(mwidth/2)\n",
    "    plt <- ggplot() + \n",
    "            geom_line(data = df1, aes(x = x, y = y, colour = \"Sox2\"), size=.8) +\n",
    "            geom_line(data = df2, aes(x = x, y = y, colour = \"Oct4\"), size=.8) +\n",
    "            geom_line(data = df3, aes(x = x, y = y, colour = \"Oct4Sox2\"), size=.8) +\n",
    "            #geom_line(data = df4, aes(x = x, y = y, colour = \"TSS\")) +\n",
    "            scale_colour_manual(values=c(safegreen, safeviolet,safered), name=title) +\n",
    "            theme_classic() +\n",
    "            ylab(\"Average\\nnucleosome occupancy\") +\n",
    "            xlab(\"Relative genomic position (bp)\") +\n",
    "            theme(axis.title.x=element_text(size=rel(0.9))) +\n",
    "            theme(axis.title.y=element_text(size=rel(0.9))) +\n",
    "            theme(title=element_text(size=rel(0.8))) +\n",
    "            #ylim (40,90) +\n",
    "            #ylim(40,60) +\n",
    "            xlim(-abs, abs) +\n",
    "            scale_x_continuous(minor_breaks = seq(-1029,1029, 147))\n",
    "                       \n",
    "    plt\n",
    "    \n",
    "    #options(repr.plot.width=3, repr.plot.height=3)\n",
    "    \n",
    "    return(plt)\n",
    "}"
   ]
  },
  {
   "cell_type": "markdown",
   "metadata": {},
   "source": [
    "# load Teif MNase-seq data"
   ]
  },
  {
   "cell_type": "markdown",
   "metadata": {},
   "source": [
    "## nucleosome track"
   ]
  },
  {
   "cell_type": "code",
   "execution_count": 16,
   "metadata": {},
   "outputs": [],
   "source": [
    "mm_npos_p <- readRDS(\"~/SoxOct/danpos-res/pooled/mESC-MNAseseq.smooth.rle.RDS\")"
   ]
  },
  {
   "cell_type": "code",
   "execution_count": 17,
   "metadata": {},
   "outputs": [
    {
     "data": {},
     "metadata": {},
     "output_type": "display_data"
    },
    {
     "data": {
      "image/png": "[encoded data removed]",
      "text/plain": [
       "plot without title"
      ]
     },
     "metadata": {},
     "output_type": "display_data"
    }
   ],
   "source": [
    "htmap_mm_tss_mnase <- CoverageHeatmap(windows = trim(mouse_tss_2000), track = mm_npos_p)\n",
    "\n",
    "plotdata <- colMeans(image(htmap_mm_tss_mnase))\n",
    "plotaxis <- 1:len(plotdata) - 1000\n",
    "pltdf_mm_tss_mnase <- data.frame(x = plotaxis, y= plotdata)\n",
    "\n",
    "plt <- ggplot() + \n",
    "    geom_line(data = pltdf_mm_tss_mnase, aes(x = x, y = y, colour = \"TSS\")) +\n",
    "    #geom_line(data = pltdf4, aes(x = x, y = y, colour = \"TSS\")) +\n",
    "    scale_colour_manual(values=c(\"red\")) +\n",
    "    #theme_classic() +\n",
    "    theme_bw() +\n",
    "    ylab(\"Average\\nnucleosome occupancy\") +\n",
    "    xlab(\"Relative position (bp)\") +\n",
    "    #ylim (40,90) +\n",
    "    #ylim(40,60) +\n",
    "    #xlim(-200,200) +\n",
    "    scale_x_continuous(minor_breaks = seq(-1029,1029, 147))\n",
    "\n",
    "options(repr.plot.width=12, repr.plot.height=4)\n",
    "\n",
    "plt"
   ]
  },
  {
   "cell_type": "markdown",
   "metadata": {},
   "source": [
    "## nucleosome locations"
   ]
  },
  {
   "cell_type": "code",
   "execution_count": 18,
   "metadata": {},
   "outputs": [],
   "source": [
    "# pooled\n",
    "\n",
    "# read in the ranges\n",
    "npeaks_m1_p <- import(\"~/SoxOct/danpos-res/pooled/mESC-MNaseseq.smooth.positions.bedgraph\")\n",
    "\n",
    "# resize the nucleosome peaks (DANPOS hard-codes them to be 140 bp)\n",
    "npeaks_m1_p_c <- resize(npeaks_m1_p, width = 0, fix = \"center\")"
   ]
  },
  {
   "cell_type": "markdown",
   "metadata": {},
   "source": [
    "# Figure 6B: aggregate nucleosome score"
   ]
  },
  {
   "cell_type": "code",
   "execution_count": 19,
   "metadata": {
    "scrolled": true
   },
   "outputs": [
    {
     "name": "stderr",
     "output_type": "stream",
     "text": [
      "Scale for 'x' is already present. Adding another scale for 'x', which will\n",
      "replace the existing scale.\n"
     ]
    },
    {
     "data": {},
     "metadata": {},
     "output_type": "display_data"
    },
    {
     "data": {
      "image/png": "[encoded data removed]",
      "text/plain": [
       "plot without title"
      ]
     },
     "metadata": {},
     "output_type": "display_data"
    }
   ],
   "source": [
    "options(repr.plot.width=4.5, repr.plot.height=1.5)\n",
    "Whyte_metametaplot(track = mm_npos_p, mwidth = 500, title=\"mESCs\")"
   ]
  },
  {
   "cell_type": "raw",
   "metadata": {},
   "source": [
    "ggsave(filename = \"PanelB-1.eps\", width = 4.5, height = 1.5, units = \"in\")"
   ]
  },
  {
   "cell_type": "code",
   "execution_count": 20,
   "metadata": {
    "scrolled": true
   },
   "outputs": [
    {
     "name": "stderr",
     "output_type": "stream",
     "text": [
      "Scale for 'x' is already present. Adding another scale for 'x', which will\n",
      "replace the existing scale.\n"
     ]
    },
    {
     "data": {},
     "metadata": {},
     "output_type": "display_data"
    },
    {
     "data": {
      "image/png": "[encoded data removed]",
      "text/plain": [
       "plot without title"
      ]
     },
     "metadata": {},
     "output_type": "display_data"
    }
   ],
   "source": [
    "options(repr.plot.width=4.5, repr.plot.height=1.5)\n",
    "EpiSC_metametaplot(track = mm_npos_p, mwidth = 500, title=\"EpiSCs\")\n",
    "#ggsave(filename = \"PanelB-2.eps\", width = 4.5, height = 1.5, units = \"in\")"
   ]
  },
  {
   "cell_type": "markdown",
   "metadata": {},
   "source": [
    "# calculate distributions of distances"
   ]
  },
  {
   "cell_type": "code",
   "execution_count": 22,
   "metadata": {},
   "outputs": [],
   "source": [
    "# resize the motif tracks to be tiny\n",
    "Whyte_motifs_c      <- resize(Whyte_motifs,      width = 0, fix='center')\n",
    "Whyte_outermotifs_c <- resize(Whyte_outermotifs, width = 0, fix='center')\n",
    "Whyte_Soxmotifs_c   <- resize(Whyte_Soxmotifs,   width = 0, fix='center')\n",
    "Whyte_Octmotifs_c   <- resize(Whyte_Octmotifs,   width = 0, fix='center')\n",
    "\n",
    "Whyte_tandemmotifs_c <- resize(Whyte_tandemmotifs, width=0, fix='center')"
   ]
  },
  {
   "cell_type": "markdown",
   "metadata": {},
   "source": [
    "## stranded Distance\n",
    "\n",
    "### strandedDistanceByNearest function definition"
   ]
  },
  {
   "cell_type": "code",
   "execution_count": 24,
   "metadata": {},
   "outputs": [],
   "source": [
    "strandedDistanceByNearest <- function(query, target){\n",
    "    # gets (non absolute) distance for each item in query on target\n",
    "    \n",
    "    # calculate the distance:\n",
    "    \n",
    "    ## note that precede actually returns the item in subject that the target PRECEDES, not the other way around!\n",
    "    #d_precede <- distance((target)[precede(subject = target, x = query)], query)\n",
    "    ## you'd think the above would work, but annoyingly sometimes you get an NA, and then the subsetting dies...\n",
    "    idx_precede <- precede(subject = target, x = query)\n",
    "    d_precede <- integer(length(query))\n",
    "    for (i in 1:length(query)){\n",
    "        index <- idx_precede[i]\n",
    "        \n",
    "        if (is.na(index)){\n",
    "            assign <- NA\n",
    "        } else {\n",
    "            assign <- distance(target[index],query[i])\n",
    "        }\n",
    "        \n",
    "        d_precede[i] <- assign\n",
    "    }\n",
    "    \n",
    "    ## the same goes for follow; the negation is so we correctly have negative distances\n",
    "    #d_follow  <- -distance((target)[follow(subject = target, x = query)], query)\n",
    "    \n",
    "    idx_follow <- follow(subject = target, x = query)\n",
    "    d_follow <- integer(length(query))\n",
    "    for (i in 1:length(query)){\n",
    "        index <- idx_follow[i]\n",
    "        \n",
    "        if (is.na(index)){\n",
    "            assign <- NA\n",
    "        } else {\n",
    "            assign <- -distance(target[index],query[i]) # note that here is the negation!\n",
    "        }\n",
    "        \n",
    "        d_follow[i] <- assign\n",
    "    }\n",
    "    \n",
    "    # compare precede vs. follow\n",
    "    # return the one with the biggest abs\n",
    "    # if one of them is null, the other wins by default; if both are null, return NA\n",
    "    # note that this is tremendously inelegant and likely to be slow!!!\n",
    "    \n",
    "    answer <- integer(length(query)) # pre-allocate a vector to make this less bad\n",
    "    for (i in 1:length(query)){\n",
    "        \n",
    "        \n",
    "        if (is.na(d_precede[i]) & !is.na(d_follow[i])){\n",
    "        # only the follow number is valid\n",
    "            select <- d_follow[i]\n",
    "        } else if (!is.na(d_precede[i]) & is.na(d_follow[i])){\n",
    "        # only the precede is valid\n",
    "            select <- d_precede[i]\n",
    "        } else if (is.na(d_precede[i]) & is.na(d_follow[i])){\n",
    "        # somehow both are invalid??\n",
    "            select <- NA\n",
    "        } else {\n",
    "        # both are presumably valid now\n",
    "            if (abs(d_follow[i]) < d_precede[i]) {\n",
    "                select <- d_follow[i]\n",
    "            } else select <- d_precede[i]\n",
    "            \n",
    "        }\n",
    "        answer[i] <- select\n",
    "    }\n",
    "    \n",
    "    return (answer)\n",
    "}"
   ]
  },
  {
   "cell_type": "code",
   "execution_count": 25,
   "metadata": {},
   "outputs": [],
   "source": [
    "strandeddens <- function(data, filter = 150, bw = 2, color = \"orchid4\", linetype=\"solid\"){\n",
    "    \n",
    "    df <- data.frame(x=data)\n",
    "    df <- data.frame(x=df[abs(df$x) <= filter,])\n",
    "    \n",
    "    plt <- ggplot() +\n",
    "            #geom_histogram(df, aes(x=x, y=stat(density)), binwidth=1, fill = 'gray') +\n",
    "            stat_density(data = df, aes(x=x), bw=bw, color = color, geom = 'line', linetype=linetype, size=.8)  +\n",
    "            theme_classic()                                    +\n",
    "            geom_vline(xintercept=73, linetype='dotted')  +\n",
    "            geom_vline(xintercept=-73, linetype='dotted') + \n",
    "            coord_cartesian(ylim = c(0,.006)) + \n",
    "            xlab(\"Relative position (bp)\") +\n",
    "            geom_vline(xintercept=0, linetype='dashed') +\n",
    "            theme(axis.title.x=element_text(size=rel(0.9))) +\n",
    "            theme(axis.title.y=element_text(size=rel(0.9))) +\n",
    "            theme(title=element_text(size=rel(0.75))) + \n",
    "            theme(text = element_text(family = 'Arial'))\n",
    "\n",
    "    plt \n",
    "    \n",
    "    return (plt)\n",
    "}"
   ]
  },
  {
   "cell_type": "code",
   "execution_count": 26,
   "metadata": {},
   "outputs": [],
   "source": [
    "Whyte_std_outermotifs <- import(\"~/SoxOct/mouse/chipseq_Whyte2013/Sox-Oct_outermotifs.strand.bed\")\n",
    "Whyte_std_outermotifs_c <- resize(Whyte_std_outermotifs, width=0, fix='center')\n",
    "\n",
    "Whyte_std_tandemmotifs <- import(\"~/SoxOct/mouse/chipseq_Whyte2013/tandemmotifs.strand.bed\")\n",
    "Whyte_std_tandemmotifs_c <- resize(Whyte_std_tandemmotifs, width=0, fix='center')\n",
    "\n",
    "Whyte_std_Soxmotifs <- import(\"~/SoxOct/mouse/chipseq_Whyte2013/Sox_motifs.strand.bed\")\n",
    "Whyte_std_Soxmotifs_c <- resize(Whyte_std_Soxmotifs, width=0, fix='center')\n",
    "\n",
    "Whyte_std_Octmotifs <- import(\"~/SoxOct/mouse/chipseq_Whyte2013/Oct_motifs.strand.bed\")\n",
    "Whyte_std_Octmotifs_c <- resize(Whyte_std_Octmotifs, width=0, fix='center')"
   ]
  },
  {
   "cell_type": "code",
   "execution_count": 27,
   "metadata": {},
   "outputs": [],
   "source": [
    "EpiSC_std_outermotifs <- import(\"~/SoxOct/mouse/EpiSC_chip/Sox-Oct_outermotifs.strand.bed\")\n",
    "EpiSC_std_outermotifs_c <- resize(EpiSC_std_outermotifs, width=0, fix='center')\n",
    "\n",
    "EpiSC_std_tandemmotifs <- import(\"~/SoxOct/mouse/EpiSC_chip/tandemmotifs.strand.bed\")\n",
    "EpiSC_std_tandemmotifs_c <- resize(EpiSC_std_tandemmotifs, width=0, fix='center')\n",
    "\n",
    "EpiSC_std_Soxmotifs <- import(\"~/SoxOct/mouse/EpiSC_chip/Sox_motifs.strand.bed\")\n",
    "EpiSC_std_Soxmotifs_c <- resize(EpiSC_std_Soxmotifs, width=0, fix='center')\n",
    "\n",
    "EpiSC_std_Octmotifs <- import(\"~/SoxOct/mouse/EpiSC_chip/Oct_motifs.strand.bed\")\n",
    "EpiSC_std_Octmotifs_c <- resize(EpiSC_std_Octmotifs, width=0, fix='center')"
   ]
  },
  {
   "cell_type": "markdown",
   "metadata": {},
   "source": [
    "### Figure 6C, panel 2\n",
    "\n",
    "**warning** -- the `strandedDistanceByNearest` function is quite slow - expect this to take a while. Maybe go get a cup of coffee and check your email."
   ]
  },
  {
   "cell_type": "code",
   "execution_count": 29,
   "metadata": {},
   "outputs": [],
   "source": [
    "dist_strand_m1_p     <- strandedDistanceByNearest(target = npeaks_m1_p_c, query = Whyte_std_tandemmotifs_c)\n",
    "dist_strand_m1_p_Sox <- strandedDistanceByNearest(target = npeaks_m1_p_c, query = Whyte_std_Soxmotifs_c)\n",
    "dist_strand_m1_p_Oct <- strandedDistanceByNearest(target = npeaks_m1_p_c, query = Whyte_std_Octmotifs_c)"
   ]
  },
  {
   "cell_type": "code",
   "execution_count": 32,
   "metadata": {
    "scrolled": false
   },
   "outputs": [
    {
     "data": {
      "image/png": "[encoded data removed]",
      "text/plain": [
       "plot without title"
      ]
     },
     "metadata": {},
     "output_type": "display_data"
    }
   ],
   "source": [
    "plt1 <- strandeddens(dist_strand_m1_p,     filter = 150, bw =3, color=safeviolet)+ ggtitle('mESC Oct4Sox2')\n",
    "plt2 <- strandeddens(dist_strand_m1_p_Sox, filter = 150, bw =3, color=safered   ) +ggtitle('mESC Sox2') \n",
    "plt3 <- strandeddens(dist_strand_m1_p_Oct, filter = 150, bw =3, color=safegreen ) +ggtitle('mESC Oct4')# +xlab(\"Relative position (bp)\")\n",
    "\n",
    "options(repr.plot.width=2, repr.plot.height=6)\n",
    "#options(repr.plot.width=6, repr.plot.height=2)\n",
    "multiplot( plt2, plt3,plt1, cols = 1)"
   ]
  },
  {
   "cell_type": "raw",
   "metadata": {},
   "source": [
    "setEPS()\n",
    "postscript(\"PanelC-2.eps\", width = 2, height = 6, )\n",
    "multiplot( plt2, plt3,plt1, cols = 1)\n",
    "dev.off()"
   ]
  },
  {
   "cell_type": "markdown",
   "metadata": {},
   "source": [
    "### Figure 6C, panel 1\n",
    "\n",
    "**warning** -- the `strandedDistanceByNearest` function is quite slow - expect this to take a while. Maybe go get a cup of coffee and check your email."
   ]
  },
  {
   "cell_type": "code",
   "execution_count": 30,
   "metadata": {},
   "outputs": [],
   "source": [
    "dist_Epi_strand_m1_p_tandem  <- strandedDistanceByNearest(target = npeaks_m1_p_c, query = EpiSC_std_tandemmotifs_c)\n",
    "dist_Epi_strand_m1_p_Sox     <- strandedDistanceByNearest(target = npeaks_m1_p_c, query = EpiSC_std_Soxmotifs_c)\n",
    "dist_Epi_strand_m1_p_Oct     <- strandedDistanceByNearest(target = npeaks_m1_p_c, query = EpiSC_std_Octmotifs_c)"
   ]
  },
  {
   "cell_type": "code",
   "execution_count": 31,
   "metadata": {
    "scrolled": false
   },
   "outputs": [
    {
     "name": "stderr",
     "output_type": "stream",
     "text": [
      "Loading required package: grid\n"
     ]
    },
    {
     "data": {
      "image/png": "[encoded data removed]",
      "text/plain": [
       "plot without title"
      ]
     },
     "metadata": {},
     "output_type": "display_data"
    }
   ],
   "source": [
    "plt1 <- strandeddens(dist_Epi_strand_m1_p_tandem,     filter = 150, bw =3, color=safeviolet)+ ggtitle('EpiSC Oct4Sox2')\n",
    "plt2 <- strandeddens(dist_Epi_strand_m1_p_Sox, filter = 150, bw =3, color=safered   ) +ggtitle('EpiSC Sox2') \n",
    "plt3 <- strandeddens(dist_Epi_strand_m1_p_Oct, filter = 150, bw =3, color=safegreen ) +ggtitle('EpiSC Oct4')# +xlab(\"Relative position (bp)\")\n",
    "\n",
    "options(repr.plot.width=2, repr.plot.height=6)\n",
    "#options(repr.plot.width=6, repr.plot.height=2)\n",
    "multiplot( plt2, plt3,plt1, cols = 1)"
   ]
  },
  {
   "cell_type": "raw",
   "metadata": {},
   "source": [
    "setEPS()\n",
    "postscript(\"PanelC-1.eps\", width = 2, height = 6, )\n",
    "multiplot( plt2, plt3,plt1, cols = 1)\n",
    "dev.off()"
   ]
  },
  {
   "cell_type": "markdown",
   "metadata": {},
   "source": [
    "# Stats\n",
    "\n",
    "## KS wrapper"
   ]
  },
  {
   "cell_type": "code",
   "execution_count": 33,
   "metadata": {},
   "outputs": [
    {
     "name": "stderr",
     "output_type": "stream",
     "text": [
      "Loading required package: MASS\n",
      "\n",
      "Attaching package: ‘MASS’\n",
      "\n",
      "The following object is masked from ‘package:VariantAnnotation’:\n",
      "\n",
      "    select\n",
      "\n",
      "The following object is masked from ‘package:AnnotationDbi’:\n",
      "\n",
      "    select\n",
      "\n",
      "## \n",
      "##  Matching (Version 4.9-3, Build Date: 2018-05-03)\n",
      "##  See http://sekhon.berkeley.edu/matching for additional documentation.\n",
      "##  Please cite software as:\n",
      "##   Jasjeet S. Sekhon. 2011. ``Multivariate and Propensity Score Matching\n",
      "##   Software with Automated Balance Optimization: The Matching package for R.''\n",
      "##   Journal of Statistical Software, 42(7): 1-52. \n",
      "##\n",
      "\n"
     ]
    }
   ],
   "source": [
    "library(Matching)"
   ]
  },
  {
   "cell_type": "code",
   "execution_count": 34,
   "metadata": {},
   "outputs": [],
   "source": [
    "KSwrap <- function(x, y, filter){\n",
    "    \n",
    "    df1 = data.frame(x=x)\n",
    "    df1 = df1[abs(df1$x) <= filter,]\n",
    "    print(len(df1))\n",
    "    \n",
    "    df2 = data.frame(x=y)\n",
    "    df2 = df2[abs(df2$x) <= filter,]\n",
    "    print(len(df2))\n",
    "\n",
    "    ks.boot(Tr = df1, Co = df2, alternative = \"two.sided\", nboots = 10000)\n",
    "}\n",
    "\n",
    "KSwrapunif <- function(x, filter){\n",
    "    \n",
    "    df1 = data.frame(x=x)\n",
    "    df1 = df1[abs(df1$x) <= filter,]\n",
    "    print(len(df1))\n",
    "    \n",
    "    ks.test(x = df1, y = \"punif\", min= -filter, max=filter,  alternative = \"two.sided\")\n",
    "\n",
    "}"
   ]
  },
  {
   "cell_type": "markdown",
   "metadata": {},
   "source": [
    "## KS tests between distributions\n",
    "\n",
    "note that since I use a bootstrapped version of the Kolmogorov-Smirnov test, the numbers generated will not be deterministic.\n",
    "\n",
    "### KS in mESCs, 300 bp window"
   ]
  },
  {
   "cell_type": "code",
   "execution_count": 838,
   "metadata": {
    "scrolled": false
   },
   "outputs": [
    {
     "name": "stdout",
     "output_type": "stream",
     "text": [
      "[1] 2437\n",
      "[1] 1579\n",
      "\n",
      "Bootstrap p-value:     1e-04 \n",
      "Naive p-value:         2.6626e-05 \n",
      "Full Sample Statistic: 0.07654 \n",
      "\n",
      "[1] \"Oct<--->Sox\"\n",
      "[1] \"============\\\\n\\\\n\"\n",
      "[1] 2437\n",
      "[1] 2581\n",
      "\n",
      "Bootstrap p-value:     0.1401 \n",
      "Naive p-value:         0.1608 \n",
      "Full Sample Statistic: 0.031706 \n",
      "\n",
      "[1] \"Oct<--->tandem\"\n",
      "[1] \"============\\\\n\\\\n\"\n",
      "[1] 1579\n",
      "[1] 2581\n",
      "\n",
      "Bootstrap p-value:     0.002 \n",
      "Naive p-value:         0.0028771 \n",
      "Full Sample Statistic: 0.057793 \n",
      "\n",
      "[1] \"Sox<--->tandem\"\n",
      "[1] \"============\\\\n\\\\n\"\n"
     ]
    }
   ],
   "source": [
    "summary(KSwrap(dist_strand_m1_p_Oct, dist_strand_m1_p_Sox, filter =150))\n",
    "print(\"Oct<--->Sox\")\n",
    "print(\"============\\\\n\\\\n\")\n",
    "summary(KSwrap(dist_strand_m1_p_Oct, dist_strand_m1_p, filter =150))\n",
    "print(\"Oct<--->tandem\")\n",
    "print(\"============\\\\n\\\\n\")\n",
    "summary(KSwrap(dist_strand_m1_p_Sox, dist_strand_m1_p, filter =150))\n",
    "print(\"Sox<--->tandem\")\n",
    "print(\"============\\\\n\\\\n\")"
   ]
  },
  {
   "cell_type": "markdown",
   "metadata": {},
   "source": [
    "### KS in mEpiSCs, 300 bp window"
   ]
  },
  {
   "cell_type": "code",
   "execution_count": 828,
   "metadata": {},
   "outputs": [
    {
     "name": "stdout",
     "output_type": "stream",
     "text": [
      "[1] 21050\n",
      "[1] 14235\n",
      "\n",
      "Bootstrap p-value:     < 2.22e-16 \n",
      "Naive p-value:         0 \n",
      "Full Sample Statistic: 0.06802 \n",
      "\n",
      "[1] \"Oct<--->Sox\"\n",
      "[1] \"============\\\\n\\\\n\"\n",
      "[1] 21050\n",
      "[1] 2581\n",
      "\n",
      "Bootstrap p-value:     < 2.22e-16 \n",
      "Naive p-value:         3.2446e-06 \n",
      "Full Sample Statistic: 0.053845 \n",
      "\n",
      "[1] \"Oct<--->tandem\"\n",
      "[1] \"============\\\\n\\\\n\"\n",
      "[1] 14235\n",
      "[1] 2581\n",
      "\n",
      "Bootstrap p-value:     < 2.22e-16 \n",
      "Naive p-value:         7.9887e-07 \n",
      "Full Sample Statistic: 0.058066 \n",
      "\n",
      "[1] \"Sox<--->tandem\"\n",
      "[1] \"============\\\\n\\\\n\"\n"
     ]
    }
   ],
   "source": [
    "summary(KSwrap(dist_Epi_strand_m1_p_Oct, dist_Epi_strand_m1_p_Sox, filter =150))\n",
    "print(\"Oct<--->Sox\")\n",
    "print(\"============\\\\n\\\\n\")\n",
    "summary(KSwrap(dist_Epi_strand_m1_p_Oct, dist_strand_m1_p, filter =150))\n",
    "print(\"Oct<--->tandem\")\n",
    "print(\"============\\\\n\\\\n\")\n",
    "summary(KSwrap(dist_Epi_strand_m1_p_Sox, dist_strand_m1_p, filter =150))\n",
    "print(\"Sox<--->tandem\")\n",
    "print(\"============\\\\n\\\\n\")"
   ]
  },
  {
   "cell_type": "markdown",
   "metadata": {},
   "source": [
    "## KS tests against uniform distribution\n",
    "\n",
    "### in mESCs on 300 bp window"
   ]
  },
  {
   "cell_type": "code",
   "execution_count": 53,
   "metadata": {
    "scrolled": false
   },
   "outputs": [
    {
     "name": "stdout",
     "output_type": "stream",
     "text": [
      "[1] \"Oct<--->null\"\n",
      "[1] 2437\n"
     ]
    },
    {
     "name": "stderr",
     "output_type": "stream",
     "text": [
      "Warning message in ks.test(x = df1, y = \"punif\", min = -filter, max = filter, alternative = \"two.sided\"):\n",
      "“ties should not be present for the Kolmogorov-Smirnov test”"
     ]
    },
    {
     "data": {
      "text/plain": [
       "\n",
       "\tOne-sample Kolmogorov-Smirnov test\n",
       "\n",
       "data:  df1\n",
       "D = 0.0384, p-value = 0.001513\n",
       "alternative hypothesis: two-sided\n"
      ]
     },
     "metadata": {},
     "output_type": "display_data"
    },
    {
     "name": "stdout",
     "output_type": "stream",
     "text": [
      "[1] \"OctSox<--->null\"\n",
      "[1] 2581\n"
     ]
    },
    {
     "name": "stderr",
     "output_type": "stream",
     "text": [
      "Warning message in ks.test(x = df1, y = \"punif\", min = -filter, max = filter, alternative = \"two.sided\"):\n",
      "“ties should not be present for the Kolmogorov-Smirnov test”"
     ]
    },
    {
     "data": {
      "text/plain": [
       "\n",
       "\tOne-sample Kolmogorov-Smirnov test\n",
       "\n",
       "data:  df1\n",
       "D = 0.058073, p-value = 5.502e-08\n",
       "alternative hypothesis: two-sided\n"
      ]
     },
     "metadata": {},
     "output_type": "display_data"
    },
    {
     "name": "stdout",
     "output_type": "stream",
     "text": [
      "[1] \"Sox<--->null\"\n",
      "[1] 1579\n"
     ]
    },
    {
     "name": "stderr",
     "output_type": "stream",
     "text": [
      "Warning message in ks.test(x = df1, y = \"punif\", min = -filter, max = filter, alternative = \"two.sided\"):\n",
      "“ties should not be present for the Kolmogorov-Smirnov test”"
     ]
    },
    {
     "data": {
      "text/plain": [
       "\n",
       "\tOne-sample Kolmogorov-Smirnov test\n",
       "\n",
       "data:  df1\n",
       "D = 0.10891, p-value < 2.2e-16\n",
       "alternative hypothesis: two-sided\n"
      ]
     },
     "metadata": {},
     "output_type": "display_data"
    }
   ],
   "source": [
    "# mESCs\n",
    "\n",
    "print(\"Oct<--->null\")\n",
    "KSwrapunif(dist_strand_m1_p_Oct, filter =150)\n",
    "print(\"OctSox<--->null\")\n",
    "KSwrapunif(dist_strand_m1_p, filter =150)\n",
    "print(\"Sox<--->null\")\n",
    "KSwrapunif(dist_strand_m1_p_Sox, filter =150)"
   ]
  },
  {
   "cell_type": "markdown",
   "metadata": {},
   "source": [
    "### in mEpiSCs on 300 bp window"
   ]
  },
  {
   "cell_type": "code",
   "execution_count": 52,
   "metadata": {},
   "outputs": [
    {
     "name": "stdout",
     "output_type": "stream",
     "text": [
      "[1] \"Oct<--->null\"\n",
      "[1] 21050\n"
     ]
    },
    {
     "name": "stderr",
     "output_type": "stream",
     "text": [
      "Warning message in ks.test(x = df1, y = \"punif\", min = -filter, max = filter, alternative = \"two.sided\"):\n",
      "“ties should not be present for the Kolmogorov-Smirnov test”"
     ]
    },
    {
     "data": {
      "text/plain": [
       "\n",
       "\tOne-sample Kolmogorov-Smirnov test\n",
       "\n",
       "data:  df1\n",
       "D = 0.040982, p-value < 2.2e-16\n",
       "alternative hypothesis: two-sided\n"
      ]
     },
     "metadata": {},
     "output_type": "display_data"
    },
    {
     "name": "stdout",
     "output_type": "stream",
     "text": [
      "[1] \"OctSox<--->null\"\n",
      "[1] 432\n"
     ]
    },
    {
     "name": "stderr",
     "output_type": "stream",
     "text": [
      "Warning message in ks.test(x = df1, y = \"punif\", min = -filter, max = filter, alternative = \"two.sided\"):\n",
      "“ties should not be present for the Kolmogorov-Smirnov test”"
     ]
    },
    {
     "data": {
      "text/plain": [
       "\n",
       "\tOne-sample Kolmogorov-Smirnov test\n",
       "\n",
       "data:  df1\n",
       "D = 0.059352, p-value = 0.09532\n",
       "alternative hypothesis: two-sided\n"
      ]
     },
     "metadata": {},
     "output_type": "display_data"
    },
    {
     "name": "stdout",
     "output_type": "stream",
     "text": [
      "[1] \"Sox<--->null\"\n",
      "[1] 14235\n"
     ]
    },
    {
     "name": "stderr",
     "output_type": "stream",
     "text": [
      "Warning message in ks.test(x = df1, y = \"punif\", min = -filter, max = filter, alternative = \"two.sided\"):\n",
      "“ties should not be present for the Kolmogorov-Smirnov test”"
     ]
    },
    {
     "data": {
      "text/plain": [
       "\n",
       "\tOne-sample Kolmogorov-Smirnov test\n",
       "\n",
       "data:  df1\n",
       "D = 0.075813, p-value < 2.2e-16\n",
       "alternative hypothesis: two-sided\n"
      ]
     },
     "metadata": {},
     "output_type": "display_data"
    }
   ],
   "source": [
    "# EpiSCs @ 150 bp\n",
    "print(\"Oct<--->null\")\n",
    "KSwrapunif(dist_Epi_strand_m1_p_Oct, filter =150)\n",
    "print(\"OctSox<--->null\")\n",
    "KSwrapunif(dist_Epi_strand_m1_p_tandem, filter =150)\n",
    "print(\"Sox<--->null\")\n",
    "KSwrapunif(dist_Epi_strand_m1_p_Sox, filter =150)"
   ]
  },
  {
   "cell_type": "markdown",
   "metadata": {},
   "source": [
    "### in mESCs on 146bp window (nucleosome)"
   ]
  },
  {
   "cell_type": "code",
   "execution_count": 40,
   "metadata": {},
   "outputs": [
    {
     "name": "stdout",
     "output_type": "stream",
     "text": [
      "[1] \"Oct<--->null\"\n",
      "[1] 1269\n"
     ]
    },
    {
     "name": "stderr",
     "output_type": "stream",
     "text": [
      "Warning message in ks.test(x = df1, y = \"punif\", min = -filter, max = filter, alternative = \"two.sided\"):\n",
      "“ties should not be present for the Kolmogorov-Smirnov test”"
     ]
    },
    {
     "data": {
      "text/plain": [
       "\n",
       "\tOne-sample Kolmogorov-Smirnov test\n",
       "\n",
       "data:  df1\n",
       "D = 0.035742, p-value = 0.07815\n",
       "alternative hypothesis: two-sided\n"
      ]
     },
     "metadata": {},
     "output_type": "display_data"
    },
    {
     "name": "stdout",
     "output_type": "stream",
     "text": [
      "[1] \"OctSox<--->null\"\n",
      "[1] 1384\n"
     ]
    },
    {
     "name": "stderr",
     "output_type": "stream",
     "text": [
      "Warning message in ks.test(x = df1, y = \"punif\", min = -filter, max = filter, alternative = \"two.sided\"):\n",
      "“ties should not be present for the Kolmogorov-Smirnov test”"
     ]
    },
    {
     "data": {
      "text/plain": [
       "\n",
       "\tOne-sample Kolmogorov-Smirnov test\n",
       "\n",
       "data:  df1\n",
       "D = 0.035385, p-value = 0.0625\n",
       "alternative hypothesis: two-sided\n"
      ]
     },
     "metadata": {},
     "output_type": "display_data"
    },
    {
     "name": "stdout",
     "output_type": "stream",
     "text": [
      "[1] \"Sox<--->null\"\n",
      "[1] 995\n"
     ]
    },
    {
     "name": "stderr",
     "output_type": "stream",
     "text": [
      "Warning message in ks.test(x = df1, y = \"punif\", min = -filter, max = filter, alternative = \"two.sided\"):\n",
      "“ties should not be present for the Kolmogorov-Smirnov test”"
     ]
    },
    {
     "data": {
      "text/plain": [
       "\n",
       "\tOne-sample Kolmogorov-Smirnov test\n",
       "\n",
       "data:  df1\n",
       "D = 0.044304, p-value = 0.04024\n",
       "alternative hypothesis: two-sided\n"
      ]
     },
     "metadata": {},
     "output_type": "display_data"
    }
   ],
   "source": [
    "# mESCs\n",
    "\n",
    "print(\"Oct<--->null\")\n",
    "KSwrapunif(dist_strand_m1_p_Oct, filter =73)\n",
    "print(\"OctSox<--->null\")\n",
    "KSwrapunif(dist_strand_m1_p, filter =73)\n",
    "print(\"Sox<--->null\")\n",
    "KSwrapunif(dist_strand_m1_p_Sox, filter =73)"
   ]
  },
  {
   "cell_type": "markdown",
   "metadata": {},
   "source": [
    "### in mEpiSCs on 146bp window (nucleosome)"
   ]
  },
  {
   "cell_type": "code",
   "execution_count": 45,
   "metadata": {},
   "outputs": [
    {
     "name": "stdout",
     "output_type": "stream",
     "text": [
      "[1] \"Oct<--->null\"\n",
      "[1] 11542\n"
     ]
    },
    {
     "name": "stderr",
     "output_type": "stream",
     "text": [
      "Warning message in ks.test(x = df1, y = \"punif\", min = -filter, max = filter, alternative = \"two.sided\"):\n",
      "“ties should not be present for the Kolmogorov-Smirnov test”"
     ]
    },
    {
     "data": {
      "text/plain": [
       "\n",
       "\tOne-sample Kolmogorov-Smirnov test\n",
       "\n",
       "data:  df1\n",
       "D = 0.015319, p-value = 0.008881\n",
       "alternative hypothesis: two-sided\n"
      ]
     },
     "metadata": {},
     "output_type": "display_data"
    },
    {
     "name": "stdout",
     "output_type": "stream",
     "text": [
      "[1] \"OctSox<--->null\"\n",
      "[1] 245\n"
     ]
    },
    {
     "name": "stderr",
     "output_type": "stream",
     "text": [
      "Warning message in ks.test(x = df1, y = \"punif\", min = -filter, max = filter, alternative = \"two.sided\"):\n",
      "“ties should not be present for the Kolmogorov-Smirnov test”"
     ]
    },
    {
     "data": {
      "text/plain": [
       "\n",
       "\tOne-sample Kolmogorov-Smirnov test\n",
       "\n",
       "data:  df1\n",
       "D = 0.045541, p-value = 0.6898\n",
       "alternative hypothesis: two-sided\n"
      ]
     },
     "metadata": {},
     "output_type": "display_data"
    },
    {
     "name": "stdout",
     "output_type": "stream",
     "text": [
      "[1] \"Sox<--->null\"\n",
      "[1] 8548\n"
     ]
    },
    {
     "name": "stderr",
     "output_type": "stream",
     "text": [
      "Warning message in ks.test(x = df1, y = \"punif\", min = -filter, max = filter, alternative = \"two.sided\"):\n",
      "“ties should not be present for the Kolmogorov-Smirnov test”"
     ]
    },
    {
     "data": {
      "text/plain": [
       "\n",
       "\tOne-sample Kolmogorov-Smirnov test\n",
       "\n",
       "data:  df1\n",
       "D = 0.039785, p-value = 3.539e-12\n",
       "alternative hypothesis: two-sided\n"
      ]
     },
     "metadata": {},
     "output_type": "display_data"
    }
   ],
   "source": [
    "# EpiSCs @ 73 bp\n",
    "\n",
    "print(\"Oct<--->null\")\n",
    "KSwrapunif(dist_Epi_strand_m1_p_Oct, filter =73)\n",
    "print(\"OctSox<--->null\")\n",
    "KSwrapunif(dist_Epi_strand_m1_p_tandem, filter =73)\n",
    "print(\"Sox<--->null\")\n",
    "KSwrapunif(dist_Epi_strand_m1_p_Sox, filter =73)"
   ]
  }
 ],
 "metadata": {
  "kernelspec": {
   "display_name": "R",
   "language": "R",
   "name": "ir"
  },
  "language_info": {
   "codemirror_mode": "r",
   "file_extension": ".r",
   "mimetype": "text/x-r-source",
   "name": "R",
   "pygments_lexer": "r",
   "version": "3.4.3"
  },
  "notify_time": "5",
  "toc": {
   "nav_menu": {},
   "number_sections": true,
   "sideBar": true,
   "skip_h1_title": false,
   "toc_cell": false,
   "toc_position": {
    "height": "547px",
    "left": "0px",
    "right": "1110px",
    "top": "110px",
    "width": "347px"
   },
   "toc_section_display": "block",
   "toc_window_display": true
  }
 },
 "nbformat": 4,
 "nbformat_minor": 2
}
