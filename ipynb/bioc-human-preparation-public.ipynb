{
 "cells": [
  {
   "cell_type": "markdown",
   "metadata": {},
   "source": [
    "**2019-04-11: adjusted to output Soufi2012 data**"
   ]
  },
  {
   "cell_type": "markdown",
   "metadata": {},
   "source": [
    "This R/Bioconductor notebook is the first of 2 parts for the analysis of human data presented in Figure 6. This notebook ingests the location of ChIP-seq peaks (from A. Soufi, personal correspondence), and outputs various intermediate files for further processing in FIMO and by my own scripts.\n",
    "\n",
    "# Initialization"
   ]
  },
  {
   "cell_type": "code",
   "execution_count": 1,
   "metadata": {},
   "outputs": [],
   "source": [
    "# for my sanity - map some function names that I think exist to what actually exist\n",
    "nrows <- nrow\n",
    "ncols <- ncol\n",
    "len <- length"
   ]
  },
  {
   "cell_type": "code",
   "execution_count": 2,
   "metadata": {},
   "outputs": [],
   "source": [
    "library(repr)\n",
    "options(repr.plot.width=6, repr.plot.height=3)"
   ]
  },
  {
   "cell_type": "code",
   "execution_count": 3,
   "metadata": {},
   "outputs": [
    {
     "name": "stderr",
     "output_type": "stream",
     "text": [
      "Loading required package: GenomicRanges\n",
      "Loading required package: stats4\n",
      "Loading required package: BiocGenerics\n",
      "Loading required package: parallel\n",
      "\n",
      "Attaching package: ‘BiocGenerics’\n",
      "\n",
      "The following objects are masked from ‘package:parallel’:\n",
      "\n",
      "    clusterApply, clusterApplyLB, clusterCall, clusterEvalQ,\n",
      "    clusterExport, clusterMap, parApply, parCapply, parLapply,\n",
      "    parLapplyLB, parRapply, parSapply, parSapplyLB\n",
      "\n",
      "The following objects are masked from ‘package:stats’:\n",
      "\n",
      "    IQR, mad, sd, var, xtabs\n",
      "\n",
      "The following objects are masked from ‘package:base’:\n",
      "\n",
      "    anyDuplicated, append, as.data.frame, basename, cbind, colMeans,\n",
      "    colnames, colSums, dirname, do.call, duplicated, eval, evalq,\n",
      "    Filter, Find, get, grep, grepl, intersect, is.unsorted, lapply,\n",
      "    lengths, Map, mapply, match, mget, order, paste, pmax, pmax.int,\n",
      "    pmin, pmin.int, Position, rank, rbind, Reduce, rowMeans, rownames,\n",
      "    rowSums, sapply, setdiff, sort, table, tapply, union, unique,\n",
      "    unsplit, which, which.max, which.min\n",
      "\n",
      "Loading required package: S4Vectors\n",
      "\n",
      "Attaching package: ‘S4Vectors’\n",
      "\n",
      "The following object is masked from ‘package:base’:\n",
      "\n",
      "    expand.grid\n",
      "\n",
      "Loading required package: IRanges\n",
      "Loading required package: GenomeInfoDb\n",
      "Loading required package: AnnotationDbi\n",
      "Loading required package: Biobase\n",
      "Welcome to Bioconductor\n",
      "\n",
      "    Vignettes contain introductory material; view with\n",
      "    'browseVignettes()'. To cite Bioconductor, see\n",
      "    'citation(\"Biobase\")', and for packages 'citation(\"pkgname\")'.\n",
      "\n",
      "Loading required package: BSgenome\n",
      "Loading required package: Biostrings\n",
      "Loading required package: XVector\n",
      "\n",
      "Attaching package: ‘Biostrings’\n",
      "\n",
      "The following object is masked from ‘package:base’:\n",
      "\n",
      "    strsplit\n",
      "\n"
     ]
    }
   ],
   "source": [
    "library(tracktables)\n",
    "library(rtracklayer)\n",
    "library(GenomicFeatures)\n",
    "library(BSgenome.Hsapiens.UCSC.hg38)"
   ]
  },
  {
   "cell_type": "code",
   "execution_count": 4,
   "metadata": {},
   "outputs": [
    {
     "name": "stderr",
     "output_type": "stream",
     "text": [
      "Warning message in `seqlevels<-`(`*tmp*`, pruning.mode = pruning.mode, value = value):\n",
      "“'pruning.mode' is ignored in \"seqlevels<-\" method for Seqinfo objects”"
     ]
    },
    {
     "data": {
      "text/plain": [
       "Seqinfo object with 25 sequences (1 circular) from hg38 genome:\n",
       "  seqnames seqlengths isCircular genome\n",
       "  1         248956422      FALSE   hg38\n",
       "  2         242193529      FALSE   hg38\n",
       "  3         198295559      FALSE   hg38\n",
       "  4         190214555      FALSE   hg38\n",
       "  5         181538259      FALSE   hg38\n",
       "  ...             ...        ...    ...\n",
       "  21         46709983      FALSE   hg38\n",
       "  22         50818468      FALSE   hg38\n",
       "  X         156040895      FALSE   hg38\n",
       "  Y          57227415      FALSE   hg38\n",
       "  MT            16569       TRUE   hg38"
      ]
     },
     "metadata": {},
     "output_type": "display_data"
    }
   ],
   "source": [
    "# get seqinfo (but also since the BSgenome is from UCSC, remap coordinates back to NCBI/ensembl)\n",
    "\n",
    "hg38info <- keepStandardChromosomes(seqinfo(BSgenome.Hsapiens.UCSC.hg38), pruning.mode = \"tidy\")\n",
    "newStyle <- mapSeqlevels(seqlevels(hg38info),\"NCBI\")\n",
    "hg38info <- (renameSeqlevels(hg38info, newStyle))\n",
    "hg38info"
   ]
  },
  {
   "cell_type": "markdown",
   "metadata": {},
   "source": [
    "# ChIP-peaks (from Soufi2012)\n",
    "\n",
    "Peak locations were extracted and then lifted over via UCSC `liftOver` from hg18 to GRCh38/hg38. These locations are available on request. \n"
   ]
  },
  {
   "cell_type": "code",
   "execution_count": 5,
   "metadata": {},
   "outputs": [],
   "source": [
    "SOX_peaks <- import(\"~/SoxOct/chipseq/Soufi2012/Soufi_Sox2.hg38.bed\")\n",
    "OCT_peaks <- import(\"~/SoxOct/chipseq/Soufi2012/Soufi_Oct4.hg38.bed\")\n",
    "\n",
    "SOX_peaks <- keepStandardChromosomes(SOX_peaks, pruning.mode = 'coarse')\n",
    "OCT_peaks <- keepStandardChromosomes(OCT_peaks, pruning.mode = 'coarse')"
   ]
  },
  {
   "cell_type": "code",
   "execution_count": 6,
   "metadata": {},
   "outputs": [],
   "source": [
    "# drop MT chromosome\n",
    "SOX_peaks <- SOX_peaks[seqnames(SOX_peaks) != \"MT\"]\n",
    "OCT_peaks <- OCT_peaks[seqnames(OCT_peaks) != \"MT\"]\n",
    "\n",
    "# manually add names since Soufi et al BED doesn't have any\n",
    "SOX_peaks$name <- paste0(\"Soufi_SOX_peak_\", 1:len(SOX_peaks))\n",
    "OCT_peaks$name <- paste0(\"Soufi_OCT_peak_\", 1:len(OCT_peaks))"
   ]
  },
  {
   "cell_type": "code",
   "execution_count": 7,
   "metadata": {},
   "outputs": [],
   "source": [
    "# note that Soufi peaks are in UCSC coordinates:\n",
    "SOX_peaks <- renameSeqlevels(SOX_peaks, mapSeqlevels(seqlevels(SOX_peaks), \"NCBI\"))\n",
    "OCT_peaks <- renameSeqlevels(OCT_peaks, mapSeqlevels(seqlevels(OCT_peaks), \"NCBI\"))"
   ]
  },
  {
   "cell_type": "code",
   "execution_count": 8,
   "metadata": {},
   "outputs": [],
   "source": [
    "# sort the seqlevels... because we have to?\n",
    "SOX_peaks <- sortSeqlevels(SOX_peaks)\n",
    "OCT_peaks <- sortSeqlevels(OCT_peaks)"
   ]
  },
  {
   "cell_type": "code",
   "execution_count": 9,
   "metadata": {},
   "outputs": [],
   "source": [
    "seqinfo(SOX_peaks) <- hg38info\n",
    "seqinfo(OCT_peaks) <- hg38info"
   ]
  },
  {
   "cell_type": "markdown",
   "metadata": {},
   "source": [
    "# DNA export\n",
    "\n",
    "I export the genomic DNA sequences to use `FIMO` to identify sequences conforming to given binding motifs."
   ]
  },
  {
   "cell_type": "code",
   "execution_count": 10,
   "metadata": {},
   "outputs": [],
   "source": [
    "writeDNAtofile <- function(grange, path){\n",
    "    # map the seqlevels back to UCSC\n",
    "    grforexport <- renameSeqlevels(grange, mapSeqlevels(seqlevels(grange), \"UCSC\"))\n",
    "    print(seqlevels(grforexport))\n",
    "\n",
    "    # add flanking 200 bp\n",
    "    DNAflank <- 200\n",
    "    #DNAflank <- 0 # since it's already a 200bp-wide thing\n",
    "    print(paste0(\"flanking DNA: \", DNAflank))\n",
    "    grforexport <- grforexport + DNAflank\n",
    "    \n",
    "    grforexport <- trim(grforexport)\n",
    "    \n",
    "    DNAforexport <- getSeq(BSgenome.Hsapiens.UCSC.hg38, names = grforexport) #actual sequence lookup step\n",
    "    names(DNAforexport) <- mcols(grforexport)$name # add names so I know what it is\n",
    "    \n",
    "    print(DNAforexport)\n",
    "    \n",
    "    # write it out to disk\n",
    "    writeXStringSet(DNAforexport, filepath = path)\n",
    "}"
   ]
  },
  {
   "cell_type": "code",
   "execution_count": 48,
   "metadata": {},
   "outputs": [
    {
     "name": "stdout",
     "output_type": "stream",
     "text": [
      " [1] \"chr1\"  \"chr2\"  \"chr3\"  \"chr4\"  \"chr5\"  \"chr6\"  \"chr7\"  \"chr8\"  \"chr9\" \n",
      "[10] \"chr10\" \"chr11\" \"chr12\" \"chr13\" \"chr14\" \"chr15\" \"chr16\" \"chr17\" \"chr18\"\n",
      "[19] \"chr19\" \"chr20\" \"chr21\" \"chr22\" \"chrX\"  \"chrY\"  \"chrM\" \n",
      "[1] \"flanking DNA: 200\"\n",
      "  A DNAStringSet instance of length 64536\n",
      "        width seq                                           names               \n",
      "    [1]  1466 GCTAAACATTTTTTATGGTAT...AACTTGAACACGAAGCAAAAA Soufi_SOX_peak_1\n",
      "    [2]  1124 CTGTATTGTGTAGTGTACTCT...TGTATTGTAAGTGTACTCTGT Soufi_SOX_peak_2\n",
      "    [3]  1296 ATACTCTGTACTCCAGAATTT...ATTTCTCATACACCATTCTCC Soufi_SOX_peak_3\n",
      "    [4]  1540 AAGTTTTGCTACACTGTTGCC...ATCTAATTTTTGTATTTTTAA Soufi_SOX_peak_4\n",
      "    [5]  1117 ACTTTTACTACTTCTTTCCTT...AGAAAGACGCGGACCCTCGAG Soufi_SOX_peak_5\n",
      "    ...   ... ...\n",
      "[64532]   605 GTGTGCTTTCTCTGAATAAAC...AGTGGAGCTTACTGATTGCCA Soufi_SOX_peak_64532\n",
      "[64533]   567 GTAAGCTTCACTTGGTTTGAC...GGCTTAATAATAAAAGTGAGT Soufi_SOX_peak_64533\n",
      "[64534]   595 ATAGAAAGATGAATATGGCCA...TGAAGACAGCTGATTTAGCAT Soufi_SOX_peak_64534\n",
      "[64535]   521 ATTTAATTTACTACAAAGGCA...CTCTCTGCCAATGTGATGTAT Soufi_SOX_peak_64535\n",
      "[64536]   578 TTATTTACAGATTTCAATCCA...TCTCCCGAGTTCAAGCAATTC Soufi_SOX_peak_64536\n"
     ]
    }
   ],
   "source": [
    "writeDNAtofile(SOX_peaks, \"~/SoxOct/chipseq/Soufi2012/SOX_peaks.fasta\")"
   ]
  },
  {
   "cell_type": "code",
   "execution_count": 49,
   "metadata": {},
   "outputs": [
    {
     "name": "stdout",
     "output_type": "stream",
     "text": [
      " [1] \"chr1\"  \"chr2\"  \"chr3\"  \"chr4\"  \"chr5\"  \"chr6\"  \"chr7\"  \"chr8\"  \"chr9\" \n",
      "[10] \"chr10\" \"chr11\" \"chr12\" \"chr13\" \"chr14\" \"chr15\" \"chr16\" \"chr17\" \"chr18\"\n",
      "[19] \"chr19\" \"chr20\" \"chr21\" \"chr22\" \"chrX\"  \"chrY\"  \"chrM\" \n",
      "[1] \"flanking DNA: 200\"\n",
      "  A DNAStringSet instance of length 58162\n",
      "        width seq                                           names               \n",
      "    [1]   706 ACTGGCTTTATGAGTTCTGTT...CCCAACTTCCTAGCTGTCAGA Soufi_OCT_peak_1\n",
      "    [2]  2033 GGTAATGACCTGAAGCAGGTG...GCATGCGTGCACACACCCAGG Soufi_OCT_peak_2\n",
      "    [3]   713 CATTTGTGGTTCTGGCTTTTA...TTATGCTTTCTTAAAAGATTT Soufi_OCT_peak_3\n",
      "    [4]   774 CTGTTTTCTTTTCTTTTTTTT...ATTTGAGAATTCAAAAGCAGC Soufi_OCT_peak_4\n",
      "    [5]   738 CTTGCCATTCCTATGTCTCAT...AATTCAGACTCTGACTCAGAG Soufi_OCT_peak_5\n",
      "    ...   ... ...\n",
      "[58158]   673 TTGGTTTTCTCATTAAGCCGT...CCCAGCACTTTGGGAGGCTGA Soufi_OCT_peak_58158\n",
      "[58159]   599 GGCCCCGCCTCCTCACCGCCC...GCGGGGGCTCCGGGCCCGGGG Soufi_OCT_peak_58159\n",
      "[58160]   563 GTAATCATTGATATTATTGGG...GCATGGGAGGTTGAGGCTACA Soufi_OCT_peak_58160\n",
      "[58161]   747 AGGGGAGTTTCCCTGCAGGAG...GCAATGACGTCATAAAGTGTG Soufi_OCT_peak_58161\n",
      "[58162]   596 GTTGAGAATGCTGATTGGTTG...TACTTAGGAGCAGTTTAGGGA Soufi_OCT_peak_58162\n"
     ]
    }
   ],
   "source": [
    "writeDNAtofile(OCT_peaks, \"~/SoxOct/chipseq/Soufi2012/OCT_peaks.fasta\")"
   ]
  },
  {
   "cell_type": "code",
   "execution_count": 50,
   "metadata": {},
   "outputs": [
    {
     "name": "stdout",
     "output_type": "stream",
     "text": [
      " [1] \"chr1\"  \"chr2\"  \"chr3\"  \"chr4\"  \"chr5\"  \"chr6\"  \"chr7\"  \"chr8\"  \"chr9\" \n",
      "[10] \"chr10\" \"chr11\" \"chr12\" \"chr13\" \"chr14\" \"chr15\" \"chr16\" \"chr17\" \"chr18\"\n",
      "[19] \"chr19\" \"chr20\" \"chr21\" \"chr22\" \"chrX\"  \"chrY\"  \"chrM\" \n",
      "[1] \"flanking DNA: 200\"\n",
      "  A DNAStringSet instance of length 13455\n",
      "        width seq                                           names               \n",
      "    [1]   401 GTAGTGTACTTTGTGTTATGT...TGTGTAGTGTAGTCTATATTG Soufi2012_SOXOCT_...\n",
      "    [2]   401 TCTTTTTACTGTTTTTTACCT...CTACCAGTGGTTTTTAAAATT Soufi2012_SOXOCT_...\n",
      "    [3]   401 CATCAATTGTTCTGCCTTGTA...CAATGAGGAGAAAGCCGCCGC Soufi2012_SOXOCT_...\n",
      "    [4]   401 TACAAAATACACAGTTTAGAG...CTGTAAGCTAAATAGACTTAA Soufi2012_SOXOCT_...\n",
      "    [5]   401 CCATTGTCACCAATCCTACCA...AGTATGTCACACACCCATCCT Soufi2012_SOXOCT_...\n",
      "    ...   ... ...\n",
      "[13451]   401 TAATTAGTCATGTCTTCTCCT...AGAGAAGAAAAAATAGTTTCG Soufi2012_SOXOCT_...\n",
      "[13452]   401 TTTTATCATATGCTGCAGCAT...CACATGATGCCAGTTTACCCT Soufi2012_SOXOCT_...\n",
      "[13453]   401 TTGTAAATCATCTATCTGATA...GTGAGGATTGGCCAGGAGAAA Soufi2012_SOXOCT_...\n",
      "[13454]   401 CTGCCTGATGTGAATACTTTG...GGGAGGTGGAGGCGGGTGGAT Soufi2012_SOXOCT_...\n",
      "[13455]   401 CAAAATTATAAATAATGAATA...GAGCAAATAAATACTAAATGC Soufi2012_SOXOCT_...\n"
     ]
    }
   ],
   "source": [
    "writeDNAtofile(tandem_peaks, \"~/SoxOct/chipseq/Soufi2012/tandem_peaks.fasta\")"
   ]
  },
  {
   "cell_type": "markdown",
   "metadata": {},
   "source": [
    "# CHIP-confirmed motif locations in genome (via FIMO) - needs updating\n",
    "\n",
    "I use `FIMO` with `--verbosity 3` and to identify sites conforming to the canonical Sox2 motif (MA0143.3) in Sox2 peak sequences from above. I similarly use `FIMO` to identify canonical Oct4 (MA1115.1) in Oct4 peak sequences from above. I use the manually concatenated motif for the tandem site.\n",
    "\n",
    "\n",
    "**Sox2**: `/rugpfs/fs0/home/lzhao/.linuxbrew/opt/meme/bin/fimo --verbosity 3 --o ~/SoxOct/chipseq/Soufi2012/MEME_Sox2 ~/SoxOct/SoxOct-fimo-meme/fimo/MA0143.3.meme ~/SoxOct/chipseq/Soufi2012/SOX_peaks.fasta`\n",
    "\n",
    "**Oct4**: `/rugpfs/fs0/home/lzhao/.linuxbrew/opt/meme/bin/fimo --verbosity 3 --o ~/SoxOct/chipseq/Soufi2012/MEME_Oct4 ~/SoxOct/SoxOct-fimo-meme/fimo/MA1115.1.meme ~/SoxOct/chipseq/Soufi2012/OCT_peaks.fasta`\n",
    "\n",
    "---------\n",
    "**noncanonical**\n",
    "\n",
    "**noncanonical Sox2**: `/rugpfs/fs0/home/lzhao/.linuxbrew/opt/meme/bin/fimo --verbosity 3 --thresh .001 --o ~/SoxOct/chipseq/Soufi2012/MEME_Sox2_74 ~/SoxOct/Soufi2015/SoxNucHi74.meme ~/SoxOct/chipseq/Soufi2012/SOX_peaks.fasta`\n",
    "\n",
    "**noncanonical Oct4 28% variant**: `/rugpfs/fs0/home/lzhao/.linuxbrew/opt/meme/bin/fimo --verbosity 3 --thresh .001 --o ~/SoxOct/chipseq/Soufi2012/MEME_Oct4_28 ~/SoxOct/Soufi2015/OctNucHi28.meme ~/SoxOct/chipseq/Soufi2012/OCT_peaks.fasta`\n",
    "\n",
    "**noncanonical Oct4 42% variant**: `/rugpfs/fs0/home/lzhao/.linuxbrew/opt/meme/bin/fimo --verbosity 3 --thresh .001 --o ~/SoxOct/chipseq/Soufi2012/MEME_Oct4_42 ~/SoxOct/Soufi2015/OctNucHi42.meme ~/SoxOct/chipseq/Soufi2012/OCT_peaks.fasta`\n",
    "\n",
    "I then use [`py3_motif-matching-human-public.ipynb`](py3_motif-matching-human-public.ipynb) to convert the coordinates from FIMO back into genomic coordinates. This requires that I have the original peak locations as a GTF."
   ]
  },
  {
   "cell_type": "code",
   "execution_count": 51,
   "metadata": {},
   "outputs": [],
   "source": [
    "export(SOX_peaks, '~/SoxOct/chipseq/Soufi2012/Sox_peaks_200.gtf')\n",
    "export(OCT_peaks, '~/SoxOct/chipseq/Soufi2012/Oct_peaks_200.gtf')"
   ]
  },
  {
   "cell_type": "code",
   "execution_count": null,
   "metadata": {},
   "outputs": [],
   "source": []
  }
 ],
 "metadata": {
  "kernelspec": {
   "display_name": "R",
   "language": "R",
   "name": "ir"
  },
  "language_info": {
   "codemirror_mode": "r",
   "file_extension": ".r",
   "mimetype": "text/x-r-source",
   "name": "R",
   "pygments_lexer": "r",
   "version": "3.5.1"
  },
  "notify_time": "5",
  "toc": {
   "nav_menu": {},
   "number_sections": true,
   "sideBar": true,
   "skip_h1_title": false,
   "toc_cell": false,
   "toc_position": {
    "height": "547px",
    "left": "0px",
    "right": "1205px",
    "top": "110px",
    "width": "161px"
   },
   "toc_section_display": "block",
   "toc_window_display": true
  }
 },
 "nbformat": 4,
 "nbformat_minor": 2
}
