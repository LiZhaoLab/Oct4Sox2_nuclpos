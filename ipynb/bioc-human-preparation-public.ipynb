{
 "cells": [
  {
   "cell_type": "markdown",
   "metadata": {},
   "source": [
    "This R/Bioconductor notebook is the first of 2 parts for the analysis of human data presented in Figure 6. This notebook ingests the location of ChIP-seq peaks (from A. Soufi, personal correspondence), and outputs various intermediate files for further processing in FIMO and by my own scripts.\n",
    "\n",
    "# Initialization"
   ]
  },
  {
   "cell_type": "code",
   "execution_count": 1,
   "metadata": {},
   "outputs": [],
   "source": [
    "# for my sanity - map some function names that I think exist to what actually exist\n",
    "nrows <- nrow\n",
    "ncols <- ncol\n",
    "len <- length"
   ]
  },
  {
   "cell_type": "code",
   "execution_count": 2,
   "metadata": {},
   "outputs": [],
   "source": [
    "library(repr)\n",
    "options(repr.plot.width=6, repr.plot.height=3)"
   ]
  },
  {
   "cell_type": "code",
   "execution_count": 3,
   "metadata": {},
   "outputs": [
    {
     "name": "stderr",
     "output_type": "stream",
     "text": [
      "Loading required package: GenomicRanges\n",
      "Loading required package: stats4\n",
      "Loading required package: BiocGenerics\n",
      "Loading required package: parallel\n",
      "\n",
      "Attaching package: ‘BiocGenerics’\n",
      "\n",
      "The following objects are masked from ‘package:parallel’:\n",
      "\n",
      "    clusterApply, clusterApplyLB, clusterCall, clusterEvalQ,\n",
      "    clusterExport, clusterMap, parApply, parCapply, parLapply,\n",
      "    parLapplyLB, parRapply, parSapply, parSapplyLB\n",
      "\n",
      "The following objects are masked from ‘package:stats’:\n",
      "\n",
      "    IQR, mad, sd, var, xtabs\n",
      "\n",
      "The following objects are masked from ‘package:base’:\n",
      "\n",
      "    anyDuplicated, append, as.data.frame, cbind, colMeans, colnames,\n",
      "    colSums, do.call, duplicated, eval, evalq, Filter, Find, get, grep,\n",
      "    grepl, intersect, is.unsorted, lapply, lengths, Map, mapply, match,\n",
      "    mget, order, paste, pmax, pmax.int, pmin, pmin.int, Position, rank,\n",
      "    rbind, Reduce, rowMeans, rownames, rowSums, sapply, setdiff, sort,\n",
      "    table, tapply, union, unique, unsplit, which, which.max, which.min\n",
      "\n",
      "Loading required package: S4Vectors\n",
      "\n",
      "Attaching package: ‘S4Vectors’\n",
      "\n",
      "The following object is masked from ‘package:base’:\n",
      "\n",
      "    expand.grid\n",
      "\n",
      "Loading required package: IRanges\n",
      "Loading required package: GenomeInfoDb\n",
      "Loading required package: AnnotationDbi\n",
      "Loading required package: Biobase\n",
      "Welcome to Bioconductor\n",
      "\n",
      "    Vignettes contain introductory material; view with\n",
      "    'browseVignettes()'. To cite Bioconductor, see\n",
      "    'citation(\"Biobase\")', and for packages 'citation(\"pkgname\")'.\n",
      "\n",
      "Loading required package: BSgenome\n",
      "Loading required package: Biostrings\n",
      "Loading required package: XVector\n",
      "\n",
      "Attaching package: ‘Biostrings’\n",
      "\n",
      "The following object is masked from ‘package:base’:\n",
      "\n",
      "    strsplit\n",
      "\n"
     ]
    }
   ],
   "source": [
    "library(tracktables)\n",
    "library(rtracklayer)\n",
    "library(GenomicFeatures)\n",
    "library(BSgenome.Hsapiens.UCSC.hg38)"
   ]
  },
  {
   "cell_type": "code",
   "execution_count": 4,
   "metadata": {},
   "outputs": [
    {
     "name": "stderr",
     "output_type": "stream",
     "text": [
      "Warning message in `seqlevels<-`(`*tmp*`, pruning.mode = pruning.mode, value = c(\"chr1\", :\n",
      "“'pruning.mode' is ignored in \"seqlevels<-\" method for Seqinfo objects”"
     ]
    },
    {
     "data": {
      "text/plain": [
       "Seqinfo object with 25 sequences (1 circular) from hg38 genome:\n",
       "  seqnames seqlengths isCircular genome\n",
       "  1         248956422      FALSE   hg38\n",
       "  2         242193529      FALSE   hg38\n",
       "  3         198295559      FALSE   hg38\n",
       "  4         190214555      FALSE   hg38\n",
       "  5         181538259      FALSE   hg38\n",
       "  ...             ...        ...    ...\n",
       "  21         46709983      FALSE   hg38\n",
       "  22         50818468      FALSE   hg38\n",
       "  X         156040895      FALSE   hg38\n",
       "  Y          57227415      FALSE   hg38\n",
       "  MT            16569       TRUE   hg38"
      ]
     },
     "metadata": {},
     "output_type": "display_data"
    }
   ],
   "source": [
    "# get seqinfo (but also since the BSgenome is from UCSC, remap coordinates back to NCBI/ensembl)\n",
    "\n",
    "hg38info <- keepStandardChromosomes(seqinfo(BSgenome.Hsapiens.UCSC.hg38), pruning.mode = \"tidy\")\n",
    "newStyle <- mapSeqlevels(seqlevels(hg38info),\"NCBI\")\n",
    "hg38info <- (renameSeqlevels(hg38info, newStyle))\n",
    "hg38info"
   ]
  },
  {
   "cell_type": "markdown",
   "metadata": {},
   "source": [
    "# ChIP-peaks (from Soufi *et al*)\n",
    "(from **Soufi 2015** (personal correspondence)):\n",
    "\n",
    "Peak locations were extracted and then lifted over via UCSC `liftOver` from hg18 (EIGHTEEN) to GRCh38/hg38. These locations are available on request."
   ]
  },
  {
   "cell_type": "code",
   "execution_count": 5,
   "metadata": {},
   "outputs": [],
   "source": [
    "SOX_peaks <- import(\"~/SoxOct/Soufi2015/Soufi2015_S_sites.hg38.bed\")\n",
    "OCT_peaks <- import(\"~/SoxOct/Soufi2015/Soufi2015_O_sites.hg38.bed\")\n",
    "\n",
    "SOX_peaks <- keepStandardChromosomes(SOX_peaks, pruning.mode = 'coarse')\n",
    "OCT_peaks <- keepStandardChromosomes(OCT_peaks, pruning.mode = 'coarse')"
   ]
  },
  {
   "cell_type": "code",
   "execution_count": 6,
   "metadata": {},
   "outputs": [],
   "source": [
    "# note that Soufi peaks are in UCSC coordinates:\n",
    "SOX_peaks <- renameSeqlevels(SOX_peaks, mapSeqlevels(seqlevels(SOX_peaks), \"NCBI\"))\n",
    "OCT_peaks <- renameSeqlevels(OCT_peaks, mapSeqlevels(seqlevels(OCT_peaks), \"NCBI\"))"
   ]
  },
  {
   "cell_type": "code",
   "execution_count": 7,
   "metadata": {},
   "outputs": [],
   "source": [
    "# drop MT chromosome\n",
    "SOX_peaks <- SOX_peaks[seqnames(SOX_peaks) != \"MT\"]\n",
    "OCT_peaks <- OCT_peaks[seqnames(OCT_peaks) != \"MT\"]\n",
    "\n",
    "# manually add names since Soufi et al BED doesn't have any\n",
    "SOX_peaks$name <- paste0(\"Soufi_SOX_peak_\", 1:len(SOX_peaks))\n",
    "OCT_peaks$name <- paste0(\"Soufi_OCT_peak_\", 1:len(OCT_peaks))"
   ]
  },
  {
   "cell_type": "code",
   "execution_count": 8,
   "metadata": {},
   "outputs": [],
   "source": [
    "# add a dummy MT seqlevel\n",
    "seqlevels(SOX_peaks) <- c(seqlevels(SOX_peaks), \"MT\")\n",
    "seqlevels(OCT_peaks) <- c(seqlevels(OCT_peaks), \"MT\")\n",
    "\n",
    "seqlevels(OCT_peaks) <- c(seqlevels(OCT_peaks), \"Y\") # only Oct is missing Y inexplicably"
   ]
  },
  {
   "cell_type": "code",
   "execution_count": 9,
   "metadata": {},
   "outputs": [],
   "source": [
    "# sort the seqlevels... because we have to?\n",
    "SOX_peaks <- sortSeqlevels(SOX_peaks)\n",
    "OCT_peaks <- sortSeqlevels(OCT_peaks)"
   ]
  },
  {
   "cell_type": "code",
   "execution_count": 10,
   "metadata": {},
   "outputs": [],
   "source": [
    "seqinfo(SOX_peaks) <- hg38info\n",
    "seqinfo(OCT_peaks) <- hg38info"
   ]
  },
  {
   "cell_type": "markdown",
   "metadata": {},
   "source": [
    "# DNA export\n",
    "\n",
    "I export the genomic DNA sequences to use `FIMO` to identify sequences conforming to given binding motifs."
   ]
  },
  {
   "cell_type": "code",
   "execution_count": 11,
   "metadata": {},
   "outputs": [],
   "source": [
    "writeDNAtofile <- function(grange, path){\n",
    "    # map the seqlevels back to UCSC\n",
    "    grforexport <- renameSeqlevels(grange, mapSeqlevels(seqlevels(grange), \"UCSC\"))\n",
    "    print(seqlevels(grforexport))\n",
    "\n",
    "    # add flanking 200 bp\n",
    "    #DNAflank <- 200\n",
    "    DNAflank <- 0 # since it's already a 200bp-wide thing\n",
    "    print(paste0(\"flanking DNA: \", DNAflank))\n",
    "    grforexport <- grforexport + DNAflank\n",
    "    \n",
    "    grforexport <- trim(grforexport)\n",
    "    \n",
    "    DNAforexport <- getSeq(BSgenome.Hsapiens.UCSC.hg38, names = grforexport) #actual sequence lookup step\n",
    "    names(DNAforexport) <- mcols(grforexport)$name # add names so I know what it is\n",
    "    \n",
    "    print(DNAforexport)\n",
    "    \n",
    "    # write it out to disk\n",
    "    writeXStringSet(DNAforexport, filepath = path)\n",
    "}"
   ]
  },
  {
   "cell_type": "code",
   "execution_count": 12,
   "metadata": {},
   "outputs": [
    {
     "name": "stdout",
     "output_type": "stream",
     "text": [
      " [1] \"chr1\"  \"chr2\"  \"chr3\"  \"chr4\"  \"chr5\"  \"chr6\"  \"chr7\"  \"chr8\"  \"chr9\" \n",
      "[10] \"chr10\" \"chr11\" \"chr12\" \"chr13\" \"chr14\" \"chr15\" \"chr16\" \"chr17\" \"chr18\"\n",
      "[19] \"chr19\" \"chr20\" \"chr21\" \"chr22\" \"chrX\"  \"chrY\"  \"chrM\" \n",
      "[1] \"flanking DNA: 0\"\n",
      "  A DNAStringSet instance of length 32884\n",
      "        width seq                                           names               \n",
      "    [1]   199 CTATGTCTCTGAACTATTAAT...GTATCCATGGTCTGAAACAAT Soufi_SOX_peak_1\n",
      "    [2]   199 ATGTATTTGGAAATGACAAAA...GTTTTGAAAAGCAATGAAAGG Soufi_SOX_peak_2\n",
      "    [3]   199 AGCGTTTGATAAAATCACAAA...TAGTTAAATAAAAAACACAAC Soufi_SOX_peak_3\n",
      "    [4]   199 CATTAAATGTAATAACCTATG...ACAGAGAGAAGAAGATAAAGC Soufi_SOX_peak_4\n",
      "    [5]   199 GACTATATACTACTTTTTATT...GAACATGCTTGGAGTTCTTTG Soufi_SOX_peak_5\n",
      "    ...   ... ...\n",
      "[32880]   199 AAACAGACAACTCAACAAAAT...GGCTCAAAGACAGGTCATTTG Soufi_SOX_peak_32880\n",
      "[32881]   199 TAGTTAAGTCCTTACCAATCG...ATCCCACACCAATGATAACAA Soufi_SOX_peak_32881\n",
      "[32882]   199 GATGGCTGTAAATGTGTGGCT...TCCAGCTTTGTTCTTTTTTGC Soufi_SOX_peak_32882\n",
      "[32883]   199 TTGATTGCAAACACTTTTATT...GCTGTTGATTGTGGGTTTGTC Soufi_SOX_peak_32883\n",
      "[32884]   515 TTTAAGTCTTCTATGTCCTTA...GACTATATAGCTTGCAAAGCC Soufi_SOX_peak_32884\n"
     ]
    }
   ],
   "source": [
    "writeDNAtofile(SOX_peaks, \"~/SoxOct/public/Soufi2015/Sox_peakseqs_200.fasta\")"
   ]
  },
  {
   "cell_type": "code",
   "execution_count": 13,
   "metadata": {},
   "outputs": [
    {
     "name": "stdout",
     "output_type": "stream",
     "text": [
      " [1] \"chr1\"  \"chr2\"  \"chr3\"  \"chr4\"  \"chr5\"  \"chr6\"  \"chr7\"  \"chr8\"  \"chr9\" \n",
      "[10] \"chr10\" \"chr11\" \"chr12\" \"chr13\" \"chr14\" \"chr15\" \"chr16\" \"chr17\" \"chr18\"\n",
      "[19] \"chr19\" \"chr20\" \"chr21\" \"chr22\" \"chrX\"  \"chrY\"  \"chrM\" \n",
      "[1] \"flanking DNA: 0\"\n",
      "  A DNAStringSet instance of length 19111\n",
      "        width seq                                           names               \n",
      "    [1]   199 ATGTGCACACATATAAACACT...CACACATATGCACATGATATA Soufi_OCT_peak_1\n",
      "    [2]   199 GGGAAAGAATAATGCGTTTGC...TTCAAGCAAGTCCTTTGAGAA Soufi_OCT_peak_2\n",
      "    [3]   199 TGCACAGATGAGATTTCATCC...CAATGCACAGTGAATCTGCTT Soufi_OCT_peak_3\n",
      "    [4]   199 TCACAACAAAGCTCTTTGTCT...TAATTAGATCTGCATTTTAGA Soufi_OCT_peak_4\n",
      "    [5]   199 ATGTATATGCATATGTGTATA...TGTATATGCATATGCATGTGC Soufi_OCT_peak_5\n",
      "    ...   ... ...\n",
      "[19107]   199 CTCAGAGAGGCCTTCCCTAAC...AGCATTTTGCCTTCGTATTTA Soufi_OCT_peak_19107\n",
      "[19108]   199 GGCTAGGGGCGTTCCACCAGG...TAAAGTTTGAGGCACCAACAG Soufi_OCT_peak_19108\n",
      "[19109]   545 CTATCCCTTCTCTTCACACGC...GGGAGGGGTTGGGAAACTATT Soufi_OCT_peak_19109\n",
      "[19110]   199 CATGCATGACTGTGCATGCAT...TGCATGATTATGTGTGTGCAT Soufi_OCT_peak_19110\n",
      "[19111]   199 ACACACACATATATACACACA...ATATATATTTTTGCTGGTGTA Soufi_OCT_peak_19111\n"
     ]
    }
   ],
   "source": [
    "writeDNAtofile(OCT_peaks, \"~/SoxOct/public/Soufi2015/Oct_peakseqs_200.fasta\")"
   ]
  },
  {
   "cell_type": "markdown",
   "metadata": {},
   "source": [
    "# CHIP-confirmed motif locations in genome (via FIMO)\n",
    "\n",
    "I use `FIMO` with `--verbosity 3` and `--thresh .001` to identify sites conforming to the canonical Sox2 motif (MA0143.3) or the Sox2 74% noncanonical motif in Sox2 peak sequences from above. I similarly use `FIMO` to identify canonical Oct4 (MA1115.1) and noncanonical (42% anad 28% variants) in Oct4 peak sequences from above.\n",
    "\n",
    "I then use [`py3_motif-matching-human-public.ipynb`](py3_motif-matching-human-public.ipynb) to convert the coordinates from FIMO back into genomic coordinates. This requires that I have the original peak locations as a GTF."
   ]
  },
  {
   "cell_type": "code",
   "execution_count": 14,
   "metadata": {},
   "outputs": [],
   "source": [
    "export(SOX_peaks, '~/SoxOct/public/Soufi2015/Sox_peaks_200.gtf')\n",
    "export(OCT_peaks, '~/SoxOct/public/Soufi2015/Oct_peaks_200.gtf')"
   ]
  }
 ],
 "metadata": {
  "kernelspec": {
   "display_name": "R",
   "language": "R",
   "name": "ir"
  },
  "language_info": {
   "codemirror_mode": "r",
   "file_extension": ".r",
   "mimetype": "text/x-r-source",
   "name": "R",
   "pygments_lexer": "r",
   "version": "3.4.3"
  },
  "notify_time": "5",
  "toc": {
   "nav_menu": {},
   "number_sections": true,
   "sideBar": true,
   "skip_h1_title": false,
   "toc_cell": false,
   "toc_position": {
    "height": "547px",
    "left": "0px",
    "right": "1205px",
    "top": "110px",
    "width": "161px"
   },
   "toc_section_display": "block",
   "toc_window_display": true
  }
 },
 "nbformat": 4,
 "nbformat_minor": 2
}
