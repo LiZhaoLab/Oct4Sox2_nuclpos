{
 "cells": [
  {
   "cell_type": "markdown",
   "metadata": {},
   "source": [
    "# Motif-matching\n",
    "\n",
    "This python3 notebook converts the coordinates of FIMO-identified motif sequences (given relative to the submitted sequence) back into global genomic coordinates using a GTF describing the original sequences. Both these inputs are generated from [`bioc-mouse-preparation-public.ipynb`](bioc-human-preparation-public.ipynb). The outputted BED4/6 files are then used in [`bioc-mouse-genomic-analysis-public.ipynb`](bioc-human-analysis-public.ipynb)."
   ]
  },
  {
   "cell_type": "code",
   "execution_count": 1,
   "metadata": {},
   "outputs": [],
   "source": [
    "import pandas as pd"
   ]
  },
  {
   "cell_type": "code",
   "execution_count": 2,
   "metadata": {},
   "outputs": [],
   "source": [
    "# hack to import slowkow's GTF.py (https://gist.github.com/slowkow/8101481)\n",
    "# from https://stackoverflow.com/questions/67631/how-to-import-a-module-given-the-full-path\n",
    "\n",
    "import importlib.util\n",
    "spec = importlib.util.spec_from_file_location(\"GTF\", \"/ru-auth/local/home/ezheng/ipynb/GTF.py\")\n",
    "GTF = importlib.util.module_from_spec(spec)\n",
    "spec.loader.exec_module(GTF)"
   ]
  },
  {
   "cell_type": "markdown",
   "metadata": {},
   "source": [
    "# automation!"
   ]
  },
  {
   "cell_type": "code",
   "execution_count": 3,
   "metadata": {},
   "outputs": [],
   "source": [
    "def process(infile, reference, outfile):\n",
    "    SoxOct_peaks = GTF.dataframe(filename=reference)\n",
    "\n",
    "    FIMO_motifs = pd.read_table(infile)\n",
    "\n",
    "    FIMO_motifs = FIMO_motifs[[\"sequence name\", \"start\", \"stop\", \"strand\"]]\n",
    "    FIMO_motifs.rename(columns={\"stop\":\"end\"}, inplace=True)\n",
    "    \n",
    "    SoxOct_peaks.columns\n",
    "\n",
    "    merge = pd.merge(SoxOct_peaks, FIMO_motifs, left_on=\"name\", \\\n",
    "                     right_on=\"sequence name\", how = 'right', suffixes=[\"_peak\", \"_motif\"])\n",
    "\n",
    "    merge[0:10]\n",
    "\n",
    "    DNAflank = 200\n",
    "\n",
    "    merge[\"start_motif_genomic\"] = merge[\"start_peak\"].astype(int) + merge[\"start_motif\"].astype(int) - DNAflank -1 \n",
    "    merge[\"end_motif_genomic\"] = merge[\"start_peak\"].astype(int) + merge[\"end_motif\"].astype(int) - DNAflank -1 \n",
    "\n",
    "    merge[[\"seqname\", \"start_motif_genomic\", \"end_motif_genomic\", \"name\"]].to_csv(\\\n",
    "                            outfile, \\\n",
    "                            header=False, index=False, sep = \"\\t\")"
   ]
  },
  {
   "cell_type": "markdown",
   "metadata": {},
   "source": [
    "## mESCs (Whyte)"
   ]
  },
  {
   "cell_type": "code",
   "execution_count": 4,
   "metadata": {},
   "outputs": [],
   "source": [
    "# Tandem\n",
    "\n",
    "infile =    \"/ru-auth/local/home/ezheng/SoxOct/public/mouse/fimo/Whyte_mESC_tandem/fimo.txt\"\n",
    "reference = \"/ru-auth/local/home/ezheng/SoxOct/public/mouse/chipseq_Whyte2013/tandem_peaks.gtf\"\n",
    "outfile =                            \"~/SoxOct/public/mouse/chipseq_Whyte2013/tandem_motifs.bed\"\n",
    "\n",
    "process(infile = infile,reference = reference,outfile = outfile)\n",
    "\n",
    "# Sox\n",
    "\n",
    "infile =    \"/ru-auth/local/home/ezheng/SoxOct/public/mouse/fimo/Whyte_mESC_Sox2/fimo.txt\"\n",
    "reference = \"/ru-auth/local/home/ezheng/SoxOct/public/mouse/chipseq_Whyte2013/Sox_peaks.gtf\"\n",
    "outfile =                            \"~/SoxOct/public/mouse/chipseq_Whyte2013/Sox_motifs.bed\"\n",
    "\n",
    "process(infile = infile,reference = reference,outfile = outfile)\n",
    "\n",
    "# Oct\n",
    "\n",
    "infile =    \"/ru-auth/local/home/ezheng/SoxOct/public/mouse/fimo/Whyte_mESC_Oct4/fimo.txt\"\n",
    "reference = \"/ru-auth/local/home/ezheng/SoxOct/public/mouse/chipseq_Whyte2013/Oct_peaks.gtf\"\n",
    "outfile =                            \"~/SoxOct/public/mouse/chipseq_Whyte2013/Oct_motifs.bed\"\n",
    "\n",
    "process(infile = infile,reference = reference,outfile = outfile)"
   ]
  },
  {
   "cell_type": "markdown",
   "metadata": {},
   "source": [
    "## Matsuda (EpiSC)"
   ]
  },
  {
   "cell_type": "code",
   "execution_count": 5,
   "metadata": {},
   "outputs": [],
   "source": [
    "# Tandem\n",
    "\n",
    "infile =    \"/ru-auth/local/home/ezheng/SoxOct/public/mouse/fimo/EpiSC_tandem/fimo.txt\"\n",
    "reference = \"/ru-auth/local/home/ezheng/SoxOct/public/mouse/EpiSC_chip/tandempeaks.gtf\"\n",
    "outfile =                            \"~/SoxOct/public/mouse/EpiSC_chip/tandem_motifs.bed\"\n",
    "\n",
    "process(infile = infile,reference = reference,outfile = outfile)\n",
    "\n",
    "# Sox\n",
    "\n",
    "infile =    \"/ru-auth/local/home/ezheng/SoxOct/public/mouse/fimo/EpiSC_Sox2/fimo.txt\"\n",
    "reference = \"/ru-auth/local/home/ezheng/SoxOct/public/mouse/EpiSC_chip/Sox_peaks.gtf\"\n",
    "outfile =                            \"~/SoxOct/public/mouse/EpiSC_chip/Sox_motifs.bed\"\n",
    "\n",
    "process(infile = infile,reference = reference,outfile = outfile)\n",
    "\n",
    "# Oct\n",
    "\n",
    "infile =    \"/ru-auth/local/home/ezheng/SoxOct/public/mouse/fimo/EpiSC_Oct4/fimo.txt\"\n",
    "reference = \"/ru-auth/local/home/ezheng/SoxOct/public/mouse/EpiSC_chip/Oct_peaks.gtf\"\n",
    "outfile =                            \"~/SoxOct/public/mouse/EpiSC_chip/Oct_motifs.bed\"\n",
    "\n",
    "process(infile = infile,reference = reference,outfile = outfile)"
   ]
  },
  {
   "cell_type": "code",
   "execution_count": null,
   "metadata": {},
   "outputs": [],
   "source": []
  },
  {
   "cell_type": "markdown",
   "metadata": {},
   "source": [
    "# stranded processing"
   ]
  },
  {
   "cell_type": "code",
   "execution_count": 6,
   "metadata": {},
   "outputs": [],
   "source": [
    "def process_strand(infile, reference, outfile, DNAflank):\n",
    "    peaks = GTF.dataframe(filename=reference)\n",
    "\n",
    "    FIMO_motifs = pd.read_table(infile)\n",
    "\n",
    "    FIMO_motifs = FIMO_motifs[[\"sequence name\", \"start\", \"stop\", \"strand\"]]\n",
    "    FIMO_motifs.rename(columns={\"stop\":\"end\"}, inplace=True)\n",
    "    #FIMO_motifs\n",
    "\n",
    "    merge = pd.merge(peaks, FIMO_motifs, left_on=\"name\", \\\n",
    "                     right_on=\"sequence name\", how = 'right', suffixes=[\"_peak\", \"_motif\"])\n",
    "\n",
    "    # do the coordinate conversion\n",
    "    DNAflank = DNAflank # this is normally 200, but sometimes it is 0 -- this is the offset from the reference GTF!\n",
    "\n",
    "    merge[\"start_motif_genomic\"] = merge[\"start_peak\"].astype(int) + merge[\"start_motif\"].astype(int) - DNAflank -1 \n",
    "    merge[\"end_motif_genomic\"] = merge[\"start_peak\"].astype(int) + merge[\"end_motif\"].astype(int) - DNAflank -1 \n",
    "\n",
    "    #merge.columns\n",
    "    merge[\"dummy\"] = \".\"\n",
    "    merge[[\"seqname\", \"start_motif_genomic\", \"end_motif_genomic\", \"name\", \"dummy\", \"strand_motif\"]].to_csv(\\\n",
    "                            outfile, \\\n",
    "                            header=False, index=False, sep = \"\\t\")"
   ]
  },
  {
   "cell_type": "markdown",
   "metadata": {},
   "source": [
    "## mESCs (Whyte)"
   ]
  },
  {
   "cell_type": "code",
   "execution_count": 7,
   "metadata": {},
   "outputs": [],
   "source": [
    "# Tandem\n",
    "\n",
    "infile =    \"/ru-auth/local/home/ezheng/SoxOct/public/mouse/fimo/Whyte_mESC_tandem/fimo.txt\"\n",
    "reference = \"/ru-auth/local/home/ezheng/SoxOct/public/mouse/chipseq_Whyte2013/tandem_peaks.gtf\"\n",
    "outfile =                            \"~/SoxOct/public/mouse/chipseq_Whyte2013/tandemmotifs.strand.bed\"\n",
    "\n",
    "process_strand(infile = infile,reference = reference,outfile = outfile, DNAflank = 200)\n",
    "\n",
    "# Sox\n",
    "\n",
    "infile =    \"/ru-auth/local/home/ezheng/SoxOct/public/mouse/fimo/Whyte_mESC_Sox2/fimo.txt\"\n",
    "reference = \"/ru-auth/local/home/ezheng/SoxOct/public/mouse/chipseq_Whyte2013/Sox_peaks.gtf\"\n",
    "outfile =                            \"~/SoxOct/public/mouse/chipseq_Whyte2013/Sox_motifs.strand.bed\"\n",
    "\n",
    "process_strand(infile = infile,reference = reference,outfile = outfile, DNAflank = 200)\n",
    "\n",
    "# Oct\n",
    "\n",
    "infile =    \"/ru-auth/local/home/ezheng/SoxOct/public/mouse/fimo/Whyte_mESC_Oct4/fimo.txt\"\n",
    "reference = \"/ru-auth/local/home/ezheng/SoxOct/public/mouse/chipseq_Whyte2013/Oct_peaks.gtf\"\n",
    "outfile =                            \"~/SoxOct/public/mouse/chipseq_Whyte2013/Oct_motifs.strand.bed\"\n",
    "\n",
    "process_strand(infile = infile,reference = reference,outfile = outfile, DNAflank = 200)"
   ]
  },
  {
   "cell_type": "markdown",
   "metadata": {},
   "source": [
    "## Matsuda (EpiSC)"
   ]
  },
  {
   "cell_type": "code",
   "execution_count": 8,
   "metadata": {},
   "outputs": [],
   "source": [
    "# Tandem\n",
    "\n",
    "infile =    \"/ru-auth/local/home/ezheng/SoxOct/public/mouse/fimo/EpiSC_tandem/fimo.txt\"\n",
    "reference = \"/ru-auth/local/home/ezheng/SoxOct/public/mouse/EpiSC_chip/tandempeaks.gtf\"\n",
    "outfile =                            \"~/SoxOct/public/mouse/EpiSC_chip/tandemmotifs.strand.bed\"\n",
    "\n",
    "process_strand(infile = infile,reference = reference,outfile = outfile, DNAflank = 200)\n",
    "\n",
    "# Sox\n",
    "\n",
    "infile =    \"/ru-auth/local/home/ezheng/SoxOct/public/mouse/fimo/EpiSC_Sox2/fimo.txt\"\n",
    "reference = \"/ru-auth/local/home/ezheng/SoxOct/public/mouse/EpiSC_chip/Sox_peaks.gtf\"\n",
    "outfile =                            \"~/SoxOct/public/mouse/EpiSC_chip/Sox_motifs.strand.bed\"\n",
    "\n",
    "process_strand(infile = infile,reference = reference,outfile = outfile, DNAflank = 200)\n",
    "\n",
    "# Oct\n",
    "\n",
    "infile =    \"/ru-auth/local/home/ezheng/SoxOct/public/mouse/fimo/EpiSC_Oct4/fimo.txt\"\n",
    "reference = \"/ru-auth/local/home/ezheng/SoxOct/public/mouse/EpiSC_chip/Oct_peaks.gtf\"\n",
    "outfile =                            \"~/SoxOct/public/mouse/EpiSC_chip/Oct_motifs.strand.bed\"\n",
    "\n",
    "process_strand(infile = infile,reference = reference,outfile = outfile, DNAflank = 200)"
   ]
  },
  {
   "cell_type": "code",
   "execution_count": null,
   "metadata": {},
   "outputs": [],
   "source": []
  }
 ],
 "metadata": {
  "kernelspec": {
   "display_name": "Python 3",
   "language": "python",
   "name": "python3"
  },
  "language_info": {
   "codemirror_mode": {
    "name": "ipython",
    "version": 3
   },
   "file_extension": ".py",
   "mimetype": "text/x-python",
   "name": "python",
   "nbconvert_exporter": "python",
   "pygments_lexer": "ipython3",
   "version": "3.6.3"
  },
  "toc": {
   "nav_menu": {},
   "number_sections": true,
   "sideBar": true,
   "skip_h1_title": false,
   "toc_cell": false,
   "toc_position": {},
   "toc_section_display": "block",
   "toc_window_display": false
  }
 },
 "nbformat": 4,
 "nbformat_minor": 2
}
