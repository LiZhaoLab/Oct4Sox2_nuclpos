{
 "cells": [
  {
   "cell_type": "markdown",
   "metadata": {},
   "source": [
    "# PanelA\n",
    "\n",
    "A notebook to generate the graph in **Figure 6, Panel A**."
   ]
  },
  {
   "cell_type": "code",
   "execution_count": 1,
   "metadata": {},
   "outputs": [],
   "source": [
    "library(ggplot2)"
   ]
  },
  {
   "cell_type": "code",
   "execution_count": 2,
   "metadata": {},
   "outputs": [],
   "source": [
    "library(repr)"
   ]
  },
  {
   "cell_type": "code",
   "execution_count": 3,
   "metadata": {},
   "outputs": [],
   "source": [
    "options(repr.plot.width=6, repr.plot.height=2)"
   ]
  },
  {
   "cell_type": "code",
   "execution_count": 4,
   "metadata": {},
   "outputs": [],
   "source": [
    "# blank out extraneous things\n",
    "opts <- theme(axis.line=element_blank(),\n",
    "      axis.text.x=element_blank(),\n",
    "      axis.text.y=element_blank(),\n",
    "      axis.ticks=element_blank(),\n",
    "      axis.title.x=element_blank(),\n",
    "      axis.title.y=element_blank(),\n",
    "      legend.position=\"none\",\n",
    "      panel.background=element_blank(),\n",
    "      panel.border=element_blank(),\n",
    "      panel.grid.major=element_blank(),\n",
    "      panel.grid.minor=element_blank(),\n",
    "      plot.background=element_blank())"
   ]
  },
  {
   "cell_type": "code",
   "execution_count": 5,
   "metadata": {},
   "outputs": [],
   "source": [
    "# define some color-blindness-friendly colors\n",
    "\n",
    "safered <- \"#920000\"\n",
    "safegreen <- \"#009292\"\n",
    "safeviolet <- \"#490092\""
   ]
  },
  {
   "cell_type": "code",
   "execution_count": 6,
   "metadata": {},
   "outputs": [],
   "source": [
    "# define a function to make curves\n",
    "curve <- function(offset_x = 0, offset_y = 0, width = 1, scale_y = 1){\n",
    "    return (data.frame(x=(offset_x + -125:125)/100, y =offset_y + dnorm((-125:125)/100, sd = width)*scale_y))\n",
    "}"
   ]
  },
  {
   "cell_type": "code",
   "execution_count": 7,
   "metadata": {},
   "outputs": [
    {
     "name": "stderr",
     "output_type": "stream",
     "text": [
      "Warning message:\n",
      "“Removed 250 rows containing missing values (geom_path).”Warning message:\n",
      "“Removed 1 rows containing missing values (geom_errorbarh).”"
     ]
    },
    {
     "data": {},
     "metadata": {},
     "output_type": "display_data"
    },
    {
     "data": {
      "image/png": "[encoded data removed]",
      "text/plain": [
       "plot without title"
      ]
     },
     "metadata": {},
     "output_type": "display_data"
    }
   ],
   "source": [
    "options(repr.plot.width=4, repr.plot.height=2)\n",
    "\n",
    "panelA_2_data <- rbind(curve(offset_y=.35, width = .4, scale_y=.4),\n",
    "                       curve(offset_x=250, offset_y=.35, width=.4, scale_y=.336),\n",
    "                       curve(offset_x=-250, offset_y=.35, width=.4, scale_y=.32)   )\n",
    "\n",
    "subdata <- panelA_2_data[panelA_2_data$x < 2.7 & panelA_2_data$x > -1.8,]\n",
    "\n",
    "ggplot()+geom_line(data=panelA_2_data, aes(x=x, y=y), color=safegreen, size=.8) +\n",
    "        ylim(-.1,.9) +\n",
    "        xlim(-1.5,3.5) +\n",
    "        theme_classic() + \n",
    "\n",
    "        theme(axis.title.x=element_text(size=rel(0.9))) +\n",
    "        theme(axis.title.y=element_text(size=rel(0.9))) +\n",
    "        theme(title=element_text(size=rel(0.8))) +\n",
    "\n",
    "        # draw the distances\n",
    "        annotate(\"linerange\", x = .45, ymin = -.05, ymax = 0.1, colour = \"black\", linetype='dotted') +\n",
    "        annotate(\"linerange\", x = 0, ymin = -.05, ymax = 0.7986779-.06, colour = \"black\", linetype='dashed') + \n",
    "        annotate(\"errorbarh\", x = 0, y = -.10, xmin = .0, xmax = .45, colour = safered, size = 2.5) + \n",
    "\n",
    "        annotate(\"linerange\", x = 3.3, ymin = -.05, ymax = 0.1, colour = \"black\", linetype='dotted') +\n",
    "        annotate(\"linerange\", x = 2.5, ymin = -.05, ymax = 0.7986779-.13, colour = \"black\", linetype='dashed') + \n",
    "        annotate(\"errorbarh\", x = 0, y = -.10, xmin = 3.3, xmax = 2.5, colour = safered, size = 2.5) + \n",
    "\n",
    "        # motif bars\n",
    "        annotate(\"errorbarh\", x = 0, y = .1 , xmin = .35, xmax = .55, colour = safeviolet, size = 1.5) + \n",
    "        annotate(\"errorbarh\", x = 0, y = .1 , xmin = 3.2, xmax = 3.4, colour = safeviolet, size = 1.5) + \n",
    "        \n",
    "        # nucleosome bars\n",
    "        annotate(\"errorbarh\", x = 0, y = .29, xmin =  -.65, xmax =   .65, colour = safegreen, size = 2.5) +\n",
    "        annotate(\"errorbarh\", x = 0, y = .29, xmin = -3.15, xmax = -1.85, colour = safegreen, size = 2.5) + \n",
    "        annotate(\"errorbarh\", x = 0, y = .29, xmin =  3.15, xmax =  1.85, colour = safegreen, size = 2.5) +\n",
    "\n",
    "        # draw the dashed purple bar\n",
    "        annotate(\"errorbarh\", x = 0, y = .1 , xmin = -1.4, xmax = 2.4, colour = safeviolet, size = .6, linetype='dashed') + \n",
    "        annotate(\"linerange\", x =  2.4, ymin = .05, ymax = 0.15, colour = safeviolet) +\n",
    "        annotate(\"linerange\", x = -1.4, ymin = .05, ymax = 0.15, colour = safeviolet) +\n",
    "\n",
    "        # blank out everything else\n",
    "        opts"
   ]
  },
  {
   "cell_type": "raw",
   "metadata": {},
   "source": [
    "ggsave(filename = \"PanelA-3.eps\", width = 4, height = 2, units = \"in\")"
   ]
  }
 ],
 "metadata": {
  "kernelspec": {
   "display_name": "R",
   "language": "R",
   "name": "ir"
  },
  "language_info": {
   "codemirror_mode": "r",
   "file_extension": ".r",
   "mimetype": "text/x-r-source",
   "name": "R",
   "pygments_lexer": "r",
   "version": "3.4.3"
  },
  "toc": {
   "nav_menu": {},
   "number_sections": true,
   "sideBar": true,
   "skip_h1_title": false,
   "toc_cell": false,
   "toc_position": {},
   "toc_section_display": "block",
   "toc_window_display": false
  }
 },
 "nbformat": 4,
 "nbformat_minor": 2
}
