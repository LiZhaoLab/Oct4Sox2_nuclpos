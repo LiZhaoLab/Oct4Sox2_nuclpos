{
 "cells": [
  {
   "cell_type": "code",
   "execution_count": 1,
   "metadata": {},
   "outputs": [],
   "source": [
    "import pandas as pd"
   ]
  },
  {
   "cell_type": "code",
   "execution_count": 2,
   "metadata": {},
   "outputs": [],
   "source": [
    "# hack to import slowkow's GTF.py (https://gist.github.com/slowkow/8101481)\n",
    "# from https://stackoverflow.com/questions/67631/how-to-import-a-module-given-the-full-path\n",
    "\n",
    "import importlib.util\n",
    "spec = importlib.util.spec_from_file_location(\"GTF\", \"/ru-auth/local/home/ezheng/ipynb/GTF.py\")\n",
    "GTF = importlib.util.module_from_spec(spec)\n",
    "spec.loader.exec_module(GTF)"
   ]
  },
  {
   "cell_type": "code",
   "execution_count": 3,
   "metadata": {},
   "outputs": [],
   "source": [
    "def process_strand(infile, reference, outfile, DNAflank):\n",
    "    peaks = GTF.dataframe(filename=reference)\n",
    "    peaks[0:10]\n",
    "\n",
    "    FIMO_motifs = pd.read_table(infile)\n",
    "\n",
    "    FIMO_motifs = FIMO_motifs[[\"sequence name\", \"start\", \"stop\", \"strand\"]]\n",
    "    FIMO_motifs.rename(columns={\"stop\":\"end\"}, inplace=True)\n",
    "    #FIMO_motifs\n",
    "\n",
    "    peaks.columns\n",
    "\n",
    "    merge = pd.merge(peaks, FIMO_motifs, left_on=\"name\", \\\n",
    "                     right_on=\"sequence name\", how = 'right', suffixes=[\"_peak\", \"_motif\"])\n",
    "\n",
    "    merge[0:10]\n",
    "\n",
    "    # do the coordinate conversion\n",
    "    DNAflank = DNAflank # this is normally 200, but sometimes it is 0 -- this is the offset from the reference GTF!\n",
    "\n",
    "    merge[\"start_motif_genomic\"] = merge[\"start_peak\"].astype(int) + merge[\"start_motif\"].astype(int) - DNAflank -1 \n",
    "    merge[\"end_motif_genomic\"] = merge[\"start_peak\"].astype(int) + merge[\"end_motif\"].astype(int) - DNAflank -1 \n",
    "\n",
    "    #merge.columns\n",
    "    merge[\"dummy\"] = \".\"\n",
    "    merge[[\"seqname\", \"start_motif_genomic\", \"end_motif_genomic\", \"name\", \"dummy\", \"strand_motif\"]].to_csv(\\\n",
    "                            outfile, \\\n",
    "                            header=False, index=False, sep = \"\\t\")"
   ]
  },
  {
   "cell_type": "code",
   "execution_count": 5,
   "metadata": {},
   "outputs": [
    {
     "name": "stderr",
     "output_type": "stream",
     "text": [
      "/ru-auth/local/home/ezheng/miniconda3/lib/python3.6/site-packages/ipykernel_launcher.py:5: FutureWarning: read_table is deprecated, use read_csv instead, passing sep='\\t'.\n",
      "  \"\"\"\n"
     ]
    }
   ],
   "source": [
    " # Sox\n",
    "\n",
    "infile =    \"/ru-auth/local/home/ezheng/SoxOct/chipseq/Soufi2012/MEME_Sox2/fimo.txt\"\n",
    "reference = \"/ru-auth/local/home/ezheng/SoxOct/chipseq/Soufi2012/Sox_peaks_200.gtf\"\n",
    "outfile =                            \"~/SoxOct/chipseq/Soufi2012/Sox_motifs_200.strand.bed\"\n",
    "\n",
    "process_strand(infile = infile,reference = reference,outfile = outfile, DNAflank=200)"
   ]
  },
  {
   "cell_type": "code",
   "execution_count": 6,
   "metadata": {},
   "outputs": [
    {
     "name": "stderr",
     "output_type": "stream",
     "text": [
      "/ru-auth/local/home/ezheng/miniconda3/lib/python3.6/site-packages/ipykernel_launcher.py:5: FutureWarning: read_table is deprecated, use read_csv instead, passing sep='\\t'.\n",
      "  \"\"\"\n"
     ]
    }
   ],
   "source": [
    "# Oct\n",
    "\n",
    "infile =    \"/ru-auth/local/home/ezheng/SoxOct/chipseq/Soufi2012/MEME_Oct4/fimo.txt\"\n",
    "reference = \"/ru-auth/local/home/ezheng/SoxOct/chipseq/Soufi2012/Oct_peaks_200.gtf\"\n",
    "outfile =                            \"~/SoxOct/chipseq/Soufi2012/Oct_motifs_200.strand.bed\"\n",
    "\n",
    "process_strand(infile = infile,reference = reference,outfile = outfile, DNAflank=200)"
   ]
  },
  {
   "cell_type": "code",
   "execution_count": 7,
   "metadata": {},
   "outputs": [
    {
     "name": "stderr",
     "output_type": "stream",
     "text": [
      "/ru-auth/local/home/ezheng/miniconda3/lib/python3.6/site-packages/ipykernel_launcher.py:5: FutureWarning: read_table is deprecated, use read_csv instead, passing sep='\\t'.\n",
      "  \"\"\"\n"
     ]
    }
   ],
   "source": [
    "# tandem\n",
    "\n",
    "infile =    \"/ru-auth/local/home/ezheng/SoxOct/chipseq/Soufi2012/MEME_tandem/fimo.txt\"\n",
    "reference = \"/ru-auth/local/home/ezheng/SoxOct/chipseq/Soufi2012/tandem_peaks_200.gtf\"\n",
    "outfile =                            \"~/SoxOct/chipseq/Soufi2012/tandem_motifs_200.strand.bed\"\n",
    "\n",
    "process_strand(infile = infile,reference = reference,outfile = outfile, DNAflank=200)"
   ]
  },
  {
   "cell_type": "code",
   "execution_count": 8,
   "metadata": {},
   "outputs": [
    {
     "name": "stderr",
     "output_type": "stream",
     "text": [
      "/ru-auth/local/home/ezheng/miniconda3/lib/python3.6/site-packages/ipykernel_launcher.py:5: FutureWarning: read_table is deprecated, use read_csv instead, passing sep='\\t'.\n",
      "  \"\"\"\n"
     ]
    }
   ],
   "source": [
    "# Sox74\n",
    "\n",
    "infile =    \"/ru-auth/local/home/ezheng/SoxOct/chipseq/Soufi2012/MEME_Sox2_74/fimo.txt\"\n",
    "reference = \"/ru-auth/local/home/ezheng/SoxOct/chipseq/Soufi2012/Sox_peaks_200.gtf\"\n",
    "outfile =                            \"~/SoxOct/chipseq/Soufi2012/Sox74_motifs_200.strand.bed\"\n",
    "\n",
    "process_strand(infile = infile,reference = reference,outfile = outfile, DNAflank=200)\n",
    "\n",
    "# Oct28\n",
    "\n",
    "infile =    \"/ru-auth/local/home/ezheng/SoxOct/chipseq/Soufi2012/MEME_Oct4_28/fimo.txt\"\n",
    "reference = \"/ru-auth/local/home/ezheng/SoxOct/chipseq/Soufi2012/Oct_peaks_200.gtf\"\n",
    "outfile =                            \"~/SoxOct/chipseq/Soufi2012/Oct28_motifs_200.strand.bed\"\n",
    "\n",
    "process_strand(infile = infile,reference = reference,outfile = outfile, DNAflank=200)\n",
    "\n",
    "# Oct42\n",
    "\n",
    "infile =    \"/ru-auth/local/home/ezheng/SoxOct/chipseq/Soufi2012/MEME_Oct4_42/fimo.txt\"\n",
    "reference = \"/ru-auth/local/home/ezheng/SoxOct/chipseq/Soufi2012/Oct_peaks_200.gtf\"\n",
    "outfile =                            \"~/SoxOct/chipseq/Soufi2012/Oct42_motifs_200.strand.bed\"\n",
    "\n",
    "process_strand(infile = infile,reference = reference,outfile = outfile, DNAflank=200)"
   ]
  },
  {
   "cell_type": "code",
   "execution_count": null,
   "metadata": {},
   "outputs": [],
   "source": []
  }
 ],
 "metadata": {
  "kernelspec": {
   "display_name": "Python 3",
   "language": "python",
   "name": "python3"
  },
  "language_info": {
   "codemirror_mode": {
    "name": "ipython",
    "version": 3
   },
   "file_extension": ".py",
   "mimetype": "text/x-python",
   "name": "python",
   "nbconvert_exporter": "python",
   "pygments_lexer": "ipython3",
   "version": "3.6.8"
  },
  "notify_time": "5",
  "toc": {
   "nav_menu": {},
   "number_sections": true,
   "sideBar": true,
   "skip_h1_title": false,
   "toc_cell": false,
   "toc_position": {},
   "toc_section_display": "block",
   "toc_window_display": false
  }
 },
 "nbformat": 4,
 "nbformat_minor": 2
}
